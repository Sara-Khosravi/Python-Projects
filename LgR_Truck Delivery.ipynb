{
 "cells": [
  {
   "cell_type": "markdown",
   "metadata": {},
   "source": [
    "# ************Sara Khosravi********"
   ]
  },
  {
   "cell_type": "markdown",
   "metadata": {},
   "source": [
    "## Truck delivery optimization"
   ]
  },
  {
   "cell_type": "markdown",
   "metadata": {},
   "source": [
    "As a Logistics company, it is necessary to provide an effective trip experience to the customer in an optimized cost.\n",
    "\n",
    "To provide an effective service we need to identify the parameters that impact the on-time arrival of the truck.\n",
    "With the pattern formed we need to formulate the data points that would help reduce the trip cost"
   ]
  },
  {
   "cell_type": "raw",
   "metadata": {},
   "source": [
    "About this file\n",
    "Dataset Description:\n",
    "GpsProvider - Vendor who provides GPS\n",
    "BookingID - Unique Identification for a trip\n",
    "Market/Regular - Type of trip. Regular - Vendors with whom we will have contract. Market - Vendor with whom we will not have contract\n",
    "BookingIDDate - Date when booking was created vehicleno - Truck Number\n",
    "OriginLocation - Trip start place DestinationLocation - Trip end place\n",
    "Orglatlon - Latitude/Longitude of start place\n",
    "Deslatlon - Latitude/Longitude of end place\n",
    "DataPingtime - Time when we receive GPS ping\n",
    "PlannedETA - Planned Estimated Time of Arrival CurrentLocation - Live location\n",
    "DestinationLocation - Repeat of destination location\n",
    "actualeta - Time when the truck arrived Currlat - current latitude - changes each time when we receive GPS ping\n",
    "Currlon - current longitude - changes each time when we receive GPS ping ontime - If the truck arrived on time - calculated based on Planned and Actual ETA delay - If the truck arrived with a delay - calculated based on Planned and Actual ETA OriginLocationCode - Origin code\n",
    "DestinationLocationCode - Destination code tripstartdate - Date/Time when trip started tripenddate Date/Time when trip ended - based on documentation (cant be considered for calculating delay)\\ TRANSPORTATIONDISTANCEINKM - Total KM of travel\n",
    "vehicleType - Type of Truck\n",
    "Minimumkmstobecoveredinaday - Minimum KM the driver needs to cover in a day DriverName - Driver details\n",
    "Driver_MobileNo - Driver details\n",
    "customerID - Customer details\n",
    "customerNameCode - Customer details\n",
    "supplierID - Supplier - Who provides the vehicle\n",
    "supplierNameCode - Supplier - Who provides the vehicle\n"
   ]
  },
  {
   "cell_type": "code",
   "execution_count": 1,
   "metadata": {},
   "outputs": [
    {
     "data": {
      "text/plain": [
       "'C:\\\\Sara\\\\Data SCIENCE\\\\DataMining\\\\Project'"
      ]
     },
     "execution_count": 1,
     "metadata": {},
     "output_type": "execute_result"
    }
   ],
   "source": [
    "# This Python 3 environment comes with many helpful analytics libraries installed\n",
    "# For example, here's several helpful packages to load\n",
    "\n",
    "import warnings\n",
    "warnings.filterwarnings('ignore')\n",
    "\n",
    "import numpy as np # linear algebra\n",
    "import pandas as pd # data processing, CSV file I/O (e.g. pd.read_csv)\n",
    "\n",
    "import matplotlib.pyplot as plt\n",
    "import seaborn as sns\n",
    "\n",
    "plt.style.use('ggplot')\n",
    "\n",
    "import pandas_profiling\n",
    "\n",
    "# Input data files are available in the read-only \"../input/\" directory\n",
    "# For example, running this (by clicking run or pressing Shift+Enter) will list all files under the input directory\n",
    "\n",
    "import os\n",
    "os.chdir(r'C:\\Sara\\Data SCIENCE\\DataMining\\Project')\n",
    "os.getcwd()\n"
   ]
  },
  {
   "cell_type": "markdown",
   "metadata": {},
   "source": [
    "###### What are the types of data analysis in Python?\n",
    "\n",
    "Data can be in any of the popular formats - CSV, TXT, XLS/XLSX (Excel), sas7bdat (SAS), Stata, Rdata (R) etc. Loading data in python environment is the most initial step of analyzing data. Date Type variable in consistent date format. pandas is a powerful data analysis package. It makes data exploration and manipulation easy."
   ]
  },
  {
   "cell_type": "code",
   "execution_count": 2,
   "metadata": {},
   "outputs": [
    {
     "data": {
      "text/plain": [
       "(6880, 32)"
      ]
     },
     "execution_count": 2,
     "metadata": {},
     "output_type": "execute_result"
    }
   ],
   "source": [
    "data=pd.read_excel(r'C:\\Sara\\Data SCIENCE\\DataMining\\Project\\Delivery truck trip data.xlsx')\n",
    "data.shape"
   ]
  },
  {
   "cell_type": "markdown",
   "metadata": {},
   "source": [
    "##### DataFrame - head() function\n",
    "\n",
    "Pandas DataFrame head () Method in Python By Ankit Lathiya Last updated May 26, 2020 Pandas DataFrame head () method returns top n rows of a DataFrame or Series where n is a user input value. The head () function is used to get the first n rows.\n",
    "The head () function is used to get the first n rows. It is useful for quickly testing if your object has the right type of data in it. For negative values of n, the head () function returns all rows except the last n rows, equivalent to df [:-n]. The head () method in python contains only one parameter, which is n."
   ]
  },
  {
   "cell_type": "code",
   "execution_count": 3,
   "metadata": {},
   "outputs": [
    {
     "data": {
      "text/html": [
       "<div>\n",
       "<style scoped>\n",
       "    .dataframe tbody tr th:only-of-type {\n",
       "        vertical-align: middle;\n",
       "    }\n",
       "\n",
       "    .dataframe tbody tr th {\n",
       "        vertical-align: top;\n",
       "    }\n",
       "\n",
       "    .dataframe thead th {\n",
       "        text-align: right;\n",
       "    }\n",
       "</style>\n",
       "<table border=\"1\" class=\"dataframe\">\n",
       "  <thead>\n",
       "    <tr style=\"text-align: right;\">\n",
       "      <th></th>\n",
       "      <th>GpsProvider</th>\n",
       "      <th>BookingID</th>\n",
       "      <th>Market/Regular</th>\n",
       "      <th>BookingID_Date</th>\n",
       "      <th>vehicle_no</th>\n",
       "      <th>Origin_Location</th>\n",
       "      <th>Destination_Location</th>\n",
       "      <th>Org_lat_lon</th>\n",
       "      <th>Des_lat_lon</th>\n",
       "      <th>Data_Ping_time</th>\n",
       "      <th>...</th>\n",
       "      <th>TRANSPORTATION_DISTANCE_IN_KM</th>\n",
       "      <th>vehicleType</th>\n",
       "      <th>Minimum_kms_to_be_covered_in_a_day</th>\n",
       "      <th>Driver_Name</th>\n",
       "      <th>Driver_MobileNo</th>\n",
       "      <th>customerID</th>\n",
       "      <th>customerNameCode</th>\n",
       "      <th>supplierID</th>\n",
       "      <th>supplierNameCode</th>\n",
       "      <th>Material Shipped</th>\n",
       "    </tr>\n",
       "  </thead>\n",
       "  <tbody>\n",
       "    <tr>\n",
       "      <th>0</th>\n",
       "      <td>CONSENT TRACK</td>\n",
       "      <td>MVCV0000927/082021</td>\n",
       "      <td>Market</td>\n",
       "      <td>2020-08-17 14:59:01.000</td>\n",
       "      <td>KA590408</td>\n",
       "      <td>TVSLSL-PUZHAL-HUB,CHENNAI,TAMIL NADU</td>\n",
       "      <td>ASHOK LEYLAND PLANT 1- HOSUR,HOSUR,KARNATAKA</td>\n",
       "      <td>13.1550,80.1960</td>\n",
       "      <td>12.7400,77.8200</td>\n",
       "      <td>2020-08-24 00:05:09</td>\n",
       "      <td>...</td>\n",
       "      <td>320.0</td>\n",
       "      <td>NaN</td>\n",
       "      <td>NaN</td>\n",
       "      <td>NaN</td>\n",
       "      <td>NaN</td>\n",
       "      <td>ALLEXCHE45</td>\n",
       "      <td>Ashok leyland limited</td>\n",
       "      <td>VIJEXHOSR7</td>\n",
       "      <td>VIJAY TRANSPORT</td>\n",
       "      <td>BRACKET / GRAB HANDLE</td>\n",
       "    </tr>\n",
       "    <tr>\n",
       "      <th>1</th>\n",
       "      <td>VAMOSYS</td>\n",
       "      <td>VCV00014271/082021</td>\n",
       "      <td>Regular</td>\n",
       "      <td>2020-08-27 16:22:22.827</td>\n",
       "      <td>TN30BC5917</td>\n",
       "      <td>DAIMLER INDIA COMMERCIAL VEHICLES,KANCHIPURAM,...</td>\n",
       "      <td>DAIMLER INDIA COMMERCIAL VEHICLES,KANCHIPURAM,...</td>\n",
       "      <td>12.8390,79.9540</td>\n",
       "      <td>12.8390,79.9540</td>\n",
       "      <td>2020-08-28 12:40:28</td>\n",
       "      <td>...</td>\n",
       "      <td>103.0</td>\n",
       "      <td>NaN</td>\n",
       "      <td>NaN</td>\n",
       "      <td>RAMESH</td>\n",
       "      <td>NaN</td>\n",
       "      <td>DMREXCHEUX</td>\n",
       "      <td>Daimler india commercial vehicles pvt lt</td>\n",
       "      <td>VJLEXSHE09</td>\n",
       "      <td>VJ LOGISTICS</td>\n",
       "      <td>ZB MODEL PLATE / 3143</td>\n",
       "    </tr>\n",
       "    <tr>\n",
       "      <th>2</th>\n",
       "      <td>CONSENT TRACK</td>\n",
       "      <td>VCV00014382/082021</td>\n",
       "      <td>Regular</td>\n",
       "      <td>2020-08-27 17:59:24.987</td>\n",
       "      <td>TN22AR2748</td>\n",
       "      <td>LUCAS TVS LTD-PONDY,PONDY,PONDICHERRY</td>\n",
       "      <td>LUCAS TVS LTD-PONDY,PONDY,PONDICHERRY</td>\n",
       "      <td>11.8710,79.7390</td>\n",
       "      <td>11.8710,79.7390</td>\n",
       "      <td>2020-08-28 09:05:09</td>\n",
       "      <td>...</td>\n",
       "      <td>300.0</td>\n",
       "      <td>NaN</td>\n",
       "      <td>NaN</td>\n",
       "      <td>GIRI</td>\n",
       "      <td>NaN</td>\n",
       "      <td>LUTGCCHE06</td>\n",
       "      <td>Lucas tvs ltd</td>\n",
       "      <td>GSTEXLAK1Q</td>\n",
       "      <td>G.S. TRANSPORT</td>\n",
       "      <td>LETTERING / FUSO</td>\n",
       "    </tr>\n",
       "    <tr>\n",
       "      <th>3</th>\n",
       "      <td>VAMOSYS</td>\n",
       "      <td>VCV00014743/082021</td>\n",
       "      <td>Regular</td>\n",
       "      <td>2020-08-28 00:48:24.503</td>\n",
       "      <td>TN28AQ0781</td>\n",
       "      <td>DAIMLER INDIA COMMERCIAL VEHICLES,KANCHIPURAM,...</td>\n",
       "      <td>DAIMLER INDIA COMMERCIAL VEHICLES,KANCHIPURAM,...</td>\n",
       "      <td>12.8390,79.9540</td>\n",
       "      <td>12.8390,79.9540</td>\n",
       "      <td>2020-08-28 12:40:31</td>\n",
       "      <td>...</td>\n",
       "      <td>61.0</td>\n",
       "      <td>NaN</td>\n",
       "      <td>NaN</td>\n",
       "      <td>RAVI</td>\n",
       "      <td>NaN</td>\n",
       "      <td>DMREXCHEUX</td>\n",
       "      <td>Daimler india commercial vehicles pvt lt</td>\n",
       "      <td>ARVEXNAM09</td>\n",
       "      <td>ARVINTH TRANSPORT</td>\n",
       "      <td>LU STRUT RA / RADIUS ROD</td>\n",
       "    </tr>\n",
       "    <tr>\n",
       "      <th>4</th>\n",
       "      <td>VAMOSYS</td>\n",
       "      <td>VCV00014744/082021</td>\n",
       "      <td>Regular</td>\n",
       "      <td>2020-08-28 01:23:19.243</td>\n",
       "      <td>TN68F1722</td>\n",
       "      <td>LUCAS TVS LTD-PONDY,PONDY,PONDICHERRY</td>\n",
       "      <td>LUCAS TVS LTD-PONDY,PONDY,PONDICHERRY</td>\n",
       "      <td>11.8720,79.6320</td>\n",
       "      <td>11.8720,79.6320</td>\n",
       "      <td>2020-08-28 12:40:29</td>\n",
       "      <td>...</td>\n",
       "      <td>240.0</td>\n",
       "      <td>NaN</td>\n",
       "      <td>NaN</td>\n",
       "      <td>TAMIL</td>\n",
       "      <td>NaN</td>\n",
       "      <td>LUTGCCHE06</td>\n",
       "      <td>Lucas tvs ltd</td>\n",
       "      <td>SRTEXKOR96</td>\n",
       "      <td>SR TRANSPORTS</td>\n",
       "      <td>WISHBONE / V ROD/HDT</td>\n",
       "    </tr>\n",
       "  </tbody>\n",
       "</table>\n",
       "<p>5 rows × 32 columns</p>\n",
       "</div>"
      ],
      "text/plain": [
       "     GpsProvider           BookingID Market/Regular           BookingID_Date  \\\n",
       "0  CONSENT TRACK  MVCV0000927/082021          Market 2020-08-17 14:59:01.000   \n",
       "1        VAMOSYS  VCV00014271/082021         Regular 2020-08-27 16:22:22.827   \n",
       "2  CONSENT TRACK  VCV00014382/082021         Regular 2020-08-27 17:59:24.987   \n",
       "3        VAMOSYS  VCV00014743/082021         Regular 2020-08-28 00:48:24.503   \n",
       "4        VAMOSYS  VCV00014744/082021         Regular 2020-08-28 01:23:19.243   \n",
       "\n",
       "   vehicle_no                                    Origin_Location  \\\n",
       "0    KA590408               TVSLSL-PUZHAL-HUB,CHENNAI,TAMIL NADU   \n",
       "1  TN30BC5917  DAIMLER INDIA COMMERCIAL VEHICLES,KANCHIPURAM,...   \n",
       "2  TN22AR2748              LUCAS TVS LTD-PONDY,PONDY,PONDICHERRY   \n",
       "3  TN28AQ0781  DAIMLER INDIA COMMERCIAL VEHICLES,KANCHIPURAM,...   \n",
       "4   TN68F1722              LUCAS TVS LTD-PONDY,PONDY,PONDICHERRY   \n",
       "\n",
       "                                Destination_Location      Org_lat_lon  \\\n",
       "0       ASHOK LEYLAND PLANT 1- HOSUR,HOSUR,KARNATAKA  13.1550,80.1960   \n",
       "1  DAIMLER INDIA COMMERCIAL VEHICLES,KANCHIPURAM,...  12.8390,79.9540   \n",
       "2              LUCAS TVS LTD-PONDY,PONDY,PONDICHERRY  11.8710,79.7390   \n",
       "3  DAIMLER INDIA COMMERCIAL VEHICLES,KANCHIPURAM,...  12.8390,79.9540   \n",
       "4              LUCAS TVS LTD-PONDY,PONDY,PONDICHERRY  11.8720,79.6320   \n",
       "\n",
       "       Des_lat_lon      Data_Ping_time  ... TRANSPORTATION_DISTANCE_IN_KM  \\\n",
       "0  12.7400,77.8200 2020-08-24 00:05:09  ...                         320.0   \n",
       "1  12.8390,79.9540 2020-08-28 12:40:28  ...                         103.0   \n",
       "2  11.8710,79.7390 2020-08-28 09:05:09  ...                         300.0   \n",
       "3  12.8390,79.9540 2020-08-28 12:40:31  ...                          61.0   \n",
       "4  11.8720,79.6320 2020-08-28 12:40:29  ...                         240.0   \n",
       "\n",
       "  vehicleType Minimum_kms_to_be_covered_in_a_day Driver_Name  Driver_MobileNo  \\\n",
       "0         NaN                                NaN         NaN              NaN   \n",
       "1         NaN                                NaN      RAMESH              NaN   \n",
       "2         NaN                                NaN        GIRI              NaN   \n",
       "3         NaN                                NaN        RAVI              NaN   \n",
       "4         NaN                                NaN       TAMIL              NaN   \n",
       "\n",
       "   customerID                          customerNameCode  supplierID  \\\n",
       "0  ALLEXCHE45                     Ashok leyland limited  VIJEXHOSR7   \n",
       "1  DMREXCHEUX  Daimler india commercial vehicles pvt lt  VJLEXSHE09   \n",
       "2  LUTGCCHE06                             Lucas tvs ltd  GSTEXLAK1Q   \n",
       "3  DMREXCHEUX  Daimler india commercial vehicles pvt lt  ARVEXNAM09   \n",
       "4  LUTGCCHE06                             Lucas tvs ltd  SRTEXKOR96   \n",
       "\n",
       "    supplierNameCode          Material Shipped  \n",
       "0    VIJAY TRANSPORT     BRACKET / GRAB HANDLE  \n",
       "1       VJ LOGISTICS     ZB MODEL PLATE / 3143  \n",
       "2     G.S. TRANSPORT          LETTERING / FUSO  \n",
       "3  ARVINTH TRANSPORT  LU STRUT RA / RADIUS ROD  \n",
       "4      SR TRANSPORTS      WISHBONE / V ROD/HDT  \n",
       "\n",
       "[5 rows x 32 columns]"
      ]
     },
     "execution_count": 3,
     "metadata": {},
     "output_type": "execute_result"
    }
   ],
   "source": [
    "data.head(5)"
   ]
  },
  {
   "cell_type": "markdown",
   "metadata": {},
   "source": [
    "##### DataFrame - tail() function\n",
    "\n",
    "The tail() function is used to get the last n rows. This function returns last n rows from the object based on position. It is useful for quickly verifying data, for example, after sorting or appending rows. Syntax: DataFrame.tail(self, n=5) Parameters:"
   ]
  },
  {
   "cell_type": "code",
   "execution_count": 4,
   "metadata": {},
   "outputs": [
    {
     "data": {
      "text/html": [
       "<div>\n",
       "<style scoped>\n",
       "    .dataframe tbody tr th:only-of-type {\n",
       "        vertical-align: middle;\n",
       "    }\n",
       "\n",
       "    .dataframe tbody tr th {\n",
       "        vertical-align: top;\n",
       "    }\n",
       "\n",
       "    .dataframe thead th {\n",
       "        text-align: right;\n",
       "    }\n",
       "</style>\n",
       "<table border=\"1\" class=\"dataframe\">\n",
       "  <thead>\n",
       "    <tr style=\"text-align: right;\">\n",
       "      <th></th>\n",
       "      <th>GpsProvider</th>\n",
       "      <th>BookingID</th>\n",
       "      <th>Market/Regular</th>\n",
       "      <th>BookingID_Date</th>\n",
       "      <th>vehicle_no</th>\n",
       "      <th>Origin_Location</th>\n",
       "      <th>Destination_Location</th>\n",
       "      <th>Org_lat_lon</th>\n",
       "      <th>Des_lat_lon</th>\n",
       "      <th>Data_Ping_time</th>\n",
       "      <th>...</th>\n",
       "      <th>TRANSPORTATION_DISTANCE_IN_KM</th>\n",
       "      <th>vehicleType</th>\n",
       "      <th>Minimum_kms_to_be_covered_in_a_day</th>\n",
       "      <th>Driver_Name</th>\n",
       "      <th>Driver_MobileNo</th>\n",
       "      <th>customerID</th>\n",
       "      <th>customerNameCode</th>\n",
       "      <th>supplierID</th>\n",
       "      <th>supplierNameCode</th>\n",
       "      <th>Material Shipped</th>\n",
       "    </tr>\n",
       "  </thead>\n",
       "  <tbody>\n",
       "    <tr>\n",
       "      <th>6875</th>\n",
       "      <td>JTECH</td>\n",
       "      <td>WDSBKTP42751</td>\n",
       "      <td>Regular</td>\n",
       "      <td>2019-03-27 17:25:33</td>\n",
       "      <td>KA219502</td>\n",
       "      <td>Ramamurthy Nagar, Bangalore, Karnataka</td>\n",
       "      <td>Sahakaranagar P.O, Bangalore, Karnataka</td>\n",
       "      <td>13.007503209603689,77.665098855934886</td>\n",
       "      <td>13.068901840235711,77.590655738806618</td>\n",
       "      <td>2019-06-14 15:20:12</td>\n",
       "      <td>...</td>\n",
       "      <td>12.0</td>\n",
       "      <td>25 FT Open Body 21MT</td>\n",
       "      <td>NaN</td>\n",
       "      <td>NaN</td>\n",
       "      <td>NaN</td>\n",
       "      <td>LTLEXMUM40</td>\n",
       "      <td>Larsen &amp; toubro limited</td>\n",
       "      <td>55556</td>\n",
       "      <td>A S TRANSPORTS</td>\n",
       "      <td>TOOL KIT SET</td>\n",
       "    </tr>\n",
       "    <tr>\n",
       "      <th>6876</th>\n",
       "      <td>JTECH</td>\n",
       "      <td>WDSBKTP43203</td>\n",
       "      <td>Regular</td>\n",
       "      <td>2019-03-31 15:02:34</td>\n",
       "      <td>KA01AE9163</td>\n",
       "      <td>Ramamurthy Nagar, Bangalore, Karnataka</td>\n",
       "      <td>Bangalore International Airport, Bangalore, Ka...</td>\n",
       "      <td>13.007503209603689,77.665098855934886</td>\n",
       "      <td>13.196312912801169,77.708156925688726</td>\n",
       "      <td>2019-06-14 15:20:12</td>\n",
       "      <td>...</td>\n",
       "      <td>31.0</td>\n",
       "      <td>40 FT 3XL Trailer 35MT</td>\n",
       "      <td>NaN</td>\n",
       "      <td>NaN</td>\n",
       "      <td>NaN</td>\n",
       "      <td>LTLEXMUM40</td>\n",
       "      <td>Larsen &amp; toubro limited</td>\n",
       "      <td>55556</td>\n",
       "      <td>A S TRANSPORTS</td>\n",
       "      <td>CONTROL LEVER ASSY</td>\n",
       "    </tr>\n",
       "    <tr>\n",
       "      <th>6877</th>\n",
       "      <td>JTECH</td>\n",
       "      <td>WDSBKTP43021</td>\n",
       "      <td>Regular</td>\n",
       "      <td>2019-03-29 18:56:26</td>\n",
       "      <td>KA01AE9163</td>\n",
       "      <td>Mugabala, Bangalore Rural, Karnataka</td>\n",
       "      <td>Anekal, Bangalore, Karnataka</td>\n",
       "      <td>16.560192249175344,80.792293091599547</td>\n",
       "      <td>12.722686,77.676518</td>\n",
       "      <td>2019-06-14 15:20:12</td>\n",
       "      <td>...</td>\n",
       "      <td>49.0</td>\n",
       "      <td>40 FT 3XL Trailer 35MT</td>\n",
       "      <td>NaN</td>\n",
       "      <td>NaN</td>\n",
       "      <td>NaN</td>\n",
       "      <td>LTLEXMUM40</td>\n",
       "      <td>Larsen &amp; toubro limited</td>\n",
       "      <td>55556</td>\n",
       "      <td>A S TRANSPORTS</td>\n",
       "      <td>SPARE PARTS AUTOMOBILE</td>\n",
       "    </tr>\n",
       "    <tr>\n",
       "      <th>6878</th>\n",
       "      <td>JTECH</td>\n",
       "      <td>WDSBKTP42685</td>\n",
       "      <td>Regular</td>\n",
       "      <td>2019-03-27 08:29:45</td>\n",
       "      <td>KA21A3643</td>\n",
       "      <td>Mugabala, Bangalore Rural, Karnataka</td>\n",
       "      <td>Anekal, Bangalore, Karnataka</td>\n",
       "      <td>16.560192249175344,80.792293091599547</td>\n",
       "      <td>12.896896847817695,77.712223056874862</td>\n",
       "      <td>2019-06-14 15:20:12</td>\n",
       "      <td>...</td>\n",
       "      <td>49.0</td>\n",
       "      <td>40 FT 3XL Trailer 35MT</td>\n",
       "      <td>NaN</td>\n",
       "      <td>NaN</td>\n",
       "      <td>NaN</td>\n",
       "      <td>LTLEXMUM40</td>\n",
       "      <td>Larsen &amp; toubro limited</td>\n",
       "      <td>55556</td>\n",
       "      <td>A S TRANSPORTS</td>\n",
       "      <td>SPARE PARTS AUTOMOBILE</td>\n",
       "    </tr>\n",
       "    <tr>\n",
       "      <th>6879</th>\n",
       "      <td>JTECH</td>\n",
       "      <td>WDSBKTP42858</td>\n",
       "      <td>Regular</td>\n",
       "      <td>2019-03-28 17:55:17</td>\n",
       "      <td>KA51D1317</td>\n",
       "      <td>Mugabala, Bangalore Rural, Karnataka</td>\n",
       "      <td>Anekal, Bangalore, Karnataka</td>\n",
       "      <td>16.560192249175344,80.792293091599547</td>\n",
       "      <td>13.199089183304451,77.708554234959038</td>\n",
       "      <td>2019-06-14 15:20:12</td>\n",
       "      <td>...</td>\n",
       "      <td>49.0</td>\n",
       "      <td>40 FT 3XL Trailer 35MT</td>\n",
       "      <td>NaN</td>\n",
       "      <td>NaN</td>\n",
       "      <td>NaN</td>\n",
       "      <td>LTLEXMUM40</td>\n",
       "      <td>Larsen &amp; toubro limited</td>\n",
       "      <td>55556</td>\n",
       "      <td>A S TRANSPORTS</td>\n",
       "      <td>SPARE PARTS AUTOMOBILE</td>\n",
       "    </tr>\n",
       "  </tbody>\n",
       "</table>\n",
       "<p>5 rows × 32 columns</p>\n",
       "</div>"
      ],
      "text/plain": [
       "     GpsProvider     BookingID Market/Regular       BookingID_Date  \\\n",
       "6875       JTECH  WDSBKTP42751         Regular 2019-03-27 17:25:33   \n",
       "6876       JTECH  WDSBKTP43203         Regular 2019-03-31 15:02:34   \n",
       "6877       JTECH  WDSBKTP43021         Regular 2019-03-29 18:56:26   \n",
       "6878       JTECH  WDSBKTP42685         Regular 2019-03-27 08:29:45   \n",
       "6879       JTECH  WDSBKTP42858         Regular 2019-03-28 17:55:17   \n",
       "\n",
       "      vehicle_no                         Origin_Location  \\\n",
       "6875    KA219502  Ramamurthy Nagar, Bangalore, Karnataka   \n",
       "6876  KA01AE9163  Ramamurthy Nagar, Bangalore, Karnataka   \n",
       "6877  KA01AE9163    Mugabala, Bangalore Rural, Karnataka   \n",
       "6878   KA21A3643    Mugabala, Bangalore Rural, Karnataka   \n",
       "6879   KA51D1317    Mugabala, Bangalore Rural, Karnataka   \n",
       "\n",
       "                                   Destination_Location  \\\n",
       "6875            Sahakaranagar P.O, Bangalore, Karnataka   \n",
       "6876  Bangalore International Airport, Bangalore, Ka...   \n",
       "6877                       Anekal, Bangalore, Karnataka   \n",
       "6878                       Anekal, Bangalore, Karnataka   \n",
       "6879                       Anekal, Bangalore, Karnataka   \n",
       "\n",
       "                                Org_lat_lon  \\\n",
       "6875  13.007503209603689,77.665098855934886   \n",
       "6876  13.007503209603689,77.665098855934886   \n",
       "6877  16.560192249175344,80.792293091599547   \n",
       "6878  16.560192249175344,80.792293091599547   \n",
       "6879  16.560192249175344,80.792293091599547   \n",
       "\n",
       "                                Des_lat_lon      Data_Ping_time  ...  \\\n",
       "6875  13.068901840235711,77.590655738806618 2019-06-14 15:20:12  ...   \n",
       "6876  13.196312912801169,77.708156925688726 2019-06-14 15:20:12  ...   \n",
       "6877                    12.722686,77.676518 2019-06-14 15:20:12  ...   \n",
       "6878  12.896896847817695,77.712223056874862 2019-06-14 15:20:12  ...   \n",
       "6879  13.199089183304451,77.708554234959038 2019-06-14 15:20:12  ...   \n",
       "\n",
       "     TRANSPORTATION_DISTANCE_IN_KM             vehicleType  \\\n",
       "6875                          12.0    25 FT Open Body 21MT   \n",
       "6876                          31.0  40 FT 3XL Trailer 35MT   \n",
       "6877                          49.0  40 FT 3XL Trailer 35MT   \n",
       "6878                          49.0  40 FT 3XL Trailer 35MT   \n",
       "6879                          49.0  40 FT 3XL Trailer 35MT   \n",
       "\n",
       "     Minimum_kms_to_be_covered_in_a_day Driver_Name  Driver_MobileNo  \\\n",
       "6875                                NaN         NaN              NaN   \n",
       "6876                                NaN         NaN              NaN   \n",
       "6877                                NaN         NaN              NaN   \n",
       "6878                                NaN         NaN              NaN   \n",
       "6879                                NaN         NaN              NaN   \n",
       "\n",
       "      customerID         customerNameCode supplierID supplierNameCode  \\\n",
       "6875  LTLEXMUM40  Larsen & toubro limited      55556   A S TRANSPORTS   \n",
       "6876  LTLEXMUM40  Larsen & toubro limited      55556   A S TRANSPORTS   \n",
       "6877  LTLEXMUM40  Larsen & toubro limited      55556   A S TRANSPORTS   \n",
       "6878  LTLEXMUM40  Larsen & toubro limited      55556   A S TRANSPORTS   \n",
       "6879  LTLEXMUM40  Larsen & toubro limited      55556   A S TRANSPORTS   \n",
       "\n",
       "            Material Shipped  \n",
       "6875            TOOL KIT SET  \n",
       "6876      CONTROL LEVER ASSY  \n",
       "6877  SPARE PARTS AUTOMOBILE  \n",
       "6878  SPARE PARTS AUTOMOBILE  \n",
       "6879  SPARE PARTS AUTOMOBILE  \n",
       "\n",
       "[5 rows x 32 columns]"
      ]
     },
     "execution_count": 4,
     "metadata": {},
     "output_type": "execute_result"
    }
   ],
   "source": [
    "data.tail(5)"
   ]
  },
  {
   "cell_type": "markdown",
   "metadata": {},
   "source": [
    "##### iloc () \n",
    "Python iloc () function enables us to select a particular cell of the dataset, that is, it helps us select a value that belongs to a particular row or column from a set of values of a data frame or dataset. With iloc () function, we can retrieve a particular value belonging to a row and column using the index values assigned to it.\n",
    "Python | Extracting rows using Pandas .iloc[] Python is a great language for doing data analysis, primarily because of the fantastic ecosystem of data-centric Python packages. Pandas is one of those packages and makes importing and analyzing data much easier. Pandas provide a unique method to retrieve rows from a Data frame."
   ]
  },
  {
   "cell_type": "code",
   "execution_count": 5,
   "metadata": {},
   "outputs": [
    {
     "data": {
      "text/plain": [
       "(6880, 32)"
      ]
     },
     "execution_count": 5,
     "metadata": {},
     "output_type": "execute_result"
    }
   ],
   "source": [
    "data=data.iloc[:6880, :]\n",
    "data.shape"
   ]
  },
  {
   "cell_type": "markdown",
   "metadata": {},
   "source": [
    "##### set_option(param,value)\n",
    "\n",
    "set_option takes two arguments and sets the value to the parameter as shown below −\n",
    "\n",
    "display.max_rows\n",
    "Using set_option(), we can change the default number of rows to be displayed."
   ]
  },
  {
   "cell_type": "markdown",
   "metadata": {},
   "source": [
    "Pandas provide API to customize some aspects of its behavior, display is being mostly used.\n",
    "\n",
    "The API is composed of five relevant functions. They are −\n",
    "\n",
    "get_option()\n",
    "set_option()\n",
    "reset_option()\n",
    "describe_option()\n",
    "option_context()\n",
    "Let us now understand how the functions operate."
   ]
  },
  {
   "cell_type": "markdown",
   "metadata": {},
   "source": [
    "\n",
    "##### How to widen output display to see more columns in Pandas dataframe?\n",
    "\n",
    "In Python, if there are many more number of columns in the dataframe, then not all the columns will be shown in the output display. So, let’s see how to widen output display to see more columns.\n",
    "\n",
    "Method: Using pandas.set_option() function.\n",
    "\n",
    "This function is used to set the value of a specified option."
   ]
  },
  {
   "cell_type": "code",
   "execution_count": 6,
   "metadata": {
    "scrolled": true
   },
   "outputs": [
    {
     "data": {
      "text/html": [
       "<div>\n",
       "<style scoped>\n",
       "    .dataframe tbody tr th:only-of-type {\n",
       "        vertical-align: middle;\n",
       "    }\n",
       "\n",
       "    .dataframe tbody tr th {\n",
       "        vertical-align: top;\n",
       "    }\n",
       "\n",
       "    .dataframe thead th {\n",
       "        text-align: right;\n",
       "    }\n",
       "</style>\n",
       "<table border=\"1\" class=\"dataframe\">\n",
       "  <thead>\n",
       "    <tr style=\"text-align: right;\">\n",
       "      <th></th>\n",
       "      <th>GpsProvider</th>\n",
       "      <th>BookingID</th>\n",
       "      <th>Market/Regular</th>\n",
       "      <th>BookingID_Date</th>\n",
       "      <th>vehicle_no</th>\n",
       "      <th>Origin_Location</th>\n",
       "      <th>Destination_Location</th>\n",
       "      <th>Org_lat_lon</th>\n",
       "      <th>Des_lat_lon</th>\n",
       "      <th>Data_Ping_time</th>\n",
       "      <th>Planned_ETA</th>\n",
       "      <th>Current_Location</th>\n",
       "      <th>DestinationLocation</th>\n",
       "      <th>actual_eta</th>\n",
       "      <th>Curr_lat</th>\n",
       "      <th>Curr_lon</th>\n",
       "      <th>ontime</th>\n",
       "      <th>delay</th>\n",
       "      <th>OriginLocation_Code</th>\n",
       "      <th>DestinationLocation_Code</th>\n",
       "      <th>trip_start_date</th>\n",
       "      <th>trip_end_date</th>\n",
       "      <th>TRANSPORTATION_DISTANCE_IN_KM</th>\n",
       "      <th>vehicleType</th>\n",
       "      <th>Minimum_kms_to_be_covered_in_a_day</th>\n",
       "      <th>Driver_Name</th>\n",
       "      <th>Driver_MobileNo</th>\n",
       "      <th>customerID</th>\n",
       "      <th>customerNameCode</th>\n",
       "      <th>supplierID</th>\n",
       "      <th>supplierNameCode</th>\n",
       "      <th>Material Shipped</th>\n",
       "    </tr>\n",
       "  </thead>\n",
       "  <tbody>\n",
       "    <tr>\n",
       "      <th>0</th>\n",
       "      <td>CONSENT TRACK</td>\n",
       "      <td>MVCV0000927/082021</td>\n",
       "      <td>Market</td>\n",
       "      <td>2020-08-17 14:59:01.000</td>\n",
       "      <td>KA590408</td>\n",
       "      <td>TVSLSL-PUZHAL-HUB,CHENNAI,TAMIL NADU</td>\n",
       "      <td>ASHOK LEYLAND PLANT 1- HOSUR,HOSUR,KARNATAKA</td>\n",
       "      <td>13.1550,80.1960</td>\n",
       "      <td>12.7400,77.8200</td>\n",
       "      <td>2020-08-24 00:05:09</td>\n",
       "      <td>2020-08-21 18:59:01.000</td>\n",
       "      <td>Vaniyambadi Rd, Valayambattu, Tamil Nadu 63575...</td>\n",
       "      <td>ASHOK LEYLAND PLANT 1- HOSUR,HOSUR,KARNATAKA</td>\n",
       "      <td>2020-08-28 14:38:04.447</td>\n",
       "      <td>12.663500</td>\n",
       "      <td>78.649870</td>\n",
       "      <td>NaN</td>\n",
       "      <td>R</td>\n",
       "      <td>CHEPUZTVSHUA1</td>\n",
       "      <td>HOSHOSALLCCA2</td>\n",
       "      <td>2020-08-17 14:59:01</td>\n",
       "      <td>NaT</td>\n",
       "      <td>320.0</td>\n",
       "      <td>NaN</td>\n",
       "      <td>NaN</td>\n",
       "      <td>NaN</td>\n",
       "      <td>NaN</td>\n",
       "      <td>ALLEXCHE45</td>\n",
       "      <td>Ashok leyland limited</td>\n",
       "      <td>VIJEXHOSR7</td>\n",
       "      <td>VIJAY TRANSPORT</td>\n",
       "      <td>BRACKET / GRAB HANDLE</td>\n",
       "    </tr>\n",
       "    <tr>\n",
       "      <th>1</th>\n",
       "      <td>VAMOSYS</td>\n",
       "      <td>VCV00014271/082021</td>\n",
       "      <td>Regular</td>\n",
       "      <td>2020-08-27 16:22:22.827</td>\n",
       "      <td>TN30BC5917</td>\n",
       "      <td>DAIMLER INDIA COMMERCIAL VEHICLES,KANCHIPURAM,...</td>\n",
       "      <td>DAIMLER INDIA COMMERCIAL VEHICLES,KANCHIPURAM,...</td>\n",
       "      <td>12.8390,79.9540</td>\n",
       "      <td>12.8390,79.9540</td>\n",
       "      <td>2020-08-28 12:40:28</td>\n",
       "      <td>2020-08-31 20:22:22.827</td>\n",
       "      <td>Unnamed Road, Oragadam Industrial Corridor, Va...</td>\n",
       "      <td>DAIMLER INDIA COMMERCIAL VEHICLES,KANCHIPURAM,...</td>\n",
       "      <td>2020-08-28 12:46:17.007</td>\n",
       "      <td>12.836757</td>\n",
       "      <td>79.954428</td>\n",
       "      <td>G</td>\n",
       "      <td>NaN</td>\n",
       "      <td>CHEORADMRCCB1</td>\n",
       "      <td>CHEMATDMROPA7</td>\n",
       "      <td>2020-08-27 16:21:52</td>\n",
       "      <td>NaT</td>\n",
       "      <td>103.0</td>\n",
       "      <td>NaN</td>\n",
       "      <td>NaN</td>\n",
       "      <td>RAMESH</td>\n",
       "      <td>NaN</td>\n",
       "      <td>DMREXCHEUX</td>\n",
       "      <td>Daimler india commercial vehicles pvt lt</td>\n",
       "      <td>VJLEXSHE09</td>\n",
       "      <td>VJ LOGISTICS</td>\n",
       "      <td>ZB MODEL PLATE / 3143</td>\n",
       "    </tr>\n",
       "    <tr>\n",
       "      <th>2</th>\n",
       "      <td>CONSENT TRACK</td>\n",
       "      <td>VCV00014382/082021</td>\n",
       "      <td>Regular</td>\n",
       "      <td>2020-08-27 17:59:24.987</td>\n",
       "      <td>TN22AR2748</td>\n",
       "      <td>LUCAS TVS LTD-PONDY,PONDY,PONDICHERRY</td>\n",
       "      <td>LUCAS TVS LTD-PONDY,PONDY,PONDICHERRY</td>\n",
       "      <td>11.8710,79.7390</td>\n",
       "      <td>11.8710,79.7390</td>\n",
       "      <td>2020-08-28 09:05:09</td>\n",
       "      <td>2020-08-31 21:59:24.987</td>\n",
       "      <td>570, National Hwy 48, Shenoy Nagar, Chennai, T...</td>\n",
       "      <td>LUCAS TVS LTD-PONDY,PONDY,PONDICHERRY</td>\n",
       "      <td>2020-08-28 16:03:30.793</td>\n",
       "      <td>13.073956</td>\n",
       "      <td>80.225780</td>\n",
       "      <td>G</td>\n",
       "      <td>NaN</td>\n",
       "      <td>CHEPONLUTCCA4</td>\n",
       "      <td>CHEPONLUTCCA4</td>\n",
       "      <td>2020-08-27 17:57:04</td>\n",
       "      <td>NaT</td>\n",
       "      <td>300.0</td>\n",
       "      <td>NaN</td>\n",
       "      <td>NaN</td>\n",
       "      <td>GIRI</td>\n",
       "      <td>NaN</td>\n",
       "      <td>LUTGCCHE06</td>\n",
       "      <td>Lucas tvs ltd</td>\n",
       "      <td>GSTEXLAK1Q</td>\n",
       "      <td>G.S. TRANSPORT</td>\n",
       "      <td>LETTERING / FUSO</td>\n",
       "    </tr>\n",
       "    <tr>\n",
       "      <th>3</th>\n",
       "      <td>VAMOSYS</td>\n",
       "      <td>VCV00014743/082021</td>\n",
       "      <td>Regular</td>\n",
       "      <td>2020-08-28 00:48:24.503</td>\n",
       "      <td>TN28AQ0781</td>\n",
       "      <td>DAIMLER INDIA COMMERCIAL VEHICLES,KANCHIPURAM,...</td>\n",
       "      <td>DAIMLER INDIA COMMERCIAL VEHICLES,KANCHIPURAM,...</td>\n",
       "      <td>12.8390,79.9540</td>\n",
       "      <td>12.8390,79.9540</td>\n",
       "      <td>2020-08-28 12:40:31</td>\n",
       "      <td>2020-09-01 04:48:24.503</td>\n",
       "      <td>Singaperumal Koil - Sriperumbudur Rd, Oragadam...</td>\n",
       "      <td>DAIMLER INDIA COMMERCIAL VEHICLES,KANCHIPURAM,...</td>\n",
       "      <td>2020-08-28 12:50:27.997</td>\n",
       "      <td>12.836686</td>\n",
       "      <td>79.950560</td>\n",
       "      <td>G</td>\n",
       "      <td>NaN</td>\n",
       "      <td>CHEORADMRCCB1</td>\n",
       "      <td>CHEMATDMROPA7</td>\n",
       "      <td>2020-08-28 00:47:45</td>\n",
       "      <td>NaT</td>\n",
       "      <td>61.0</td>\n",
       "      <td>NaN</td>\n",
       "      <td>NaN</td>\n",
       "      <td>RAVI</td>\n",
       "      <td>NaN</td>\n",
       "      <td>DMREXCHEUX</td>\n",
       "      <td>Daimler india commercial vehicles pvt lt</td>\n",
       "      <td>ARVEXNAM09</td>\n",
       "      <td>ARVINTH TRANSPORT</td>\n",
       "      <td>LU STRUT RA / RADIUS ROD</td>\n",
       "    </tr>\n",
       "    <tr>\n",
       "      <th>4</th>\n",
       "      <td>VAMOSYS</td>\n",
       "      <td>VCV00014744/082021</td>\n",
       "      <td>Regular</td>\n",
       "      <td>2020-08-28 01:23:19.243</td>\n",
       "      <td>TN68F1722</td>\n",
       "      <td>LUCAS TVS LTD-PONDY,PONDY,PONDICHERRY</td>\n",
       "      <td>LUCAS TVS LTD-PONDY,PONDY,PONDICHERRY</td>\n",
       "      <td>11.8720,79.6320</td>\n",
       "      <td>11.8720,79.6320</td>\n",
       "      <td>2020-08-28 12:40:29</td>\n",
       "      <td>2020-09-01 05:23:19.243</td>\n",
       "      <td>Melmaruvathur, Tamil Nadu 603319, India</td>\n",
       "      <td>LUCAS TVS LTD-PONDY,PONDY,PONDICHERRY</td>\n",
       "      <td>2020-08-28 14:22:50.127</td>\n",
       "      <td>12.429501</td>\n",
       "      <td>79.831556</td>\n",
       "      <td>G</td>\n",
       "      <td>NaN</td>\n",
       "      <td>CHENETLUTCCA1</td>\n",
       "      <td>CHENETLUTCCA1</td>\n",
       "      <td>2020-08-28 01:13:48</td>\n",
       "      <td>NaT</td>\n",
       "      <td>240.0</td>\n",
       "      <td>NaN</td>\n",
       "      <td>NaN</td>\n",
       "      <td>TAMIL</td>\n",
       "      <td>NaN</td>\n",
       "      <td>LUTGCCHE06</td>\n",
       "      <td>Lucas tvs ltd</td>\n",
       "      <td>SRTEXKOR96</td>\n",
       "      <td>SR TRANSPORTS</td>\n",
       "      <td>WISHBONE / V ROD/HDT</td>\n",
       "    </tr>\n",
       "  </tbody>\n",
       "</table>\n",
       "</div>"
      ],
      "text/plain": [
       "     GpsProvider           BookingID Market/Regular           BookingID_Date  \\\n",
       "0  CONSENT TRACK  MVCV0000927/082021          Market 2020-08-17 14:59:01.000   \n",
       "1        VAMOSYS  VCV00014271/082021         Regular 2020-08-27 16:22:22.827   \n",
       "2  CONSENT TRACK  VCV00014382/082021         Regular 2020-08-27 17:59:24.987   \n",
       "3        VAMOSYS  VCV00014743/082021         Regular 2020-08-28 00:48:24.503   \n",
       "4        VAMOSYS  VCV00014744/082021         Regular 2020-08-28 01:23:19.243   \n",
       "\n",
       "   vehicle_no                                    Origin_Location  \\\n",
       "0    KA590408               TVSLSL-PUZHAL-HUB,CHENNAI,TAMIL NADU   \n",
       "1  TN30BC5917  DAIMLER INDIA COMMERCIAL VEHICLES,KANCHIPURAM,...   \n",
       "2  TN22AR2748              LUCAS TVS LTD-PONDY,PONDY,PONDICHERRY   \n",
       "3  TN28AQ0781  DAIMLER INDIA COMMERCIAL VEHICLES,KANCHIPURAM,...   \n",
       "4   TN68F1722              LUCAS TVS LTD-PONDY,PONDY,PONDICHERRY   \n",
       "\n",
       "                                Destination_Location      Org_lat_lon  \\\n",
       "0       ASHOK LEYLAND PLANT 1- HOSUR,HOSUR,KARNATAKA  13.1550,80.1960   \n",
       "1  DAIMLER INDIA COMMERCIAL VEHICLES,KANCHIPURAM,...  12.8390,79.9540   \n",
       "2              LUCAS TVS LTD-PONDY,PONDY,PONDICHERRY  11.8710,79.7390   \n",
       "3  DAIMLER INDIA COMMERCIAL VEHICLES,KANCHIPURAM,...  12.8390,79.9540   \n",
       "4              LUCAS TVS LTD-PONDY,PONDY,PONDICHERRY  11.8720,79.6320   \n",
       "\n",
       "       Des_lat_lon      Data_Ping_time             Planned_ETA  \\\n",
       "0  12.7400,77.8200 2020-08-24 00:05:09 2020-08-21 18:59:01.000   \n",
       "1  12.8390,79.9540 2020-08-28 12:40:28 2020-08-31 20:22:22.827   \n",
       "2  11.8710,79.7390 2020-08-28 09:05:09 2020-08-31 21:59:24.987   \n",
       "3  12.8390,79.9540 2020-08-28 12:40:31 2020-09-01 04:48:24.503   \n",
       "4  11.8720,79.6320 2020-08-28 12:40:29 2020-09-01 05:23:19.243   \n",
       "\n",
       "                                    Current_Location  \\\n",
       "0  Vaniyambadi Rd, Valayambattu, Tamil Nadu 63575...   \n",
       "1  Unnamed Road, Oragadam Industrial Corridor, Va...   \n",
       "2  570, National Hwy 48, Shenoy Nagar, Chennai, T...   \n",
       "3  Singaperumal Koil - Sriperumbudur Rd, Oragadam...   \n",
       "4            Melmaruvathur, Tamil Nadu 603319, India   \n",
       "\n",
       "                                 DestinationLocation              actual_eta  \\\n",
       "0       ASHOK LEYLAND PLANT 1- HOSUR,HOSUR,KARNATAKA 2020-08-28 14:38:04.447   \n",
       "1  DAIMLER INDIA COMMERCIAL VEHICLES,KANCHIPURAM,... 2020-08-28 12:46:17.007   \n",
       "2              LUCAS TVS LTD-PONDY,PONDY,PONDICHERRY 2020-08-28 16:03:30.793   \n",
       "3  DAIMLER INDIA COMMERCIAL VEHICLES,KANCHIPURAM,... 2020-08-28 12:50:27.997   \n",
       "4              LUCAS TVS LTD-PONDY,PONDY,PONDICHERRY 2020-08-28 14:22:50.127   \n",
       "\n",
       "    Curr_lat   Curr_lon ontime delay OriginLocation_Code  \\\n",
       "0  12.663500  78.649870    NaN     R       CHEPUZTVSHUA1   \n",
       "1  12.836757  79.954428      G   NaN       CHEORADMRCCB1   \n",
       "2  13.073956  80.225780      G   NaN       CHEPONLUTCCA4   \n",
       "3  12.836686  79.950560      G   NaN       CHEORADMRCCB1   \n",
       "4  12.429501  79.831556      G   NaN       CHENETLUTCCA1   \n",
       "\n",
       "  DestinationLocation_Code     trip_start_date trip_end_date  \\\n",
       "0            HOSHOSALLCCA2 2020-08-17 14:59:01           NaT   \n",
       "1            CHEMATDMROPA7 2020-08-27 16:21:52           NaT   \n",
       "2            CHEPONLUTCCA4 2020-08-27 17:57:04           NaT   \n",
       "3            CHEMATDMROPA7 2020-08-28 00:47:45           NaT   \n",
       "4            CHENETLUTCCA1 2020-08-28 01:13:48           NaT   \n",
       "\n",
       "   TRANSPORTATION_DISTANCE_IN_KM vehicleType  \\\n",
       "0                          320.0         NaN   \n",
       "1                          103.0         NaN   \n",
       "2                          300.0         NaN   \n",
       "3                           61.0         NaN   \n",
       "4                          240.0         NaN   \n",
       "\n",
       "   Minimum_kms_to_be_covered_in_a_day Driver_Name  Driver_MobileNo  \\\n",
       "0                                 NaN         NaN              NaN   \n",
       "1                                 NaN      RAMESH              NaN   \n",
       "2                                 NaN        GIRI              NaN   \n",
       "3                                 NaN        RAVI              NaN   \n",
       "4                                 NaN       TAMIL              NaN   \n",
       "\n",
       "   customerID                          customerNameCode  supplierID  \\\n",
       "0  ALLEXCHE45                     Ashok leyland limited  VIJEXHOSR7   \n",
       "1  DMREXCHEUX  Daimler india commercial vehicles pvt lt  VJLEXSHE09   \n",
       "2  LUTGCCHE06                             Lucas tvs ltd  GSTEXLAK1Q   \n",
       "3  DMREXCHEUX  Daimler india commercial vehicles pvt lt  ARVEXNAM09   \n",
       "4  LUTGCCHE06                             Lucas tvs ltd  SRTEXKOR96   \n",
       "\n",
       "    supplierNameCode          Material Shipped  \n",
       "0    VIJAY TRANSPORT     BRACKET / GRAB HANDLE  \n",
       "1       VJ LOGISTICS     ZB MODEL PLATE / 3143  \n",
       "2     G.S. TRANSPORT          LETTERING / FUSO  \n",
       "3  ARVINTH TRANSPORT  LU STRUT RA / RADIUS ROD  \n",
       "4      SR TRANSPORTS      WISHBONE / V ROD/HDT  "
      ]
     },
     "execution_count": 6,
     "metadata": {},
     "output_type": "execute_result"
    }
   ],
   "source": [
    "pd.set_option('max_columns', 50)\n",
    "data.head(5)"
   ]
  },
  {
   "cell_type": "code",
   "execution_count": 7,
   "metadata": {},
   "outputs": [],
   "source": [
    "#making a copy of data before preprocessing\n",
    "data_raw = data.copy()"
   ]
  },
  {
   "cell_type": "markdown",
   "metadata": {},
   "source": [
    "##### What is pandas profile report?\n",
    "\n",
    "Generates profile reports from a pandas DataFrame . The pandas df.describe () function is great but a little basic for serious exploratory data analysis. pandas_profiling extends the pandas DataFrame with df.profile_report () for quick data analysis.\n",
    "\n",
    "The pandas_profiling library in Python include a method named as ProfileReport () which generate a basic report on the input DataFrame. A sample of DataFrame. Number of bins in histogram. The default is 10. Whether or not to check correlation. It’s `True` by default. Threshold to determine if the variable pair is correlated. The default is 0.9."
   ]
  },
  {
   "cell_type": "markdown",
   "metadata": {},
   "source": [
    "pandas_profiling.ProfileReport(data)"
   ]
  },
  {
   "cell_type": "markdown",
   "metadata": {},
   "source": [
    "#    HANDLING MISSING VALUE     "
   ]
  },
  {
   "cell_type": "markdown",
   "metadata": {},
   "source": [
    "##### WHAT DO WE DO TO MISSING VALUES\n",
    "\n",
    "There are several options for handling missing values each with its own PROS and CONS. However, the choice of what should be done is largely dependent on the nature of our data and the missing values. Below is a summary highlight of several options we have for handling missing values.\n",
    "DROP MISSING VALUES\n",
    "FILL MISSING VALUES WITH TEST STATISTIC\n",
    "PREDICT MISSING VALUE WITH A MACHINE LEARNING ALGORITHM\n",
    "Below is a few list of commands to detect missing values with EDA."
   ]
  },
  {
   "cell_type": "markdown",
   "metadata": {},
   "source": [
    "##### dataframe.info()\n",
    "\n",
    "This will tell us the total number of non null observations present including the total number of entries. Once number of entries isn’t equal to number of non null observations, we can begin to suspect missing values.\n",
    "\n",
    "Python is a great language for doing data analysis, primarily because of the fantastic ecosystem of data-centric python packages. Pandas is one of those packages and makes importing and analyzing data much easier.\n",
    "\n",
    "Pandas dataframe.info() function is used to get a concise summary of the dataframe. It comes really handy when doing exploratory analysis of the data. To get a quick overview of the dataset we use the dataframe.info() function.\n"
   ]
  },
  {
   "cell_type": "code",
   "execution_count": 7,
   "metadata": {},
   "outputs": [
    {
     "name": "stdout",
     "output_type": "stream",
     "text": [
      "<class 'pandas.core.frame.DataFrame'>\n",
      "RangeIndex: 6880 entries, 0 to 6879\n",
      "Data columns (total 32 columns):\n",
      " #   Column                              Non-Null Count  Dtype         \n",
      "---  ------                              --------------  -----         \n",
      " 0   GpsProvider                         5927 non-null   object        \n",
      " 1   BookingID                           6880 non-null   object        \n",
      " 2   Market/Regular                      6880 non-null   object        \n",
      " 3   BookingID_Date                      6880 non-null   datetime64[ns]\n",
      " 4   vehicle_no                          6880 non-null   object        \n",
      " 5   Origin_Location                     6880 non-null   object        \n",
      " 6   Destination_Location                6880 non-null   object        \n",
      " 7   Org_lat_lon                         6880 non-null   object        \n",
      " 8   Des_lat_lon                         6880 non-null   object        \n",
      " 9   Data_Ping_time                      5927 non-null   datetime64[ns]\n",
      " 10  Planned_ETA                         6880 non-null   datetime64[ns]\n",
      " 11  Current_Location                    5916 non-null   object        \n",
      " 12  DestinationLocation                 6880 non-null   object        \n",
      " 13  actual_eta                          6843 non-null   datetime64[ns]\n",
      " 14  Curr_lat                            5927 non-null   float64       \n",
      " 15  Curr_lon                            5927 non-null   float64       \n",
      " 16  ontime                              2548 non-null   object        \n",
      " 17  delay                               4342 non-null   object        \n",
      " 18  OriginLocation_Code                 6877 non-null   object        \n",
      " 19  DestinationLocation_Code            6853 non-null   object        \n",
      " 20  trip_start_date                     6880 non-null   datetime64[ns]\n",
      " 21  trip_end_date                       6686 non-null   datetime64[ns]\n",
      " 22  TRANSPORTATION_DISTANCE_IN_KM       6168 non-null   float64       \n",
      " 23  vehicleType                         6052 non-null   object        \n",
      " 24  Minimum_kms_to_be_covered_in_a_day  2820 non-null   float64       \n",
      " 25  Driver_Name                         3451 non-null   object        \n",
      " 26  Driver_MobileNo                     2691 non-null   float64       \n",
      " 27  customerID                          6880 non-null   object        \n",
      " 28  customerNameCode                    6880 non-null   object        \n",
      " 29  supplierID                          6880 non-null   object        \n",
      " 30  supplierNameCode                    6880 non-null   object        \n",
      " 31  Material Shipped                    6880 non-null   object        \n",
      "dtypes: datetime64[ns](6), float64(5), object(21)\n",
      "memory usage: 1.7+ MB\n"
     ]
    }
   ],
   "source": [
    "data.info()"
   ]
  },
  {
   "cell_type": "markdown",
   "metadata": {},
   "source": [
    "##### data.describe()\n",
    "\n",
    "This will display a summary statistics of all observed features and labels. The most important to note here is the min value. Once we see -1/0 in an observation like age/height/weight, then we have been able to detect missing value."
   ]
  },
  {
   "cell_type": "code",
   "execution_count": 8,
   "metadata": {},
   "outputs": [
    {
     "data": {
      "text/html": [
       "<div>\n",
       "<style scoped>\n",
       "    .dataframe tbody tr th:only-of-type {\n",
       "        vertical-align: middle;\n",
       "    }\n",
       "\n",
       "    .dataframe tbody tr th {\n",
       "        vertical-align: top;\n",
       "    }\n",
       "\n",
       "    .dataframe thead th {\n",
       "        text-align: right;\n",
       "    }\n",
       "</style>\n",
       "<table border=\"1\" class=\"dataframe\">\n",
       "  <thead>\n",
       "    <tr style=\"text-align: right;\">\n",
       "      <th></th>\n",
       "      <th>Curr_lat</th>\n",
       "      <th>Curr_lon</th>\n",
       "      <th>TRANSPORTATION_DISTANCE_IN_KM</th>\n",
       "      <th>Minimum_kms_to_be_covered_in_a_day</th>\n",
       "      <th>Driver_MobileNo</th>\n",
       "    </tr>\n",
       "  </thead>\n",
       "  <tbody>\n",
       "    <tr>\n",
       "      <th>count</th>\n",
       "      <td>5927.000000</td>\n",
       "      <td>5927.000000</td>\n",
       "      <td>6168.000000</td>\n",
       "      <td>2820.000000</td>\n",
       "      <td>2.691000e+03</td>\n",
       "    </tr>\n",
       "    <tr>\n",
       "      <th>mean</th>\n",
       "      <td>18.679995</td>\n",
       "      <td>78.759745</td>\n",
       "      <td>553.856282</td>\n",
       "      <td>250.239362</td>\n",
       "      <td>8.598981e+09</td>\n",
       "    </tr>\n",
       "    <tr>\n",
       "      <th>std</th>\n",
       "      <td>6.075561</td>\n",
       "      <td>4.216357</td>\n",
       "      <td>758.981836</td>\n",
       "      <td>24.315485</td>\n",
       "      <td>1.131669e+09</td>\n",
       "    </tr>\n",
       "    <tr>\n",
       "      <th>min</th>\n",
       "      <td>8.166790</td>\n",
       "      <td>69.657698</td>\n",
       "      <td>0.000000</td>\n",
       "      <td>0.000000</td>\n",
       "      <td>6.000546e+09</td>\n",
       "    </tr>\n",
       "    <tr>\n",
       "      <th>25%</th>\n",
       "      <td>12.871868</td>\n",
       "      <td>76.891857</td>\n",
       "      <td>40.000000</td>\n",
       "      <td>250.000000</td>\n",
       "      <td>7.651505e+09</td>\n",
       "    </tr>\n",
       "    <tr>\n",
       "      <th>50%</th>\n",
       "      <td>17.470922</td>\n",
       "      <td>77.843340</td>\n",
       "      <td>160.000000</td>\n",
       "      <td>250.000000</td>\n",
       "      <td>8.930762e+09</td>\n",
       "    </tr>\n",
       "    <tr>\n",
       "      <th>75%</th>\n",
       "      <td>23.202009</td>\n",
       "      <td>80.018999</td>\n",
       "      <td>900.000000</td>\n",
       "      <td>250.000000</td>\n",
       "      <td>9.634981e+09</td>\n",
       "    </tr>\n",
       "    <tr>\n",
       "      <th>max</th>\n",
       "      <td>32.367928</td>\n",
       "      <td>95.529550</td>\n",
       "      <td>2954.700000</td>\n",
       "      <td>275.000000</td>\n",
       "      <td>1.000000e+10</td>\n",
       "    </tr>\n",
       "  </tbody>\n",
       "</table>\n",
       "</div>"
      ],
      "text/plain": [
       "          Curr_lat     Curr_lon  TRANSPORTATION_DISTANCE_IN_KM  \\\n",
       "count  5927.000000  5927.000000                    6168.000000   \n",
       "mean     18.679995    78.759745                     553.856282   \n",
       "std       6.075561     4.216357                     758.981836   \n",
       "min       8.166790    69.657698                       0.000000   \n",
       "25%      12.871868    76.891857                      40.000000   \n",
       "50%      17.470922    77.843340                     160.000000   \n",
       "75%      23.202009    80.018999                     900.000000   \n",
       "max      32.367928    95.529550                    2954.700000   \n",
       "\n",
       "       Minimum_kms_to_be_covered_in_a_day  Driver_MobileNo  \n",
       "count                         2820.000000     2.691000e+03  \n",
       "mean                           250.239362     8.598981e+09  \n",
       "std                             24.315485     1.131669e+09  \n",
       "min                              0.000000     6.000546e+09  \n",
       "25%                            250.000000     7.651505e+09  \n",
       "50%                            250.000000     8.930762e+09  \n",
       "75%                            250.000000     9.634981e+09  \n",
       "max                            275.000000     1.000000e+10  "
      ]
     },
     "execution_count": 8,
     "metadata": {},
     "output_type": "execute_result"
    }
   ],
   "source": [
    "data.describe()"
   ]
  },
  {
   "cell_type": "markdown",
   "metadata": {},
   "source": [
    "##### What is dataframe.isna in pandas?\n",
    "\n",
    "Pandas dataframe.isna () function is used to detect missing values. It return a boolean same-sized object indicating if the values are NA. NA values, such as None or numpy.NaN, gets mapped to True values. Everything else gets mapped to False values."
   ]
  },
  {
   "cell_type": "markdown",
   "metadata": {},
   "source": [
    "data.isna()"
   ]
  },
  {
   "cell_type": "markdown",
   "metadata": {},
   "source": [
    "##### What is the sum of missing values?\n",
    "\n",
    "df.isnull ().sum () will give the column-wise sum of missing values. If you want to know the sum of missing values in a particular column then following code will work df.column.isnull ().sum () In case you need to get the non-NA (non-None) and NA (None) counts across different groups pulled out by groupby\n",
    "\n",
    "\n",
    "This will tell us the total number of NaN in or data.\n",
    "If the missing value isn’t identified as NaN , then we have to first convert or replace such non NaN entry with a NaN.\n",
    "\n",
    "\n",
    "data_name[‘column_name’].replace(0, np.nan, inplace= True)\n",
    "\n",
    "This will replace values of zero with NaN in the column named column_name of our data_name ."
   ]
  },
  {
   "cell_type": "code",
   "execution_count": 9,
   "metadata": {},
   "outputs": [
    {
     "data": {
      "text/plain": [
       "GpsProvider                            953\n",
       "BookingID                                0\n",
       "Market/Regular                           0\n",
       "BookingID_Date                           0\n",
       "vehicle_no                               0\n",
       "Origin_Location                          0\n",
       "Destination_Location                     0\n",
       "Org_lat_lon                              0\n",
       "Des_lat_lon                              0\n",
       "Data_Ping_time                         953\n",
       "Planned_ETA                              0\n",
       "Current_Location                       964\n",
       "DestinationLocation                      0\n",
       "actual_eta                              37\n",
       "Curr_lat                               953\n",
       "Curr_lon                               953\n",
       "ontime                                4332\n",
       "delay                                 2538\n",
       "OriginLocation_Code                      3\n",
       "DestinationLocation_Code                27\n",
       "trip_start_date                          0\n",
       "trip_end_date                          194\n",
       "TRANSPORTATION_DISTANCE_IN_KM          712\n",
       "vehicleType                            828\n",
       "Minimum_kms_to_be_covered_in_a_day    4060\n",
       "Driver_Name                           3429\n",
       "Driver_MobileNo                       4189\n",
       "customerID                               0\n",
       "customerNameCode                         0\n",
       "supplierID                               0\n",
       "supplierNameCode                         0\n",
       "Material Shipped                         0\n",
       "dtype: int64"
      ]
     },
     "execution_count": 9,
     "metadata": {},
     "output_type": "execute_result"
    }
   ],
   "source": [
    "#Python, pandas\n",
    "#Count missing values for each column of the dataframe df\n",
    "#By default (axis = 0)\n",
    "\n",
    "data.isna().sum()"
   ]
  },
  {
   "cell_type": "markdown",
   "metadata": {},
   "source": [
    "###### Count total missing values in a dataframe\n",
    "\n",
    "data.isnull().sum().sum()\n",
    "\n",
    "#Gives a integer value"
   ]
  },
  {
   "cell_type": "markdown",
   "metadata": {},
   "source": [
    "#Python, pandas\n",
    "#Count missing values for each column of the dataframe df\n",
    "data.isnull().sum(axis = 0)\n",
    "\n",
    "#Python, pandas\n",
    "#Count missing values for each row of the dataframe df\n",
    "data.isnull().sum(axis = 1)"
   ]
  },
  {
   "cell_type": "code",
   "execution_count": 10,
   "metadata": {},
   "outputs": [],
   "source": [
    "missingrows = data.isna().sum()"
   ]
  },
  {
   "cell_type": "code",
   "execution_count": 11,
   "metadata": {},
   "outputs": [
    {
     "name": "stdout",
     "output_type": "stream",
     "text": [
      "Index(['GpsProvider', 'BookingID', 'Market/Regular ', 'BookingID_Date',\n",
      "       'vehicle_no', 'Origin_Location', 'Destination_Location', 'Org_lat_lon',\n",
      "       'Des_lat_lon', 'Data_Ping_time', 'Planned_ETA', 'Current_Location',\n",
      "       'DestinationLocation', 'actual_eta', 'Curr_lat', 'Curr_lon', 'ontime',\n",
      "       'delay', 'OriginLocation_Code', 'DestinationLocation_Code',\n",
      "       'trip_start_date', 'trip_end_date', 'TRANSPORTATION_DISTANCE_IN_KM',\n",
      "       'vehicleType', 'Minimum_kms_to_be_covered_in_a_day', 'Driver_Name',\n",
      "       'Driver_MobileNo', 'customerID', 'customerNameCode', 'supplierID',\n",
      "       'supplierNameCode', 'Material Shipped'],\n",
      "      dtype='object')\n",
      "(32,)\n",
      "(6880, 32)\n"
     ]
    }
   ],
   "source": [
    "print(data.columns)\n",
    "print(missingrows.shape)\n",
    "print(data.shape)"
   ]
  },
  {
   "cell_type": "code",
   "execution_count": 9,
   "metadata": {
    "scrolled": true
   },
   "outputs": [
    {
     "name": "stdout",
     "output_type": "stream",
     "text": [
      "Percentage of missing values in GpsProvider is 0.1385174418604651\n",
      "Percentage of missing values in BookingID is 0.0\n",
      "Percentage of missing values in Market/Regular  is 0.0\n",
      "Percentage of missing values in BookingID_Date is 0.0\n",
      "Percentage of missing values in vehicle_no is 0.0\n",
      "Percentage of missing values in Origin_Location is 0.0\n",
      "Percentage of missing values in Destination_Location is 0.0\n",
      "Percentage of missing values in Org_lat_lon is 0.0\n",
      "Percentage of missing values in Des_lat_lon is 0.0\n",
      "Percentage of missing values in Data_Ping_time is 0.1385174418604651\n",
      "Percentage of missing values in Planned_ETA is 0.0\n",
      "Percentage of missing values in Current_Location is 0.14011627906976745\n",
      "Percentage of missing values in DestinationLocation is 0.0\n",
      "Percentage of missing values in actual_eta is 0.005377906976744186\n",
      "Percentage of missing values in Curr_lat is 0.1385174418604651\n",
      "Percentage of missing values in Curr_lon is 0.1385174418604651\n",
      "Percentage of missing values in ontime is 0.6296511627906977\n",
      "Percentage of missing values in delay is 0.3688953488372093\n",
      "Percentage of missing values in OriginLocation_Code is 0.00043604651162790697\n",
      "Percentage of missing values in DestinationLocation_Code is 0.003924418604651163\n",
      "Percentage of missing values in trip_start_date is 0.0\n",
      "Percentage of missing values in trip_end_date is 0.02819767441860465\n",
      "Percentage of missing values in TRANSPORTATION_DISTANCE_IN_KM is 0.10348837209302325\n",
      "Percentage of missing values in vehicleType is 0.12034883720930233\n",
      "Percentage of missing values in Minimum_kms_to_be_covered_in_a_day is 0.5901162790697675\n",
      "Percentage of missing values in Driver_Name is 0.4984011627906977\n",
      "Percentage of missing values in Driver_MobileNo is 0.6088662790697674\n",
      "Percentage of missing values in customerID is 0.0\n",
      "Percentage of missing values in customerNameCode is 0.0\n",
      "Percentage of missing values in supplierID is 0.0\n",
      "Percentage of missing values in supplierNameCode is 0.0\n",
      "Percentage of missing values in Material Shipped is 0.0\n"
     ]
    }
   ],
   "source": [
    "#Percentange of missing values \n",
    "for column in data.columns:\n",
    "    print('Percentage of missing values in {} is {}'.format(column,missingrows[column]/len(data)))"
   ]
  },
  {
   "cell_type": "markdown",
   "metadata": {},
   "source": [
    " 14  Curr_lat                            5927 non-null   float64       \n",
    " 15  Curr_lon                            5927 non-null   float64       \n",
    " 22  TRANSPORTATION_DISTANCE_IN_KM       6168 non-null   float64       \n",
    " 24  Minimum_kms_to_be_covered_in_a_day  2820 non-null   float64       \n",
    " 26  Driver_MobileNo                     2691 non-null   float64    "
   ]
  },
  {
   "cell_type": "code",
   "execution_count": 12,
   "metadata": {},
   "outputs": [
    {
     "data": {
      "text/html": [
       "<div>\n",
       "<style scoped>\n",
       "    .dataframe tbody tr th:only-of-type {\n",
       "        vertical-align: middle;\n",
       "    }\n",
       "\n",
       "    .dataframe tbody tr th {\n",
       "        vertical-align: top;\n",
       "    }\n",
       "\n",
       "    .dataframe thead th {\n",
       "        text-align: right;\n",
       "    }\n",
       "</style>\n",
       "<table border=\"1\" class=\"dataframe\">\n",
       "  <thead>\n",
       "    <tr style=\"text-align: right;\">\n",
       "      <th></th>\n",
       "      <th>Curr_lat</th>\n",
       "      <th>Curr_lon</th>\n",
       "      <th>TRANSPORTATION_DISTANCE_IN_KM</th>\n",
       "      <th>Minimum_kms_to_be_covered_in_a_day</th>\n",
       "      <th>Driver_MobileNo</th>\n",
       "    </tr>\n",
       "  </thead>\n",
       "  <tbody>\n",
       "    <tr>\n",
       "      <th>count</th>\n",
       "      <td>5927.000000</td>\n",
       "      <td>5927.000000</td>\n",
       "      <td>6168.000000</td>\n",
       "      <td>2820.000000</td>\n",
       "      <td>2.691000e+03</td>\n",
       "    </tr>\n",
       "    <tr>\n",
       "      <th>mean</th>\n",
       "      <td>18.679995</td>\n",
       "      <td>78.759745</td>\n",
       "      <td>553.856282</td>\n",
       "      <td>250.239362</td>\n",
       "      <td>8.598981e+09</td>\n",
       "    </tr>\n",
       "    <tr>\n",
       "      <th>std</th>\n",
       "      <td>6.075561</td>\n",
       "      <td>4.216357</td>\n",
       "      <td>758.981836</td>\n",
       "      <td>24.315485</td>\n",
       "      <td>1.131669e+09</td>\n",
       "    </tr>\n",
       "    <tr>\n",
       "      <th>min</th>\n",
       "      <td>8.166790</td>\n",
       "      <td>69.657698</td>\n",
       "      <td>0.000000</td>\n",
       "      <td>0.000000</td>\n",
       "      <td>6.000546e+09</td>\n",
       "    </tr>\n",
       "    <tr>\n",
       "      <th>25%</th>\n",
       "      <td>12.871868</td>\n",
       "      <td>76.891857</td>\n",
       "      <td>40.000000</td>\n",
       "      <td>250.000000</td>\n",
       "      <td>7.651505e+09</td>\n",
       "    </tr>\n",
       "    <tr>\n",
       "      <th>50%</th>\n",
       "      <td>17.470922</td>\n",
       "      <td>77.843340</td>\n",
       "      <td>160.000000</td>\n",
       "      <td>250.000000</td>\n",
       "      <td>8.930762e+09</td>\n",
       "    </tr>\n",
       "    <tr>\n",
       "      <th>75%</th>\n",
       "      <td>23.202009</td>\n",
       "      <td>80.018999</td>\n",
       "      <td>900.000000</td>\n",
       "      <td>250.000000</td>\n",
       "      <td>9.634981e+09</td>\n",
       "    </tr>\n",
       "    <tr>\n",
       "      <th>max</th>\n",
       "      <td>32.367928</td>\n",
       "      <td>95.529550</td>\n",
       "      <td>2954.700000</td>\n",
       "      <td>275.000000</td>\n",
       "      <td>1.000000e+10</td>\n",
       "    </tr>\n",
       "  </tbody>\n",
       "</table>\n",
       "</div>"
      ],
      "text/plain": [
       "          Curr_lat     Curr_lon  TRANSPORTATION_DISTANCE_IN_KM  \\\n",
       "count  5927.000000  5927.000000                    6168.000000   \n",
       "mean     18.679995    78.759745                     553.856282   \n",
       "std       6.075561     4.216357                     758.981836   \n",
       "min       8.166790    69.657698                       0.000000   \n",
       "25%      12.871868    76.891857                      40.000000   \n",
       "50%      17.470922    77.843340                     160.000000   \n",
       "75%      23.202009    80.018999                     900.000000   \n",
       "max      32.367928    95.529550                    2954.700000   \n",
       "\n",
       "       Minimum_kms_to_be_covered_in_a_day  Driver_MobileNo  \n",
       "count                         2820.000000     2.691000e+03  \n",
       "mean                           250.239362     8.598981e+09  \n",
       "std                             24.315485     1.131669e+09  \n",
       "min                              0.000000     6.000546e+09  \n",
       "25%                            250.000000     7.651505e+09  \n",
       "50%                            250.000000     8.930762e+09  \n",
       "75%                            250.000000     9.634981e+09  \n",
       "max                            275.000000     1.000000e+10  "
      ]
     },
     "execution_count": 12,
     "metadata": {},
     "output_type": "execute_result"
    }
   ],
   "source": [
    "data.describe()"
   ]
  },
  {
   "cell_type": "code",
   "execution_count": 13,
   "metadata": {},
   "outputs": [
    {
     "data": {
      "text/plain": [
       "(6880, 32)"
      ]
     },
     "execution_count": 13,
     "metadata": {},
     "output_type": "execute_result"
    }
   ],
   "source": [
    "data.shape"
   ]
  },
  {
   "cell_type": "markdown",
   "metadata": {},
   "source": [
    "##### Cleaning Data : dropna() thresh option\n",
    "\n",
    "Keep only the rows having 2 or more valid data\n",
    "\n",
    "Keep only the rows having 3 or more valid data\n",
    "\n",
    "Keep only columns where 11 or more than 11 valid data is available\n",
    "\n",
    "Keep only rows where 70% or more valid data is available\n",
    "\n",
    "Keep only columns where 80% or more valid data is available\n",
    "\n",
    "thresh= 6880*0.20= 1376"
   ]
  },
  {
   "cell_type": "code",
   "execution_count": 14,
   "metadata": {},
   "outputs": [],
   "source": [
    "#drop columns that have 80% or more missing values\n",
    "dfT = data.dropna(axis=1, thresh=1376)"
   ]
  },
  {
   "cell_type": "code",
   "execution_count": 15,
   "metadata": {},
   "outputs": [
    {
     "data": {
      "text/plain": [
       "(6880, 32)"
      ]
     },
     "execution_count": 15,
     "metadata": {},
     "output_type": "execute_result"
    }
   ],
   "source": [
    "dfT.shape"
   ]
  },
  {
   "cell_type": "code",
   "execution_count": 16,
   "metadata": {},
   "outputs": [
    {
     "data": {
      "text/plain": [
       "pandas.core.frame.DataFrame"
      ]
     },
     "execution_count": 16,
     "metadata": {},
     "output_type": "execute_result"
    }
   ],
   "source": [
    "type(data)"
   ]
  },
  {
   "cell_type": "code",
   "execution_count": 17,
   "metadata": {},
   "outputs": [
    {
     "data": {
      "text/plain": [
       "pandas.core.frame.DataFrame"
      ]
     },
     "execution_count": 17,
     "metadata": {},
     "output_type": "execute_result"
    }
   ],
   "source": [
    "type(dfT)"
   ]
  },
  {
   "cell_type": "code",
   "execution_count": 18,
   "metadata": {},
   "outputs": [
    {
     "data": {
      "text/html": [
       "<div>\n",
       "<style scoped>\n",
       "    .dataframe tbody tr th:only-of-type {\n",
       "        vertical-align: middle;\n",
       "    }\n",
       "\n",
       "    .dataframe tbody tr th {\n",
       "        vertical-align: top;\n",
       "    }\n",
       "\n",
       "    .dataframe thead th {\n",
       "        text-align: right;\n",
       "    }\n",
       "</style>\n",
       "<table border=\"1\" class=\"dataframe\">\n",
       "  <thead>\n",
       "    <tr style=\"text-align: right;\">\n",
       "      <th></th>\n",
       "      <th>Curr_lat</th>\n",
       "      <th>Curr_lon</th>\n",
       "      <th>TRANSPORTATION_DISTANCE_IN_KM</th>\n",
       "      <th>Minimum_kms_to_be_covered_in_a_day</th>\n",
       "      <th>Driver_MobileNo</th>\n",
       "    </tr>\n",
       "  </thead>\n",
       "  <tbody>\n",
       "    <tr>\n",
       "      <th>count</th>\n",
       "      <td>5927.000000</td>\n",
       "      <td>5927.000000</td>\n",
       "      <td>6168.000000</td>\n",
       "      <td>2820.000000</td>\n",
       "      <td>2.691000e+03</td>\n",
       "    </tr>\n",
       "    <tr>\n",
       "      <th>mean</th>\n",
       "      <td>18.679995</td>\n",
       "      <td>78.759745</td>\n",
       "      <td>553.856282</td>\n",
       "      <td>250.239362</td>\n",
       "      <td>8.598981e+09</td>\n",
       "    </tr>\n",
       "    <tr>\n",
       "      <th>std</th>\n",
       "      <td>6.075561</td>\n",
       "      <td>4.216357</td>\n",
       "      <td>758.981836</td>\n",
       "      <td>24.315485</td>\n",
       "      <td>1.131669e+09</td>\n",
       "    </tr>\n",
       "    <tr>\n",
       "      <th>min</th>\n",
       "      <td>8.166790</td>\n",
       "      <td>69.657698</td>\n",
       "      <td>0.000000</td>\n",
       "      <td>0.000000</td>\n",
       "      <td>6.000546e+09</td>\n",
       "    </tr>\n",
       "    <tr>\n",
       "      <th>25%</th>\n",
       "      <td>12.871868</td>\n",
       "      <td>76.891857</td>\n",
       "      <td>40.000000</td>\n",
       "      <td>250.000000</td>\n",
       "      <td>7.651505e+09</td>\n",
       "    </tr>\n",
       "    <tr>\n",
       "      <th>50%</th>\n",
       "      <td>17.470922</td>\n",
       "      <td>77.843340</td>\n",
       "      <td>160.000000</td>\n",
       "      <td>250.000000</td>\n",
       "      <td>8.930762e+09</td>\n",
       "    </tr>\n",
       "    <tr>\n",
       "      <th>75%</th>\n",
       "      <td>23.202009</td>\n",
       "      <td>80.018999</td>\n",
       "      <td>900.000000</td>\n",
       "      <td>250.000000</td>\n",
       "      <td>9.634981e+09</td>\n",
       "    </tr>\n",
       "    <tr>\n",
       "      <th>max</th>\n",
       "      <td>32.367928</td>\n",
       "      <td>95.529550</td>\n",
       "      <td>2954.700000</td>\n",
       "      <td>275.000000</td>\n",
       "      <td>1.000000e+10</td>\n",
       "    </tr>\n",
       "  </tbody>\n",
       "</table>\n",
       "</div>"
      ],
      "text/plain": [
       "          Curr_lat     Curr_lon  TRANSPORTATION_DISTANCE_IN_KM  \\\n",
       "count  5927.000000  5927.000000                    6168.000000   \n",
       "mean     18.679995    78.759745                     553.856282   \n",
       "std       6.075561     4.216357                     758.981836   \n",
       "min       8.166790    69.657698                       0.000000   \n",
       "25%      12.871868    76.891857                      40.000000   \n",
       "50%      17.470922    77.843340                     160.000000   \n",
       "75%      23.202009    80.018999                     900.000000   \n",
       "max      32.367928    95.529550                    2954.700000   \n",
       "\n",
       "       Minimum_kms_to_be_covered_in_a_day  Driver_MobileNo  \n",
       "count                         2820.000000     2.691000e+03  \n",
       "mean                           250.239362     8.598981e+09  \n",
       "std                             24.315485     1.131669e+09  \n",
       "min                              0.000000     6.000546e+09  \n",
       "25%                            250.000000     7.651505e+09  \n",
       "50%                            250.000000     8.930762e+09  \n",
       "75%                            250.000000     9.634981e+09  \n",
       "max                            275.000000     1.000000e+10  "
      ]
     },
     "execution_count": 18,
     "metadata": {},
     "output_type": "execute_result"
    }
   ],
   "source": [
    "data.describe()"
   ]
  },
  {
   "cell_type": "code",
   "execution_count": 19,
   "metadata": {},
   "outputs": [
    {
     "data": {
      "text/html": [
       "<div>\n",
       "<style scoped>\n",
       "    .dataframe tbody tr th:only-of-type {\n",
       "        vertical-align: middle;\n",
       "    }\n",
       "\n",
       "    .dataframe tbody tr th {\n",
       "        vertical-align: top;\n",
       "    }\n",
       "\n",
       "    .dataframe thead th {\n",
       "        text-align: right;\n",
       "    }\n",
       "</style>\n",
       "<table border=\"1\" class=\"dataframe\">\n",
       "  <thead>\n",
       "    <tr style=\"text-align: right;\">\n",
       "      <th></th>\n",
       "      <th>Curr_lat</th>\n",
       "      <th>Curr_lon</th>\n",
       "      <th>TRANSPORTATION_DISTANCE_IN_KM</th>\n",
       "      <th>Minimum_kms_to_be_covered_in_a_day</th>\n",
       "      <th>Driver_MobileNo</th>\n",
       "    </tr>\n",
       "  </thead>\n",
       "  <tbody>\n",
       "    <tr>\n",
       "      <th>count</th>\n",
       "      <td>5927.000000</td>\n",
       "      <td>5927.000000</td>\n",
       "      <td>6168.000000</td>\n",
       "      <td>2820.000000</td>\n",
       "      <td>2.691000e+03</td>\n",
       "    </tr>\n",
       "    <tr>\n",
       "      <th>mean</th>\n",
       "      <td>18.679995</td>\n",
       "      <td>78.759745</td>\n",
       "      <td>553.856282</td>\n",
       "      <td>250.239362</td>\n",
       "      <td>8.598981e+09</td>\n",
       "    </tr>\n",
       "    <tr>\n",
       "      <th>std</th>\n",
       "      <td>6.075561</td>\n",
       "      <td>4.216357</td>\n",
       "      <td>758.981836</td>\n",
       "      <td>24.315485</td>\n",
       "      <td>1.131669e+09</td>\n",
       "    </tr>\n",
       "    <tr>\n",
       "      <th>min</th>\n",
       "      <td>8.166790</td>\n",
       "      <td>69.657698</td>\n",
       "      <td>0.000000</td>\n",
       "      <td>0.000000</td>\n",
       "      <td>6.000546e+09</td>\n",
       "    </tr>\n",
       "    <tr>\n",
       "      <th>25%</th>\n",
       "      <td>12.871868</td>\n",
       "      <td>76.891857</td>\n",
       "      <td>40.000000</td>\n",
       "      <td>250.000000</td>\n",
       "      <td>7.651505e+09</td>\n",
       "    </tr>\n",
       "    <tr>\n",
       "      <th>50%</th>\n",
       "      <td>17.470922</td>\n",
       "      <td>77.843340</td>\n",
       "      <td>160.000000</td>\n",
       "      <td>250.000000</td>\n",
       "      <td>8.930762e+09</td>\n",
       "    </tr>\n",
       "    <tr>\n",
       "      <th>75%</th>\n",
       "      <td>23.202009</td>\n",
       "      <td>80.018999</td>\n",
       "      <td>900.000000</td>\n",
       "      <td>250.000000</td>\n",
       "      <td>9.634981e+09</td>\n",
       "    </tr>\n",
       "    <tr>\n",
       "      <th>max</th>\n",
       "      <td>32.367928</td>\n",
       "      <td>95.529550</td>\n",
       "      <td>2954.700000</td>\n",
       "      <td>275.000000</td>\n",
       "      <td>1.000000e+10</td>\n",
       "    </tr>\n",
       "  </tbody>\n",
       "</table>\n",
       "</div>"
      ],
      "text/plain": [
       "          Curr_lat     Curr_lon  TRANSPORTATION_DISTANCE_IN_KM  \\\n",
       "count  5927.000000  5927.000000                    6168.000000   \n",
       "mean     18.679995    78.759745                     553.856282   \n",
       "std       6.075561     4.216357                     758.981836   \n",
       "min       8.166790    69.657698                       0.000000   \n",
       "25%      12.871868    76.891857                      40.000000   \n",
       "50%      17.470922    77.843340                     160.000000   \n",
       "75%      23.202009    80.018999                     900.000000   \n",
       "max      32.367928    95.529550                    2954.700000   \n",
       "\n",
       "       Minimum_kms_to_be_covered_in_a_day  Driver_MobileNo  \n",
       "count                         2820.000000     2.691000e+03  \n",
       "mean                           250.239362     8.598981e+09  \n",
       "std                             24.315485     1.131669e+09  \n",
       "min                              0.000000     6.000546e+09  \n",
       "25%                            250.000000     7.651505e+09  \n",
       "50%                            250.000000     8.930762e+09  \n",
       "75%                            250.000000     9.634981e+09  \n",
       "max                            275.000000     1.000000e+10  "
      ]
     },
     "execution_count": 19,
     "metadata": {},
     "output_type": "execute_result"
    }
   ],
   "source": [
    "dfT.describe()"
   ]
  },
  {
   "cell_type": "code",
   "execution_count": 20,
   "metadata": {},
   "outputs": [
    {
     "data": {
      "text/html": [
       "<div>\n",
       "<style scoped>\n",
       "    .dataframe tbody tr th:only-of-type {\n",
       "        vertical-align: middle;\n",
       "    }\n",
       "\n",
       "    .dataframe tbody tr th {\n",
       "        vertical-align: top;\n",
       "    }\n",
       "\n",
       "    .dataframe thead th {\n",
       "        text-align: right;\n",
       "    }\n",
       "</style>\n",
       "<table border=\"1\" class=\"dataframe\">\n",
       "  <thead>\n",
       "    <tr style=\"text-align: right;\">\n",
       "      <th></th>\n",
       "      <th>Curr_lat</th>\n",
       "      <th>Curr_lon</th>\n",
       "      <th>TRANSPORTATION_DISTANCE_IN_KM</th>\n",
       "      <th>Minimum_kms_to_be_covered_in_a_day</th>\n",
       "      <th>Driver_MobileNo</th>\n",
       "    </tr>\n",
       "  </thead>\n",
       "  <tbody>\n",
       "    <tr>\n",
       "      <th>count</th>\n",
       "      <td>5927.00</td>\n",
       "      <td>5927.00</td>\n",
       "      <td>6168.00</td>\n",
       "      <td>2820.00</td>\n",
       "      <td>2691.00</td>\n",
       "    </tr>\n",
       "    <tr>\n",
       "      <th>mean</th>\n",
       "      <td>18.68</td>\n",
       "      <td>78.76</td>\n",
       "      <td>553.86</td>\n",
       "      <td>250.24</td>\n",
       "      <td>8598981266.45</td>\n",
       "    </tr>\n",
       "    <tr>\n",
       "      <th>std</th>\n",
       "      <td>6.08</td>\n",
       "      <td>4.22</td>\n",
       "      <td>758.98</td>\n",
       "      <td>24.32</td>\n",
       "      <td>1131668748.29</td>\n",
       "    </tr>\n",
       "    <tr>\n",
       "      <th>min</th>\n",
       "      <td>8.17</td>\n",
       "      <td>69.66</td>\n",
       "      <td>0.00</td>\n",
       "      <td>0.00</td>\n",
       "      <td>6000546262.00</td>\n",
       "    </tr>\n",
       "    <tr>\n",
       "      <th>25%</th>\n",
       "      <td>12.87</td>\n",
       "      <td>76.89</td>\n",
       "      <td>40.00</td>\n",
       "      <td>250.00</td>\n",
       "      <td>7651504602.50</td>\n",
       "    </tr>\n",
       "    <tr>\n",
       "      <th>50%</th>\n",
       "      <td>17.47</td>\n",
       "      <td>77.84</td>\n",
       "      <td>160.00</td>\n",
       "      <td>250.00</td>\n",
       "      <td>8930761921.00</td>\n",
       "    </tr>\n",
       "    <tr>\n",
       "      <th>75%</th>\n",
       "      <td>23.20</td>\n",
       "      <td>80.02</td>\n",
       "      <td>900.00</td>\n",
       "      <td>250.00</td>\n",
       "      <td>9634981447.00</td>\n",
       "    </tr>\n",
       "    <tr>\n",
       "      <th>max</th>\n",
       "      <td>32.37</td>\n",
       "      <td>95.53</td>\n",
       "      <td>2954.70</td>\n",
       "      <td>275.00</td>\n",
       "      <td>9999999999.00</td>\n",
       "    </tr>\n",
       "  </tbody>\n",
       "</table>\n",
       "</div>"
      ],
      "text/plain": [
       "       Curr_lat  Curr_lon  TRANSPORTATION_DISTANCE_IN_KM  \\\n",
       "count   5927.00   5927.00                        6168.00   \n",
       "mean      18.68     78.76                         553.86   \n",
       "std        6.08      4.22                         758.98   \n",
       "min        8.17     69.66                           0.00   \n",
       "25%       12.87     76.89                          40.00   \n",
       "50%       17.47     77.84                         160.00   \n",
       "75%       23.20     80.02                         900.00   \n",
       "max       32.37     95.53                        2954.70   \n",
       "\n",
       "       Minimum_kms_to_be_covered_in_a_day  Driver_MobileNo  \n",
       "count                             2820.00          2691.00  \n",
       "mean                               250.24    8598981266.45  \n",
       "std                                 24.32    1131668748.29  \n",
       "min                                  0.00    6000546262.00  \n",
       "25%                                250.00    7651504602.50  \n",
       "50%                                250.00    8930761921.00  \n",
       "75%                                250.00    9634981447.00  \n",
       "max                                275.00    9999999999.00  "
      ]
     },
     "execution_count": 20,
     "metadata": {},
     "output_type": "execute_result"
    }
   ],
   "source": [
    "pd.options.display.float_format = \"{:.2f}\".format\n",
    "dfT.describe()# for numeric columns"
   ]
  },
  {
   "cell_type": "markdown",
   "metadata": {},
   "source": [
    "data_name[‘column_name’].replace(0, np.nan, inplace= True)\n",
    "\n",
    "This will replace values of zero with NaN in the column named column_name of our data_name ."
   ]
  },
  {
   "cell_type": "markdown",
   "metadata": {},
   "source": [
    "##### value_counts()\n",
    "\n",
    "Series.value_counts(normalize=False, sort=True, ascending=False, bins=None, dropna=True)\n",
    "\n",
    "Return a Series containing counts of unique values.\n",
    "\n",
    "The resulting object will be in descending order so that the first element is the most frequently-occurring element. Excludes NA values by default.\n",
    "\n",
    "Series.count:\n",
    "Number of non-NA elements in a Series.\n",
    "\n",
    "DataFrame.count:\n",
    "Number of non-NA elements in a DataFrame.\n",
    "\n",
    "DataFrame.value_counts: \n",
    "Equivalent method on DataFrames."
   ]
  },
  {
   "cell_type": "code",
   "execution_count": 116,
   "metadata": {},
   "outputs": [
    {
     "data": {
      "text/plain": [
       "G    1591\n",
       "Name: ontime, dtype: int64"
      ]
     },
     "execution_count": 116,
     "metadata": {},
     "output_type": "execute_result"
    }
   ],
   "source": [
    "dfT['ontime'].value_counts()"
   ]
  },
  {
   "cell_type": "code",
   "execution_count": 117,
   "metadata": {},
   "outputs": [
    {
     "data": {
      "text/plain": [
       "R    4336\n",
       "Name: delay, dtype: int64"
      ]
     },
     "execution_count": 117,
     "metadata": {},
     "output_type": "execute_result"
    }
   ],
   "source": [
    "dfT['delay'].value_counts()"
   ]
  },
  {
   "cell_type": "code",
   "execution_count": 22,
   "metadata": {},
   "outputs": [],
   "source": [
    "#making a copy of data before preprocessing\n",
    "data_raw=dfT.copy()"
   ]
  },
  {
   "cell_type": "markdown",
   "metadata": {},
   "source": [
    "##### FILLING MISSING VALUES\n",
    "\n",
    "\n",
    "This is the most common method of handling missing values. This is a process whereby missing values are replaced with a test statistic like mean, median or mode of the particular feature the missing value belongs to. One can also specify a forward-fill or back-fill to propagate the next values backward or previous value forward.\n",
    "\n",
    "data[\"TRANSPORTATION_DISTANCE_IN_KM\"].fillna( method ='ffill', limit = 1, inplace = True)\n",
    "\n",
    "Reference for fillna():\n",
    "    https://www.sharpsightlabs.com/blog/pandas-fillna/"
   ]
  },
  {
   "cell_type": "code",
   "execution_count": 118,
   "metadata": {},
   "outputs": [
    {
     "data": {
      "text/html": [
       "<div>\n",
       "<style scoped>\n",
       "    .dataframe tbody tr th:only-of-type {\n",
       "        vertical-align: middle;\n",
       "    }\n",
       "\n",
       "    .dataframe tbody tr th {\n",
       "        vertical-align: top;\n",
       "    }\n",
       "\n",
       "    .dataframe thead th {\n",
       "        text-align: right;\n",
       "    }\n",
       "</style>\n",
       "<table border=\"1\" class=\"dataframe\">\n",
       "  <thead>\n",
       "    <tr style=\"text-align: right;\">\n",
       "      <th></th>\n",
       "      <th>Curr_lat</th>\n",
       "      <th>Curr_lon</th>\n",
       "      <th>TRANSPORTATION_DISTANCE_IN_KM</th>\n",
       "      <th>Minimum_kms_to_be_covered_in_a_day</th>\n",
       "      <th>Driver_MobileNo</th>\n",
       "      <th>ontime/delay</th>\n",
       "      <th>Org_Dest_distance</th>\n",
       "    </tr>\n",
       "  </thead>\n",
       "  <tbody>\n",
       "    <tr>\n",
       "      <th>count</th>\n",
       "      <td>5915.00</td>\n",
       "      <td>5915.00</td>\n",
       "      <td>5915.00</td>\n",
       "      <td>2624.00</td>\n",
       "      <td>5915.00</td>\n",
       "      <td>5915.00</td>\n",
       "      <td>5915.00</td>\n",
       "    </tr>\n",
       "    <tr>\n",
       "      <th>mean</th>\n",
       "      <td>18.69</td>\n",
       "      <td>78.76</td>\n",
       "      <td>598.07</td>\n",
       "      <td>248.77</td>\n",
       "      <td>0.45</td>\n",
       "      <td>0.27</td>\n",
       "      <td>593.11</td>\n",
       "    </tr>\n",
       "    <tr>\n",
       "      <th>std</th>\n",
       "      <td>6.08</td>\n",
       "      <td>4.22</td>\n",
       "      <td>774.43</td>\n",
       "      <td>24.43</td>\n",
       "      <td>0.50</td>\n",
       "      <td>0.44</td>\n",
       "      <td>606.70</td>\n",
       "    </tr>\n",
       "    <tr>\n",
       "      <th>min</th>\n",
       "      <td>8.17</td>\n",
       "      <td>69.66</td>\n",
       "      <td>0.00</td>\n",
       "      <td>0.00</td>\n",
       "      <td>0.00</td>\n",
       "      <td>0.00</td>\n",
       "      <td>0.00</td>\n",
       "    </tr>\n",
       "    <tr>\n",
       "      <th>25%</th>\n",
       "      <td>12.87</td>\n",
       "      <td>76.91</td>\n",
       "      <td>43.00</td>\n",
       "      <td>250.00</td>\n",
       "      <td>0.00</td>\n",
       "      <td>0.00</td>\n",
       "      <td>31.04</td>\n",
       "    </tr>\n",
       "    <tr>\n",
       "      <th>50%</th>\n",
       "      <td>17.47</td>\n",
       "      <td>77.84</td>\n",
       "      <td>177.00</td>\n",
       "      <td>250.00</td>\n",
       "      <td>0.00</td>\n",
       "      <td>0.00</td>\n",
       "      <td>390.68</td>\n",
       "    </tr>\n",
       "    <tr>\n",
       "      <th>75%</th>\n",
       "      <td>23.21</td>\n",
       "      <td>80.02</td>\n",
       "      <td>1020.00</td>\n",
       "      <td>250.00</td>\n",
       "      <td>1.00</td>\n",
       "      <td>1.00</td>\n",
       "      <td>950.68</td>\n",
       "    </tr>\n",
       "    <tr>\n",
       "      <th>max</th>\n",
       "      <td>32.37</td>\n",
       "      <td>95.53</td>\n",
       "      <td>2954.70</td>\n",
       "      <td>275.00</td>\n",
       "      <td>1.00</td>\n",
       "      <td>1.00</td>\n",
       "      <td>2339.13</td>\n",
       "    </tr>\n",
       "  </tbody>\n",
       "</table>\n",
       "</div>"
      ],
      "text/plain": [
       "       Curr_lat  Curr_lon  TRANSPORTATION_DISTANCE_IN_KM  \\\n",
       "count   5915.00   5915.00                        5915.00   \n",
       "mean      18.69     78.76                         598.07   \n",
       "std        6.08      4.22                         774.43   \n",
       "min        8.17     69.66                           0.00   \n",
       "25%       12.87     76.91                          43.00   \n",
       "50%       17.47     77.84                         177.00   \n",
       "75%       23.21     80.02                        1020.00   \n",
       "max       32.37     95.53                        2954.70   \n",
       "\n",
       "       Minimum_kms_to_be_covered_in_a_day  Driver_MobileNo  ontime/delay  \\\n",
       "count                             2624.00          5915.00       5915.00   \n",
       "mean                               248.77             0.45          0.27   \n",
       "std                                 24.43             0.50          0.44   \n",
       "min                                  0.00             0.00          0.00   \n",
       "25%                                250.00             0.00          0.00   \n",
       "50%                                250.00             0.00          0.00   \n",
       "75%                                250.00             1.00          1.00   \n",
       "max                                275.00             1.00          1.00   \n",
       "\n",
       "       Org_Dest_distance  \n",
       "count            5915.00  \n",
       "mean              593.11  \n",
       "std               606.70  \n",
       "min                 0.00  \n",
       "25%                31.04  \n",
       "50%               390.68  \n",
       "75%               950.68  \n",
       "max              2339.13  "
      ]
     },
     "execution_count": 118,
     "metadata": {},
     "output_type": "execute_result"
    }
   ],
   "source": [
    "dfT.describe()"
   ]
  },
  {
   "cell_type": "markdown",
   "metadata": {},
   "source": [
    "##### Description of Categorical data :\n",
    "    \n",
    "We cannot directly describe categorical data statistically,we will have to do several steps to do the same."
   ]
  },
  {
   "cell_type": "code",
   "execution_count": 119,
   "metadata": {},
   "outputs": [
    {
     "name": "stdout",
     "output_type": "stream",
     "text": [
      "GpsProvider                            True\n",
      "BookingID                              True\n",
      "Market/Regular                         True\n",
      "BookingID_Date                        False\n",
      "vehicle_no                             True\n",
      "Origin_Location                        True\n",
      "Destination_Location                   True\n",
      "Org_lat_lon                            True\n",
      "Des_lat_lon                            True\n",
      "Data_Ping_time                        False\n",
      "Planned_ETA                           False\n",
      "Current_Location                       True\n",
      "DestinationLocation                    True\n",
      "actual_eta                            False\n",
      "Curr_lat                              False\n",
      "Curr_lon                              False\n",
      "ontime                                 True\n",
      "delay                                  True\n",
      "OriginLocation_Code                    True\n",
      "DestinationLocation_Code               True\n",
      "trip_start_date                       False\n",
      "trip_end_date                         False\n",
      "TRANSPORTATION_DISTANCE_IN_KM         False\n",
      "vehicleType                            True\n",
      "Minimum_kms_to_be_covered_in_a_day    False\n",
      "Driver_Name                            True\n",
      "Driver_MobileNo                       False\n",
      "customerID                             True\n",
      "customerNameCode                       True\n",
      "supplierID                             True\n",
      "supplierNameCode                       True\n",
      "Material Shipped                       True\n",
      "ontime/delay                          False\n",
      "vehicle_states                         True\n",
      "Origin_states                          True\n",
      "Dest_states                            True\n",
      "Org_Dest_distance                     False\n",
      "dtype: bool\n"
     ]
    }
   ],
   "source": [
    "a=(dfT.dtypes==\"object\")  \n",
    "print(a)"
   ]
  },
  {
   "cell_type": "code",
   "execution_count": 121,
   "metadata": {},
   "outputs": [
    {
     "data": {
      "text/plain": [
       "count         24\n",
       "unique         1\n",
       "top       object\n",
       "freq          24\n",
       "dtype: object"
      ]
     },
     "execution_count": 121,
     "metadata": {},
     "output_type": "execute_result"
    }
   ],
   "source": [
    "b = dfT.dtypes[a]  # give the output if \"a\" returns True value \n",
    "b.describe()"
   ]
  },
  {
   "cell_type": "markdown",
   "metadata": {},
   "source": [
    "##### pandas.Series.rolling\n",
    "\n",
    "Series.rolling(window, min_periods=None, center=False, win_type=None, on=None, axis=0, closed=None)[source]\n",
    "Provide rolling window calculations.\n",
    "\n",
    "Parameters:\n",
    "\n",
    "windowint, offset, or BaseIndexer subclass:\n",
    "Size of the moving window. This is the number of observations used for calculating the statistic. Each window will be a fixed size.\n",
    "If its an offset then this will be the time period of each window. Each window will be a variable sized based on the observations included in the time-period. This is only valid for datetimelike indexes.\n",
    "If a BaseIndexer subclass is passed, calculates the window boundaries based on the defined get_window_bounds method. Additional rolling keyword arguments, namely min_periods, center, and closed will be passed to get_window_bounds.\n",
    "\n",
    "min_periodsint, default None:\n",
    "\n",
    "Minimum number of observations in window required to have a value (otherwise result is NA). For a window that is specified by an offset, min_periods will default to 1. Otherwise, min_periods will default to the size of the window.\n",
    "\n",
    "centerbool, default False:\n",
    "\n",
    "Set the labels at the center of the window.\n",
    "\n",
    "\n",
    "***A rolling mean is simply the mean of a certain number of previous periods in a time series.\n",
    "\n",
    "To calculate the rolling mean for one or more columns in a pandas DataFrame, we can use the following syntax:\n",
    "\n",
    "df['column_name'].rolling(rolling_window).mean()"
   ]
  },
  {
   "cell_type": "markdown",
   "metadata": {},
   "source": [
    "GpsProvider 13.850000000000001\n",
    "Data_Ping_time 13.850000000000001\n",
    "Current_Location 14.01\n",
    "ontime 62.970000000000006\n",
    "delay 36.89\n",
    "vehicleType 12.030000000000001\n",
    "Driver_Name 49.84\n",
    "Driver_MobileNo 60.89\n",
    "\n",
    "After using tresh, the percent of ontime is increase and the percent of delay decrease? Why? the shape of data does not change before and after using tresh (6880, 32), but the percent of columns \n",
    "\n",
    "#drop columns that have 80% or more missing values\n",
    "dfT = data.dropna(axis=1, thresh=1376)\n",
    "\n",
    "Keep only rows where 80% or more valid data is available"
   ]
  },
  {
   "cell_type": "code",
   "execution_count": 114,
   "metadata": {},
   "outputs": [
    {
     "name": "stdout",
     "output_type": "stream",
     "text": [
      "ontime 73.1\n",
      "delay 26.69\n",
      "OriginLocation_Code 0.05\n",
      "DestinationLocation_Code 0.45999999999999996\n",
      "Minimum_kms_to_be_covered_in_a_day 55.64\n"
     ]
    }
   ],
   "source": [
    "#let's check the percentage of null values in each feature\n",
    "for col in dfT.columns:\n",
    "    if dfT[col].isna().sum()>0:\n",
    "        print(col, dfT[col].isna().mean().round(4)*100)"
   ]
  },
  {
   "cell_type": "code",
   "execution_count": 23,
   "metadata": {},
   "outputs": [],
   "source": [
    "#Method1\n",
    "dfT.fillna({\n",
    "            #let's name unkown for null values in driver name\n",
    "            'Driver_Name' : dfT.Driver_Name.fillna('Unknown'),\n",
    "\n",
    "            #let's impute transportation distence with mean value\n",
    "            'TRANSPORTATION_DISTANCE_IN_KM': dfT.TRANSPORTATION_DISTANCE_IN_KM.rolling(min_periods=1, center=True, window=12).mean(),\n",
    "\n",
    "            #let's name unkown for null values in vehicle type\n",
    "            'vehicleType':dfT.vehicleType.fillna('Unknown'),\n",
    "\n",
    "            #let's fill pervious date for actual.eta\n",
    "            'actual_eta':dfT.actual_eta.fillna(method='ffill'),\n",
    "            },\n",
    "        inplace = True)\n",
    "\n"
   ]
  },
  {
   "cell_type": "markdown",
   "metadata": {},
   "source": [
    "#let's name unkown for null values in driver name\n",
    "data['Driver_Name']=data['Driver_Name'].fillna('Unknown')\n",
    "\n",
    "#let's impute transportation distence with mean value\n",
    "data['TRANSPORTATION_DISTANCE_IN_KM']= data[\"TRANSPORTATION_DISTANCE_IN_KM\"].rolling(min_periods=1, center=True, window=12).mean()\n",
    "\n",
    "#let's name unkown for null values in vehicle type\n",
    "data['vehicleType']=data['vehicleType'].fillna('Unknown')\n",
    "\n",
    "#let's fill pervious date for actual.eta\n",
    "data['actual_eta']=data['actual_eta'].fillna(method='ffill')"
   ]
  },
  {
   "cell_type": "code",
   "execution_count": 24,
   "metadata": {
    "scrolled": true
   },
   "outputs": [
    {
     "data": {
      "text/html": [
       "<div>\n",
       "<style scoped>\n",
       "    .dataframe tbody tr th:only-of-type {\n",
       "        vertical-align: middle;\n",
       "    }\n",
       "\n",
       "    .dataframe tbody tr th {\n",
       "        vertical-align: top;\n",
       "    }\n",
       "\n",
       "    .dataframe thead th {\n",
       "        text-align: right;\n",
       "    }\n",
       "</style>\n",
       "<table border=\"1\" class=\"dataframe\">\n",
       "  <thead>\n",
       "    <tr style=\"text-align: right;\">\n",
       "      <th></th>\n",
       "      <th>Curr_lat</th>\n",
       "      <th>Curr_lon</th>\n",
       "      <th>TRANSPORTATION_DISTANCE_IN_KM</th>\n",
       "      <th>Minimum_kms_to_be_covered_in_a_day</th>\n",
       "      <th>Driver_MobileNo</th>\n",
       "    </tr>\n",
       "  </thead>\n",
       "  <tbody>\n",
       "    <tr>\n",
       "      <th>count</th>\n",
       "      <td>5927.00</td>\n",
       "      <td>5927.00</td>\n",
       "      <td>6647.00</td>\n",
       "      <td>2820.00</td>\n",
       "      <td>2691.00</td>\n",
       "    </tr>\n",
       "    <tr>\n",
       "      <th>mean</th>\n",
       "      <td>18.68</td>\n",
       "      <td>78.76</td>\n",
       "      <td>546.57</td>\n",
       "      <td>250.24</td>\n",
       "      <td>8598981266.45</td>\n",
       "    </tr>\n",
       "    <tr>\n",
       "      <th>std</th>\n",
       "      <td>6.08</td>\n",
       "      <td>4.22</td>\n",
       "      <td>748.53</td>\n",
       "      <td>24.32</td>\n",
       "      <td>1131668748.29</td>\n",
       "    </tr>\n",
       "    <tr>\n",
       "      <th>min</th>\n",
       "      <td>8.17</td>\n",
       "      <td>69.66</td>\n",
       "      <td>0.00</td>\n",
       "      <td>0.00</td>\n",
       "      <td>6000546262.00</td>\n",
       "    </tr>\n",
       "    <tr>\n",
       "      <th>25%</th>\n",
       "      <td>12.87</td>\n",
       "      <td>76.89</td>\n",
       "      <td>40.00</td>\n",
       "      <td>250.00</td>\n",
       "      <td>7651504602.50</td>\n",
       "    </tr>\n",
       "    <tr>\n",
       "      <th>50%</th>\n",
       "      <td>17.47</td>\n",
       "      <td>77.84</td>\n",
       "      <td>150.00</td>\n",
       "      <td>250.00</td>\n",
       "      <td>8930761921.00</td>\n",
       "    </tr>\n",
       "    <tr>\n",
       "      <th>75%</th>\n",
       "      <td>23.20</td>\n",
       "      <td>80.02</td>\n",
       "      <td>900.00</td>\n",
       "      <td>250.00</td>\n",
       "      <td>9634981447.00</td>\n",
       "    </tr>\n",
       "    <tr>\n",
       "      <th>max</th>\n",
       "      <td>32.37</td>\n",
       "      <td>95.53</td>\n",
       "      <td>2954.70</td>\n",
       "      <td>275.00</td>\n",
       "      <td>9999999999.00</td>\n",
       "    </tr>\n",
       "  </tbody>\n",
       "</table>\n",
       "</div>"
      ],
      "text/plain": [
       "       Curr_lat  Curr_lon  TRANSPORTATION_DISTANCE_IN_KM  \\\n",
       "count   5927.00   5927.00                        6647.00   \n",
       "mean      18.68     78.76                         546.57   \n",
       "std        6.08      4.22                         748.53   \n",
       "min        8.17     69.66                           0.00   \n",
       "25%       12.87     76.89                          40.00   \n",
       "50%       17.47     77.84                         150.00   \n",
       "75%       23.20     80.02                         900.00   \n",
       "max       32.37     95.53                        2954.70   \n",
       "\n",
       "       Minimum_kms_to_be_covered_in_a_day  Driver_MobileNo  \n",
       "count                             2820.00          2691.00  \n",
       "mean                               250.24    8598981266.45  \n",
       "std                                 24.32    1131668748.29  \n",
       "min                                  0.00    6000546262.00  \n",
       "25%                                250.00    7651504602.50  \n",
       "50%                                250.00    8930761921.00  \n",
       "75%                                250.00    9634981447.00  \n",
       "max                                275.00    9999999999.00  "
      ]
     },
     "execution_count": 24,
     "metadata": {},
     "output_type": "execute_result"
    }
   ],
   "source": [
    "dfT.describe()"
   ]
  },
  {
   "cell_type": "markdown",
   "metadata": {},
   "source": [
    "##### value_counts()\n",
    "\n",
    "value_counts() aggregates the data and counts each unique value. You can achieve the same by using groupby which is a more broad function to aggregate data in pandas. count() simply returns the number of non NaN/Null values in column (series) you apply it on."
   ]
  },
  {
   "cell_type": "code",
   "execution_count": 25,
   "metadata": {},
   "outputs": [
    {
     "data": {
      "text/plain": [
       "25.00      384\n",
       "30.00      227\n",
       "1900.00    201\n",
       "40.00      182\n",
       "70.00      178\n",
       "          ... \n",
       "34.77        1\n",
       "447.00       1\n",
       "719.25       1\n",
       "674.10       1\n",
       "1515.15      1\n",
       "Name: TRANSPORTATION_DISTANCE_IN_KM, Length: 878, dtype: int64"
      ]
     },
     "execution_count": 25,
     "metadata": {},
     "output_type": "execute_result"
    }
   ],
   "source": [
    "dfT['TRANSPORTATION_DISTANCE_IN_KM'].value_counts()"
   ]
  },
  {
   "cell_type": "markdown",
   "metadata": {},
   "source": [
    "##### DROPPING NULL OR MISSING VALUES\n",
    "\n",
    "\n",
    "This is the fastest and easiest step to handle missing values. However, it is not generally advised. This method reduces the quality of our model as it reduces sample size because it works by deleting all other observations where any of the variable is missing. The process can be done by:\n",
    "data_name.dropna()"
   ]
  },
  {
   "cell_type": "markdown",
   "metadata": {},
   "source": [
    "dfT = dfT.dropna()"
   ]
  },
  {
   "cell_type": "markdown",
   "metadata": {},
   "source": [
    "Test failures running tests twice in the same process"
   ]
  },
  {
   "cell_type": "markdown",
   "metadata": {},
   "source": [
    "dfT.describe()\n"
   ]
  },
  {
   "cell_type": "code",
   "execution_count": 26,
   "metadata": {},
   "outputs": [
    {
     "data": {
      "text/html": [
       "<div>\n",
       "<style scoped>\n",
       "    .dataframe tbody tr th:only-of-type {\n",
       "        vertical-align: middle;\n",
       "    }\n",
       "\n",
       "    .dataframe tbody tr th {\n",
       "        vertical-align: top;\n",
       "    }\n",
       "\n",
       "    .dataframe thead th {\n",
       "        text-align: right;\n",
       "    }\n",
       "</style>\n",
       "<table border=\"1\" class=\"dataframe\">\n",
       "  <thead>\n",
       "    <tr style=\"text-align: right;\">\n",
       "      <th></th>\n",
       "      <th>GpsProvider</th>\n",
       "      <th>BookingID</th>\n",
       "      <th>Market/Regular</th>\n",
       "      <th>BookingID_Date</th>\n",
       "      <th>vehicle_no</th>\n",
       "      <th>Origin_Location</th>\n",
       "      <th>Destination_Location</th>\n",
       "      <th>Org_lat_lon</th>\n",
       "      <th>Des_lat_lon</th>\n",
       "      <th>Data_Ping_time</th>\n",
       "      <th>Planned_ETA</th>\n",
       "      <th>Current_Location</th>\n",
       "      <th>DestinationLocation</th>\n",
       "      <th>actual_eta</th>\n",
       "      <th>Curr_lat</th>\n",
       "      <th>Curr_lon</th>\n",
       "      <th>ontime</th>\n",
       "      <th>delay</th>\n",
       "      <th>OriginLocation_Code</th>\n",
       "      <th>DestinationLocation_Code</th>\n",
       "      <th>trip_start_date</th>\n",
       "      <th>trip_end_date</th>\n",
       "      <th>TRANSPORTATION_DISTANCE_IN_KM</th>\n",
       "      <th>vehicleType</th>\n",
       "      <th>Minimum_kms_to_be_covered_in_a_day</th>\n",
       "      <th>Driver_Name</th>\n",
       "      <th>Driver_MobileNo</th>\n",
       "      <th>customerID</th>\n",
       "      <th>customerNameCode</th>\n",
       "      <th>supplierID</th>\n",
       "      <th>supplierNameCode</th>\n",
       "      <th>Material Shipped</th>\n",
       "    </tr>\n",
       "  </thead>\n",
       "  <tbody>\n",
       "    <tr>\n",
       "      <th>6868</th>\n",
       "      <td>JTECH</td>\n",
       "      <td>WDSBKTP44502</td>\n",
       "      <td>Regular</td>\n",
       "      <td>2019-04-15 15:15:13</td>\n",
       "      <td>KA21A5090</td>\n",
       "      <td>Mugabala, Bangalore Rural, Karnataka</td>\n",
       "      <td>Peenya Small Industries, Bangalore, Karnataka</td>\n",
       "      <td>16.560192249175344,80.792293091599547</td>\n",
       "      <td>13.196312912801169,77.708156925688726</td>\n",
       "      <td>2019-06-14 15:20:12</td>\n",
       "      <td>1899-12-30 04:06:00</td>\n",
       "      <td>Shed No 60, Medahalli Kadugodi Road, Virgonaga...</td>\n",
       "      <td>Peenya Small Industries, Bangalore, Karnataka</td>\n",
       "      <td>1899-12-30 03:21:00</td>\n",
       "      <td>13.03</td>\n",
       "      <td>77.72</td>\n",
       "      <td>NaN</td>\n",
       "      <td>R</td>\n",
       "      <td>V0048673</td>\n",
       "      <td>LE005419</td>\n",
       "      <td>1899-12-30 00:00:00</td>\n",
       "      <td>1899-12-30 03:21:00</td>\n",
       "      <td>41.00</td>\n",
       "      <td>40 FT 3XL Trailer 35MT</td>\n",
       "      <td>nan</td>\n",
       "      <td>Unknown</td>\n",
       "      <td>nan</td>\n",
       "      <td>LTLEXMUM40</td>\n",
       "      <td>Larsen &amp; toubro limited</td>\n",
       "      <td>55556</td>\n",
       "      <td>A S TRANSPORTS</td>\n",
       "      <td>INSRT-VLV ST INTK</td>\n",
       "    </tr>\n",
       "    <tr>\n",
       "      <th>6264</th>\n",
       "      <td>NaN</td>\n",
       "      <td>WDSBKTP49392</td>\n",
       "      <td>Regular</td>\n",
       "      <td>2019-06-10 13:17:44</td>\n",
       "      <td>WB59B9152</td>\n",
       "      <td>Sonai, Kolkata, West Bengal</td>\n",
       "      <td>Kalyani, Nadia, West Bengal</td>\n",
       "      <td>23.525267916088961,87.264424348570884</td>\n",
       "      <td>22.952176370977448,88.4571405591546</td>\n",
       "      <td>NaT</td>\n",
       "      <td>1899-12-30 08:58:00</td>\n",
       "      <td>NaN</td>\n",
       "      <td>Kalyani, Nadia, West Bengal</td>\n",
       "      <td>1899-12-30 08:13:00</td>\n",
       "      <td>nan</td>\n",
       "      <td>nan</td>\n",
       "      <td>G</td>\n",
       "      <td>NaN</td>\n",
       "      <td>V0045772</td>\n",
       "      <td>LE005821</td>\n",
       "      <td>1899-12-30 00:00:00</td>\n",
       "      <td>1899-12-30 08:13:00</td>\n",
       "      <td>51.00</td>\n",
       "      <td>40 FT Flat Bed Multi-Axle 27MT - Trailer</td>\n",
       "      <td>nan</td>\n",
       "      <td>Unknown</td>\n",
       "      <td>nan</td>\n",
       "      <td>LTLEXMUM40</td>\n",
       "      <td>Larsen &amp; toubro limited</td>\n",
       "      <td>55471</td>\n",
       "      <td>SUNITA CARRIERS PRIVATE LIMITED</td>\n",
       "      <td>FXUWB-LID COVER</td>\n",
       "    </tr>\n",
       "    <tr>\n",
       "      <th>5910</th>\n",
       "      <td>NaN</td>\n",
       "      <td>WDSBKTP41957</td>\n",
       "      <td>Regular</td>\n",
       "      <td>2019-03-18 12:19:22</td>\n",
       "      <td>AP26TE1258</td>\n",
       "      <td>Sedarapet, India</td>\n",
       "      <td>Redhills, Chennai, Tamil Nadu, India</td>\n",
       "      <td>12.0001,79.74839949999999</td>\n",
       "      <td>13.1992334,80.196693</td>\n",
       "      <td>NaT</td>\n",
       "      <td>2019-03-19 11:45:22</td>\n",
       "      <td>NaN</td>\n",
       "      <td>Redhills, Chennai, Tamil Nadu, India</td>\n",
       "      <td>2019-03-19 11:00:22</td>\n",
       "      <td>nan</td>\n",
       "      <td>nan</td>\n",
       "      <td>G</td>\n",
       "      <td>NaN</td>\n",
       "      <td>CHESEDLTLCCA1</td>\n",
       "      <td>CHEVADTDUCCA1</td>\n",
       "      <td>2019-03-18 12:19:22</td>\n",
       "      <td>2019-03-19 11:00:22</td>\n",
       "      <td>38.20</td>\n",
       "      <td>24 | 26 FT Taurus Open 21MT - HCV</td>\n",
       "      <td>nan</td>\n",
       "      <td>Unknown</td>\n",
       "      <td>nan</td>\n",
       "      <td>LTLEXMUM40</td>\n",
       "      <td>Larsen &amp; toubro limited</td>\n",
       "      <td>55075</td>\n",
       "      <td>Sri Ayyappan Agencies</td>\n",
       "      <td>COOLANT HOSE / RADIATOR TO ENGINE</td>\n",
       "    </tr>\n",
       "    <tr>\n",
       "      <th>6631</th>\n",
       "      <td>NaN</td>\n",
       "      <td>WDSBKTP41973</td>\n",
       "      <td>Regular</td>\n",
       "      <td>2019-03-18 16:24:18</td>\n",
       "      <td>TN20AJ1188</td>\n",
       "      <td>Kanchipuram, Tamil Nadu, India</td>\n",
       "      <td>Periyapatti, Tamil Nadu, India</td>\n",
       "      <td>12.8341735,79.7036402</td>\n",
       "      <td>11.2044996,78.1421905</td>\n",
       "      <td>NaT</td>\n",
       "      <td>2019-03-20 18:00:18</td>\n",
       "      <td>NaN</td>\n",
       "      <td>Periyapatti, Tamil Nadu, India</td>\n",
       "      <td>2019-03-20 17:15:18</td>\n",
       "      <td>nan</td>\n",
       "      <td>nan</td>\n",
       "      <td>G</td>\n",
       "      <td>NaN</td>\n",
       "      <td>CHEMANLTLWHA1</td>\n",
       "      <td>CHEPARPUBTPA1</td>\n",
       "      <td>2019-03-18 16:24:18</td>\n",
       "      <td>2019-03-20 17:15:18</td>\n",
       "      <td>nan</td>\n",
       "      <td>22 FT Taurus Open 16MT - HCV</td>\n",
       "      <td>275.00</td>\n",
       "      <td>Unknown</td>\n",
       "      <td>nan</td>\n",
       "      <td>LTLEXMUM40</td>\n",
       "      <td>Larsen &amp; toubro limited</td>\n",
       "      <td>999</td>\n",
       "      <td>Unknown</td>\n",
       "      <td>A114 Alternator(New Versa)</td>\n",
       "    </tr>\n",
       "    <tr>\n",
       "      <th>5912</th>\n",
       "      <td>NaN</td>\n",
       "      <td>WDSBKTP41974</td>\n",
       "      <td>Regular</td>\n",
       "      <td>2019-03-18 16:56:02</td>\n",
       "      <td>TN25AT7677</td>\n",
       "      <td>Sedarapet, India</td>\n",
       "      <td>Mylasandra, Bengaluru, Karnataka, India</td>\n",
       "      <td>12.0001,79.74839949999999</td>\n",
       "      <td>12.853929,77.6178125</td>\n",
       "      <td>NaT</td>\n",
       "      <td>2019-03-20 12:38:02</td>\n",
       "      <td>NaN</td>\n",
       "      <td>Mylasandra, Bengaluru, Karnataka, India</td>\n",
       "      <td>2019-03-20 11:53:02</td>\n",
       "      <td>nan</td>\n",
       "      <td>nan</td>\n",
       "      <td>G</td>\n",
       "      <td>NaN</td>\n",
       "      <td>CHESEDLTLCCA1</td>\n",
       "      <td>HOSBYALTLWHA1</td>\n",
       "      <td>2019-03-18 16:56:02</td>\n",
       "      <td>2019-03-20 11:53:02</td>\n",
       "      <td>40.00</td>\n",
       "      <td>24 | 26 FT Taurus Open 21MT - HCV</td>\n",
       "      <td>nan</td>\n",
       "      <td>Unknown</td>\n",
       "      <td>nan</td>\n",
       "      <td>LTLEXMUM40</td>\n",
       "      <td>Larsen &amp; toubro limited</td>\n",
       "      <td>999</td>\n",
       "      <td>Unknown</td>\n",
       "      <td>COOLANT HOSE</td>\n",
       "    </tr>\n",
       "  </tbody>\n",
       "</table>\n",
       "</div>"
      ],
      "text/plain": [
       "     GpsProvider     BookingID Market/Regular       BookingID_Date  \\\n",
       "6868       JTECH  WDSBKTP44502         Regular 2019-04-15 15:15:13   \n",
       "6264         NaN  WDSBKTP49392         Regular 2019-06-10 13:17:44   \n",
       "5910         NaN  WDSBKTP41957         Regular 2019-03-18 12:19:22   \n",
       "6631         NaN  WDSBKTP41973         Regular 2019-03-18 16:24:18   \n",
       "5912         NaN  WDSBKTP41974         Regular 2019-03-18 16:56:02   \n",
       "\n",
       "      vehicle_no                       Origin_Location  \\\n",
       "6868   KA21A5090  Mugabala, Bangalore Rural, Karnataka   \n",
       "6264   WB59B9152           Sonai, Kolkata, West Bengal   \n",
       "5910  AP26TE1258                      Sedarapet, India   \n",
       "6631  TN20AJ1188        Kanchipuram, Tamil Nadu, India   \n",
       "5912  TN25AT7677                      Sedarapet, India   \n",
       "\n",
       "                               Destination_Location  \\\n",
       "6868  Peenya Small Industries, Bangalore, Karnataka   \n",
       "6264                    Kalyani, Nadia, West Bengal   \n",
       "5910           Redhills, Chennai, Tamil Nadu, India   \n",
       "6631                 Periyapatti, Tamil Nadu, India   \n",
       "5912        Mylasandra, Bengaluru, Karnataka, India   \n",
       "\n",
       "                                Org_lat_lon  \\\n",
       "6868  16.560192249175344,80.792293091599547   \n",
       "6264  23.525267916088961,87.264424348570884   \n",
       "5910              12.0001,79.74839949999999   \n",
       "6631                  12.8341735,79.7036402   \n",
       "5912              12.0001,79.74839949999999   \n",
       "\n",
       "                                Des_lat_lon      Data_Ping_time  \\\n",
       "6868  13.196312912801169,77.708156925688726 2019-06-14 15:20:12   \n",
       "6264    22.952176370977448,88.4571405591546                 NaT   \n",
       "5910                   13.1992334,80.196693                 NaT   \n",
       "6631                  11.2044996,78.1421905                 NaT   \n",
       "5912                   12.853929,77.6178125                 NaT   \n",
       "\n",
       "             Planned_ETA                                   Current_Location  \\\n",
       "6868 1899-12-30 04:06:00  Shed No 60, Medahalli Kadugodi Road, Virgonaga...   \n",
       "6264 1899-12-30 08:58:00                                                NaN   \n",
       "5910 2019-03-19 11:45:22                                                NaN   \n",
       "6631 2019-03-20 18:00:18                                                NaN   \n",
       "5912 2019-03-20 12:38:02                                                NaN   \n",
       "\n",
       "                                DestinationLocation          actual_eta  \\\n",
       "6868  Peenya Small Industries, Bangalore, Karnataka 1899-12-30 03:21:00   \n",
       "6264                    Kalyani, Nadia, West Bengal 1899-12-30 08:13:00   \n",
       "5910           Redhills, Chennai, Tamil Nadu, India 2019-03-19 11:00:22   \n",
       "6631                 Periyapatti, Tamil Nadu, India 2019-03-20 17:15:18   \n",
       "5912        Mylasandra, Bengaluru, Karnataka, India 2019-03-20 11:53:02   \n",
       "\n",
       "      Curr_lat  Curr_lon ontime delay OriginLocation_Code  \\\n",
       "6868     13.03     77.72    NaN     R           V0048673    \n",
       "6264       nan       nan      G   NaN           V0045772    \n",
       "5910       nan       nan      G   NaN       CHESEDLTLCCA1   \n",
       "6631       nan       nan      G   NaN       CHEMANLTLWHA1   \n",
       "5912       nan       nan      G   NaN       CHESEDLTLCCA1   \n",
       "\n",
       "     DestinationLocation_Code     trip_start_date       trip_end_date  \\\n",
       "6868                 LE005419 1899-12-30 00:00:00 1899-12-30 03:21:00   \n",
       "6264                 LE005821 1899-12-30 00:00:00 1899-12-30 08:13:00   \n",
       "5910            CHEVADTDUCCA1 2019-03-18 12:19:22 2019-03-19 11:00:22   \n",
       "6631            CHEPARPUBTPA1 2019-03-18 16:24:18 2019-03-20 17:15:18   \n",
       "5912            HOSBYALTLWHA1 2019-03-18 16:56:02 2019-03-20 11:53:02   \n",
       "\n",
       "      TRANSPORTATION_DISTANCE_IN_KM                               vehicleType  \\\n",
       "6868                          41.00                    40 FT 3XL Trailer 35MT   \n",
       "6264                          51.00  40 FT Flat Bed Multi-Axle 27MT - Trailer   \n",
       "5910                          38.20         24 | 26 FT Taurus Open 21MT - HCV   \n",
       "6631                            nan              22 FT Taurus Open 16MT - HCV   \n",
       "5912                          40.00         24 | 26 FT Taurus Open 21MT - HCV   \n",
       "\n",
       "      Minimum_kms_to_be_covered_in_a_day Driver_Name  Driver_MobileNo  \\\n",
       "6868                                 nan     Unknown              nan   \n",
       "6264                                 nan     Unknown              nan   \n",
       "5910                                 nan     Unknown              nan   \n",
       "6631                              275.00     Unknown              nan   \n",
       "5912                                 nan     Unknown              nan   \n",
       "\n",
       "      customerID         customerNameCode supplierID  \\\n",
       "6868  LTLEXMUM40  Larsen & toubro limited      55556   \n",
       "6264  LTLEXMUM40  Larsen & toubro limited      55471   \n",
       "5910  LTLEXMUM40  Larsen & toubro limited      55075   \n",
       "6631  LTLEXMUM40  Larsen & toubro limited        999   \n",
       "5912  LTLEXMUM40  Larsen & toubro limited        999   \n",
       "\n",
       "                     supplierNameCode                   Material Shipped  \n",
       "6868                   A S TRANSPORTS                  INSRT-VLV ST INTK  \n",
       "6264  SUNITA CARRIERS PRIVATE LIMITED                    FXUWB-LID COVER  \n",
       "5910            Sri Ayyappan Agencies  COOLANT HOSE / RADIATOR TO ENGINE  \n",
       "6631                          Unknown         A114 Alternator(New Versa)  \n",
       "5912                          Unknown                       COOLANT HOSE  "
      ]
     },
     "execution_count": 26,
     "metadata": {},
     "output_type": "execute_result"
    }
   ],
   "source": [
    "dfT.sort_values('trip_start_date').head(5)"
   ]
  },
  {
   "cell_type": "code",
   "execution_count": 27,
   "metadata": {},
   "outputs": [],
   "source": [
    "#6868,6264 index rows having years as 1899 in all datetime features, may be it's a mistake\n",
    "#As we have mistake in those 2 rows let's remove those\n",
    "dfT.drop(dfT.index[[6868,6264]], inplace=True)"
   ]
  },
  {
   "cell_type": "markdown",
   "metadata": {},
   "source": [
    "In transportation we show ontime with 'G' and delay with 'R'"
   ]
  },
  {
   "cell_type": "code",
   "execution_count": 28,
   "metadata": {},
   "outputs": [],
   "source": [
    "#let's create as a single column 'ontime/delay' from 'ontime' and 'delay' columns\n",
    "dfT['ontime/delay'] = dfT.ontime.replace({np.NaN, 'G'}, {0, 1})"
   ]
  },
  {
   "cell_type": "code",
   "execution_count": 123,
   "metadata": {},
   "outputs": [
    {
     "data": {
      "text/plain": [
       "Index(['GpsProvider', 'BookingID', 'Market/Regular ', 'BookingID_Date',\n",
       "       'vehicle_no', 'Origin_Location', 'Destination_Location', 'Org_lat_lon',\n",
       "       'Des_lat_lon', 'Data_Ping_time', 'Planned_ETA', 'Current_Location',\n",
       "       'DestinationLocation', 'actual_eta', 'Curr_lat', 'Curr_lon', 'ontime',\n",
       "       'delay', 'OriginLocation_Code', 'DestinationLocation_Code',\n",
       "       'trip_start_date', 'trip_end_date', 'TRANSPORTATION_DISTANCE_IN_KM',\n",
       "       'vehicleType', 'Minimum_kms_to_be_covered_in_a_day', 'Driver_Name',\n",
       "       'Driver_MobileNo', 'customerID', 'customerNameCode', 'supplierID',\n",
       "       'supplierNameCode', 'Material Shipped', 'ontime/delay',\n",
       "       'vehicle_states', 'Origin_states', 'Dest_states', 'Org_Dest_distance'],\n",
       "      dtype='object')"
      ]
     },
     "execution_count": 123,
     "metadata": {},
     "output_type": "execute_result"
    }
   ],
   "source": [
    "dfT.columns"
   ]
  },
  {
   "cell_type": "code",
   "execution_count": 60,
   "metadata": {},
   "outputs": [],
   "source": [
    "#let's filter usefull data alone\n",
    "df_cln=dfT[['Market/Regular ',\n",
    "            'vehicle_no',\n",
    "            'Current_Location',\n",
    "            'TRANSPORTATION_DISTANCE_IN_KM',\n",
    "            'vehicleType', 'Driver_Name',\n",
    "            'Driver_MobileNo', 'customerID', 'supplierID',\n",
    "            'Material Shipped', 'ontime/delay',\n",
    "            'vehicle_states', 'Origin_states', 'Dest_states', 'Org_Dest_distance']]"
   ]
  },
  {
   "cell_type": "code",
   "execution_count": 62,
   "metadata": {},
   "outputs": [],
   "source": [
    "dfT['vehicle_states']=dfT['vehicle_states'].replace(('tn', 'hr'), ('TN', 'HR'))\n",
    "\n",
    "dfT['Origin_states']=dfT['Origin_states'].replace((' Maharashtra', 'TAMIL NADU', ' Gujarat', ' Tamil Nadu',\n",
    "                                                     'RAJASTHAN', ' Haryana', 'PONDICHERRY',\n",
    "                                                     ' Karnataka', 'KARNATAKA', 'GUJARAT', 'HARYANA', ' Rajasthan', \n",
    "                                                     ' Uttar Pradesh', ' Pondicherry', ' West Bengal', ' Odisha',\n",
    "                                                     ' Jharkhand', ' Bihar', ' Assam', ' Andhra Pradesh', ' Telangana',\n",
    "                                                     ' Chattisgarh', ' Delhi', ' Kerala', ' Chandigarh', ' India', \n",
    "                                                     'UTTAR PRADESH'),\n",
    "                                                    ('Maharashtra', 'Tamil Nadu', 'Gujarat', 'Tamil Nadu',\n",
    "                                                     'Rajasthan', 'Haryana', 'Pondicherry',\n",
    "                                                     'Karnataka', 'Karnataka', 'Gujarat', 'Haryana', 'Rajasthan',\n",
    "                                                     'Uttar Pradesh', 'Pondicherry', 'West Bengal', 'Odisha',\n",
    "                                                     'Jharkhand', 'Bihar', 'Assam', 'Andhra Pradesh', 'Telangana',\n",
    "                                                     'Chattisgarh', 'Delhi', 'Kerala', 'Chandigarh', 'India',\n",
    "                                                     'Uttar Pradesh'))\n",
    "\n",
    "dfT['Dest_states']=dfT['Dest_states'].replace((' Tamil Nadu', 'TAMIL NADU', 'RAJASTHAN', ' Maharashtra',\n",
    "       'KARNATAKA', 'PONDICHERRY', 'MAHARASHTRA', ' Haryana', ' Gujarat',\n",
    "       'GUJARAT', 'JHARKHAND', 'Haryana', ' Himachal Pradesh',\n",
    "       ' Karnataka', ' Assam', 'HARYANA', ' Uttar Pradesh',\n",
    "       'HIMACHAL PRADESH', ' West Bengal', ' Odisha', ' Rajasthan',\n",
    "       ' Andhra Pradesh', ' Jharkhand', ' Telangana', ' Punjab', ' Delhi',\n",
    "       ' Central Development Region', ' Madhya Pradesh', ' Meghalaya',\n",
    "       ' Chattisgarh', ' Jammu & Kashmir', ' Uttarakhand', ' Chandigarh',\n",
    "       ' Bihar', ' Pondicherry', ' Kerala', ' Dadra & Nagar Haveli',\n",
    "       ' Goa', ' Sikkim', ' India'),\n",
    "       ('Tamil Nadu', 'Tamil Nadu', 'Rajasthan', 'Maharashtra',\n",
    "       'Karnataka', 'Pondicherry', 'Maharashtra', 'Haryana', 'Gujarat',\n",
    "       'Gujarat', 'Jharkhand', 'Haryana', 'Himachal Pradesh',\n",
    "       'Karnataka', 'Assam', 'Haryana', 'Uttar Pradesh',\n",
    "       'Himachal Pradesh', 'West Bengal', 'Odisha', 'Rajasthan',\n",
    "       'Andhra Pradesh', 'Jharkhand', 'Telangana', 'Punjab', 'Delhi',\n",
    "       'Central Development Region', 'Madhya Pradesh', 'Meghalaya',\n",
    "       'Chattisgarh', 'Jammu & Kashmir', 'Uttarakhand', 'Chandigarh',\n",
    "       'Bihar', 'Pondicherry', 'Kerala', 'Dadra & Nagar Haveli',\n",
    "       'Goa', 'Sikkim', 'India'))"
   ]
  },
  {
   "cell_type": "code",
   "execution_count": null,
   "metadata": {},
   "outputs": [],
   "source": []
  },
  {
   "cell_type": "code",
   "execution_count": 63,
   "metadata": {},
   "outputs": [
    {
     "name": "stdout",
     "output_type": "stream",
     "text": [
      "Requirement already satisfied: geopy in c:\\users\\sarak\\anaconda3\\lib\\site-packages (2.1.0)Note: you may need to restart the kernel to use updated packages.\n",
      "Requirement already satisfied: geographiclib<2,>=1.49 in c:\\users\\sarak\\anaconda3\\lib\\site-packages (from geopy) (1.50)\n",
      "\n"
     ]
    }
   ],
   "source": [
    "pip install geopy"
   ]
  },
  {
   "cell_type": "code",
   "execution_count": 64,
   "metadata": {},
   "outputs": [],
   "source": [
    "\n",
    "from geopy import distance\n",
    "\n",
    "#let's find the distance between origin and destination\n",
    "distances_km = []\n",
    "for row in dfT.itertuples(index=False):\n",
    "   distances_km.append(\n",
    "       distance.distance(row.Org_lat_lon, row.Des_lat_lon).km\n",
    "   )\n",
    "\n",
    "dfT['Org_Dest_distance'] = distances_km\n",
    "#df_dist.head()\n",
    "\n",
    "#data=pd.concat([data, df_dist])"
   ]
  },
  {
   "cell_type": "code",
   "execution_count": 65,
   "metadata": {},
   "outputs": [],
   "source": [
    "#let's impute null values in trip_end_date\n",
    "import datetime\n",
    "import random\n",
    "df_sub=dfT[dfT['trip_end_date'].isna()]\n",
    "for i in df_sub.index:\n",
    "  if df_sub['ontime/delay'][i]==0:\n",
    "    df_sub['trip_end_date'][i]=df_sub['actual_eta'][i]\n",
    "  else:\n",
    "    df_sub['trip_end_date'][i]=df_sub['Planned_ETA'][i]-datetime.timedelta(random.randint(0,3))\n",
    "\n",
    "dfT=pd.concat([dfT, df_sub])\n",
    "\n",
    "#as we have concatinationg those null in trip_end_date related rows are duplicates so let's remove those\n",
    "dfT.dropna(subset=['trip_end_date'], inplace=True)\n"
   ]
  },
  {
   "cell_type": "code",
   "execution_count": 66,
   "metadata": {},
   "outputs": [],
   "source": [
    "#feature like gps provider, data ping time, current location, curr_lat, curr_lon having null values in same rows\n",
    "#all the above mentioned features are dependent on each other and it's not feasible to impute those, so let's drop those rows\n",
    "\n",
    "dfT.dropna(subset=['Current_Location'], inplace=True)"
   ]
  },
  {
   "cell_type": "markdown",
   "metadata": {},
   "source": [
    "### Let's explore the dataset"
   ]
  },
  {
   "cell_type": "code",
   "execution_count": 67,
   "metadata": {},
   "outputs": [
    {
     "data": {
      "image/png": "[encoded data removed]",
      "text/plain": [
       "<Figure size 360x360 with 1 Axes>"
      ]
     },
     "metadata": {},
     "output_type": "display_data"
    }
   ],
   "source": [
    "plt.rcParams['figure.figsize']=(5,5)\n",
    "#explode = (0, 0.1, 0.2, 0.3, 0.4)\n",
    "plt.pie(dfT['ontime/delay'].value_counts(), explode = (0, 0.05), autopct='%1.1f%%')\n",
    "plt.title('percentage og ontime and delay deliveries')\n",
    "plt.legend(['Delay', 'Ontime'])\n",
    "plt.show()"
   ]
  },
  {
   "cell_type": "code",
   "execution_count": 68,
   "metadata": {},
   "outputs": [
    {
     "name": "stdout",
     "output_type": "stream",
     "text": [
      "star supliers with more no. of ontime delivery\n"
     ]
    },
    {
     "data": {
      "text/html": [
       "<style  type=\"text/css\" >\n",
       "#T_5e792335_a633_11eb_b4bb_1cbfc041d1b8row0_col0{\n",
       "            background-color:  #fc7f00;\n",
       "            color:  #000000;\n",
       "        }#T_5e792335_a633_11eb_b4bb_1cbfc041d1b8row1_col0{\n",
       "            background-color:  #ffad00;\n",
       "            color:  #000000;\n",
       "        }#T_5e792335_a633_11eb_b4bb_1cbfc041d1b8row2_col0{\n",
       "            background-color:  #ffbd00;\n",
       "            color:  #000000;\n",
       "        }#T_5e792335_a633_11eb_b4bb_1cbfc041d1b8row3_col0{\n",
       "            background-color:  #ffc404;\n",
       "            color:  #000000;\n",
       "        }#T_5e792335_a633_11eb_b4bb_1cbfc041d1b8row4_col0{\n",
       "            background-color:  #ffd20d;\n",
       "            color:  #000000;\n",
       "        }#T_5e792335_a633_11eb_b4bb_1cbfc041d1b8row5_col0{\n",
       "            background-color:  #fee91d;\n",
       "            color:  #000000;\n",
       "        }#T_5e792335_a633_11eb_b4bb_1cbfc041d1b8row6_col0{\n",
       "            background-color:  #faed2d;\n",
       "            color:  #000000;\n",
       "        }#T_5e792335_a633_11eb_b4bb_1cbfc041d1b8row7_col0{\n",
       "            background-color:  #e5fe75;\n",
       "            color:  #000000;\n",
       "        }#T_5e792335_a633_11eb_b4bb_1cbfc041d1b8row8_col0,#T_5e792335_a633_11eb_b4bb_1cbfc041d1b8row9_col0{\n",
       "            background-color:  #e4ff7a;\n",
       "            color:  #000000;\n",
       "        }</style><table id=\"T_5e792335_a633_11eb_b4bb_1cbfc041d1b8\" ><thead>    <tr>        <th class=\"blank level0\" ></th>        <th class=\"col_heading level0 col0\" >TRANSPORTATION_DISTANCE_IN_KM</th>    </tr>    <tr>        <th class=\"index_name level0\" >supplierNameCode</th>        <th class=\"blank\" ></th>    </tr></thead><tbody>\n",
       "                <tr>\n",
       "                        <th id=\"T_5e792335_a633_11eb_b4bb_1cbfc041d1b8level0_row0\" class=\"row_heading level0 row0\" >SR TRANSPORTS</th>\n",
       "                        <td id=\"T_5e792335_a633_11eb_b4bb_1cbfc041d1b8row0_col0\" class=\"data row0 col0\" >120</td>\n",
       "            </tr>\n",
       "            <tr>\n",
       "                        <th id=\"T_5e792335_a633_11eb_b4bb_1cbfc041d1b8level0_row1\" class=\"row_heading level0 row1\" >SRI PACHIAMMAN TRANSPORT</th>\n",
       "                        <td id=\"T_5e792335_a633_11eb_b4bb_1cbfc041d1b8row1_col0\" class=\"data row1 col0\" >93</td>\n",
       "            </tr>\n",
       "            <tr>\n",
       "                        <th id=\"T_5e792335_a633_11eb_b4bb_1cbfc041d1b8level0_row2\" class=\"row_heading level0 row2\" >VJ LOGISTICS</th>\n",
       "                        <td id=\"T_5e792335_a633_11eb_b4bb_1cbfc041d1b8row2_col0\" class=\"data row2 col0\" >83</td>\n",
       "            </tr>\n",
       "            <tr>\n",
       "                        <th id=\"T_5e792335_a633_11eb_b4bb_1cbfc041d1b8level0_row3\" class=\"row_heading level0 row3\" >A S TRANSPORTS</th>\n",
       "                        <td id=\"T_5e792335_a633_11eb_b4bb_1cbfc041d1b8row3_col0\" class=\"data row3 col0\" >80</td>\n",
       "            </tr>\n",
       "            <tr>\n",
       "                        <th id=\"T_5e792335_a633_11eb_b4bb_1cbfc041d1b8level0_row4\" class=\"row_heading level0 row4\" >NAMAKKAL SRI ANJINAYA TRANSPORT</th>\n",
       "                        <td id=\"T_5e792335_a633_11eb_b4bb_1cbfc041d1b8row4_col0\" class=\"data row4 col0\" >74</td>\n",
       "            </tr>\n",
       "            <tr>\n",
       "                        <th id=\"T_5e792335_a633_11eb_b4bb_1cbfc041d1b8level0_row5\" class=\"row_heading level0 row5\" >ARVINTH TRANSPORT</th>\n",
       "                        <td id=\"T_5e792335_a633_11eb_b4bb_1cbfc041d1b8row5_col0\" class=\"data row5 col0\" >64</td>\n",
       "            </tr>\n",
       "            <tr>\n",
       "                        <th id=\"T_5e792335_a633_11eb_b4bb_1cbfc041d1b8level0_row6\" class=\"row_heading level0 row6\" >EKTA TRANSPORT COMPANY</th>\n",
       "                        <td id=\"T_5e792335_a633_11eb_b4bb_1cbfc041d1b8row6_col0\" class=\"data row6 col0\" >61</td>\n",
       "            </tr>\n",
       "            <tr>\n",
       "                        <th id=\"T_5e792335_a633_11eb_b4bb_1cbfc041d1b8level0_row7\" class=\"row_heading level0 row7\" >KRC Logistics</th>\n",
       "                        <td id=\"T_5e792335_a633_11eb_b4bb_1cbfc041d1b8row7_col0\" class=\"data row7 col0\" >47</td>\n",
       "            </tr>\n",
       "            <tr>\n",
       "                        <th id=\"T_5e792335_a633_11eb_b4bb_1cbfc041d1b8level0_row8\" class=\"row_heading level0 row8\" >ESWAR TRANSPORT</th>\n",
       "                        <td id=\"T_5e792335_a633_11eb_b4bb_1cbfc041d1b8row8_col0\" class=\"data row8 col0\" >46</td>\n",
       "            </tr>\n",
       "            <tr>\n",
       "                        <th id=\"T_5e792335_a633_11eb_b4bb_1cbfc041d1b8level0_row9\" class=\"row_heading level0 row9\" >Sree Sakthi Transport</th>\n",
       "                        <td id=\"T_5e792335_a633_11eb_b4bb_1cbfc041d1b8row9_col0\" class=\"data row9 col0\" >46</td>\n",
       "            </tr>\n",
       "    </tbody></table>"
      ],
      "text/plain": [
       "<pandas.io.formats.style.Styler at 0x205eb266a60>"
      ]
     },
     "execution_count": 68,
     "metadata": {},
     "output_type": "execute_result"
    }
   ],
   "source": [
    "print('star supliers with more no. of ontime delivery')\n",
    "dfT[dfT['ontime/delay']==1][['supplierNameCode', 'TRANSPORTATION_DISTANCE_IN_KM']].groupby(['supplierNameCode']).agg('count').sort_values('TRANSPORTATION_DISTANCE_IN_KM', \n",
    "                                                                                                                   ascending=False).head(10).style.background_gradient(cmap='Wistia')"
   ]
  },
  {
   "cell_type": "code",
   "execution_count": 69,
   "metadata": {},
   "outputs": [
    {
     "name": "stdout",
     "output_type": "stream",
     "text": [
      "star supliers with more no. of ontime delivery\n"
     ]
    },
    {
     "data": {
      "text/html": [
       "<style  type=\"text/css\" >\n",
       "#T_5f4a98a2_a633_11eb_a001_1cbfc041d1b8row0_col0{\n",
       "            background-color:  #fc7f00;\n",
       "            color:  #000000;\n",
       "        }#T_5f4a98a2_a633_11eb_a001_1cbfc041d1b8row1_col0{\n",
       "            background-color:  #ffaf00;\n",
       "            color:  #000000;\n",
       "        }#T_5f4a98a2_a633_11eb_a001_1cbfc041d1b8row2_col0{\n",
       "            background-color:  #ffb800;\n",
       "            color:  #000000;\n",
       "        }#T_5f4a98a2_a633_11eb_a001_1cbfc041d1b8row3_col0{\n",
       "            background-color:  #ffe217;\n",
       "            color:  #000000;\n",
       "        }#T_5f4a98a2_a633_11eb_a001_1cbfc041d1b8row4_col0{\n",
       "            background-color:  #ffe719;\n",
       "            color:  #000000;\n",
       "        }#T_5f4a98a2_a633_11eb_a001_1cbfc041d1b8row5_col0{\n",
       "            background-color:  #f6f03b;\n",
       "            color:  #000000;\n",
       "        }#T_5f4a98a2_a633_11eb_a001_1cbfc041d1b8row6_col0{\n",
       "            background-color:  #f4f141;\n",
       "            color:  #000000;\n",
       "        }#T_5f4a98a2_a633_11eb_a001_1cbfc041d1b8row7_col0{\n",
       "            background-color:  #ecf85d;\n",
       "            color:  #000000;\n",
       "        }#T_5f4a98a2_a633_11eb_a001_1cbfc041d1b8row8_col0{\n",
       "            background-color:  #e9fb68;\n",
       "            color:  #000000;\n",
       "        }#T_5f4a98a2_a633_11eb_a001_1cbfc041d1b8row9_col0{\n",
       "            background-color:  #e4ff7a;\n",
       "            color:  #000000;\n",
       "        }</style><table id=\"T_5f4a98a2_a633_11eb_a001_1cbfc041d1b8\" ><thead>    <tr>        <th class=\"blank level0\" ></th>        <th class=\"col_heading level0 col0\" >TRANSPORTATION_DISTANCE_IN_KM</th>    </tr>    <tr>        <th class=\"index_name level0\" >supplierNameCode</th>        <th class=\"blank\" ></th>    </tr></thead><tbody>\n",
       "                <tr>\n",
       "                        <th id=\"T_5f4a98a2_a633_11eb_a001_1cbfc041d1b8level0_row0\" class=\"row_heading level0 row0\" >EKTA TRANSPORT COMPANY</th>\n",
       "                        <td id=\"T_5f4a98a2_a633_11eb_a001_1cbfc041d1b8row0_col0\" class=\"data row0 col0\" >89964.000000</td>\n",
       "            </tr>\n",
       "            <tr>\n",
       "                        <th id=\"T_5f4a98a2_a633_11eb_a001_1cbfc041d1b8level0_row1\" class=\"row_heading level0 row1\" >TRANS CARGO INDIA</th>\n",
       "                        <td id=\"T_5f4a98a2_a633_11eb_a001_1cbfc041d1b8row1_col0\" class=\"data row1 col0\" >63530.000000</td>\n",
       "            </tr>\n",
       "            <tr>\n",
       "                        <th id=\"T_5f4a98a2_a633_11eb_a001_1cbfc041d1b8level0_row2\" class=\"row_heading level0 row2\" >KRC Logistics</th>\n",
       "                        <td id=\"T_5f4a98a2_a633_11eb_a001_1cbfc041d1b8row2_col0\" class=\"data row2 col0\" >57991.000000</td>\n",
       "            </tr>\n",
       "            <tr>\n",
       "                        <th id=\"T_5f4a98a2_a633_11eb_a001_1cbfc041d1b8level0_row3\" class=\"row_heading level0 row3\" >VJ Logistics</th>\n",
       "                        <td id=\"T_5f4a98a2_a633_11eb_a001_1cbfc041d1b8row3_col0\" class=\"data row3 col0\" >39547.020000</td>\n",
       "            </tr>\n",
       "            <tr>\n",
       "                        <th id=\"T_5f4a98a2_a633_11eb_a001_1cbfc041d1b8level0_row4\" class=\"row_heading level0 row4\" >Arvinth Transport</th>\n",
       "                        <td id=\"T_5f4a98a2_a633_11eb_a001_1cbfc041d1b8row4_col0\" class=\"data row4 col0\" >37798.000000</td>\n",
       "            </tr>\n",
       "            <tr>\n",
       "                        <th id=\"T_5f4a98a2_a633_11eb_a001_1cbfc041d1b8level0_row5\" class=\"row_heading level0 row5\" >R.Sai logistics india PVT.LTD</th>\n",
       "                        <td id=\"T_5f4a98a2_a633_11eb_a001_1cbfc041d1b8row5_col0\" class=\"data row5 col0\" >31400.000000</td>\n",
       "            </tr>\n",
       "            <tr>\n",
       "                        <th id=\"T_5f4a98a2_a633_11eb_a001_1cbfc041d1b8level0_row6\" class=\"row_heading level0 row6\" >EKTA TRAVELS</th>\n",
       "                        <td id=\"T_5f4a98a2_a633_11eb_a001_1cbfc041d1b8row6_col0\" class=\"data row6 col0\" >30225.000000</td>\n",
       "            </tr>\n",
       "            <tr>\n",
       "                        <th id=\"T_5f4a98a2_a633_11eb_a001_1cbfc041d1b8level0_row7\" class=\"row_heading level0 row7\" >SR TRANSPORTS</th>\n",
       "                        <td id=\"T_5f4a98a2_a633_11eb_a001_1cbfc041d1b8row7_col0\" class=\"data row7 col0\" >25065.000000</td>\n",
       "            </tr>\n",
       "            <tr>\n",
       "                        <th id=\"T_5f4a98a2_a633_11eb_a001_1cbfc041d1b8level0_row8\" class=\"row_heading level0 row8\" >Sterling Translogistics Private Limited</th>\n",
       "                        <td id=\"T_5f4a98a2_a633_11eb_a001_1cbfc041d1b8row8_col0\" class=\"data row8 col0\" >23240.000000</td>\n",
       "            </tr>\n",
       "            <tr>\n",
       "                        <th id=\"T_5f4a98a2_a633_11eb_a001_1cbfc041d1b8level0_row9\" class=\"row_heading level0 row9\" >Unknown</th>\n",
       "                        <td id=\"T_5f4a98a2_a633_11eb_a001_1cbfc041d1b8row9_col0\" class=\"data row9 col0\" >19800.530000</td>\n",
       "            </tr>\n",
       "    </tbody></table>"
      ],
      "text/plain": [
       "<pandas.io.formats.style.Styler at 0x205eb23e460>"
      ]
     },
     "execution_count": 69,
     "metadata": {},
     "output_type": "execute_result"
    }
   ],
   "source": [
    "print('star supliers with more no. of ontime delivery')\n",
    "dfT[dfT['ontime/delay']==1][['supplierNameCode', 'TRANSPORTATION_DISTANCE_IN_KM']].groupby(['supplierNameCode']).agg('sum').sort_values('TRANSPORTATION_DISTANCE_IN_KM', \n",
    "                                                                                                                   ascending=False).head(10).style.background_gradient(cmap='Wistia')"
   ]
  },
  {
   "cell_type": "code",
   "execution_count": 70,
   "metadata": {},
   "outputs": [
    {
     "name": "stdout",
     "output_type": "stream",
     "text": [
      "star supliers with more no. of delay delivery\n"
     ]
    },
    {
     "data": {
      "text/html": [
       "<style  type=\"text/css\" >\n",
       "#T_6012c9b8_a633_11eb_bd25_1cbfc041d1b8row0_col0{\n",
       "            background-color:  #ff00ff;\n",
       "            color:  #f1f1f1;\n",
       "        }#T_6012c9b8_a633_11eb_bd25_1cbfc041d1b8row1_col0{\n",
       "            background-color:  #de21ff;\n",
       "            color:  #f1f1f1;\n",
       "        }#T_6012c9b8_a633_11eb_bd25_1cbfc041d1b8row2_col0{\n",
       "            background-color:  #c738ff;\n",
       "            color:  #f1f1f1;\n",
       "        }#T_6012c9b8_a633_11eb_bd25_1cbfc041d1b8row3_col0{\n",
       "            background-color:  #4db2ff;\n",
       "            color:  #000000;\n",
       "        }#T_6012c9b8_a633_11eb_bd25_1cbfc041d1b8row4_col0{\n",
       "            background-color:  #34cbff;\n",
       "            color:  #000000;\n",
       "        }#T_6012c9b8_a633_11eb_bd25_1cbfc041d1b8row5_col0{\n",
       "            background-color:  #27d8ff;\n",
       "            color:  #000000;\n",
       "        }#T_6012c9b8_a633_11eb_bd25_1cbfc041d1b8row6_col0{\n",
       "            background-color:  #17e8ff;\n",
       "            color:  #000000;\n",
       "        }#T_6012c9b8_a633_11eb_bd25_1cbfc041d1b8row7_col0{\n",
       "            background-color:  #12edff;\n",
       "            color:  #000000;\n",
       "        }#T_6012c9b8_a633_11eb_bd25_1cbfc041d1b8row8_col0{\n",
       "            background-color:  #0cf3ff;\n",
       "            color:  #000000;\n",
       "        }#T_6012c9b8_a633_11eb_bd25_1cbfc041d1b8row9_col0{\n",
       "            background-color:  #00ffff;\n",
       "            color:  #000000;\n",
       "        }</style><table id=\"T_6012c9b8_a633_11eb_bd25_1cbfc041d1b8\" ><thead>    <tr>        <th class=\"blank level0\" ></th>        <th class=\"col_heading level0 col0\" >TRANSPORTATION_DISTANCE_IN_KM</th>    </tr>    <tr>        <th class=\"index_name level0\" >supplierNameCode</th>        <th class=\"blank\" ></th>    </tr></thead><tbody>\n",
       "                <tr>\n",
       "                        <th id=\"T_6012c9b8_a633_11eb_bd25_1cbfc041d1b8level0_row0\" class=\"row_heading level0 row0\" >TRANS CARGO INDIA</th>\n",
       "                        <td id=\"T_6012c9b8_a633_11eb_bd25_1cbfc041d1b8row0_col0\" class=\"data row0 col0\" >383841.069444</td>\n",
       "            </tr>\n",
       "            <tr>\n",
       "                        <th id=\"T_6012c9b8_a633_11eb_bd25_1cbfc041d1b8level0_row1\" class=\"row_heading level0 row1\" >EKTA TRANSPORT COMPANY</th>\n",
       "                        <td id=\"T_6012c9b8_a633_11eb_bd25_1cbfc041d1b8row1_col0\" class=\"data row1 col0\" >338858.666028</td>\n",
       "            </tr>\n",
       "            <tr>\n",
       "                        <th id=\"T_6012c9b8_a633_11eb_bd25_1cbfc041d1b8level0_row2\" class=\"row_heading level0 row2\" >Unknown</th>\n",
       "                        <td id=\"T_6012c9b8_a633_11eb_bd25_1cbfc041d1b8row2_col0\" class=\"data row2 col0\" >308928.018759</td>\n",
       "            </tr>\n",
       "            <tr>\n",
       "                        <th id=\"T_6012c9b8_a633_11eb_bd25_1cbfc041d1b8level0_row3\" class=\"row_heading level0 row3\" >KRC Logistics</th>\n",
       "                        <td id=\"T_6012c9b8_a633_11eb_bd25_1cbfc041d1b8row3_col0\" class=\"data row3 col0\" >147349.776667</td>\n",
       "            </tr>\n",
       "            <tr>\n",
       "                        <th id=\"T_6012c9b8_a633_11eb_bd25_1cbfc041d1b8level0_row4\" class=\"row_heading level0 row4\" >R.Sai logistics india PVT.LTD</th>\n",
       "                        <td id=\"T_6012c9b8_a633_11eb_bd25_1cbfc041d1b8row4_col0\" class=\"data row4 col0\" >113994.758333</td>\n",
       "            </tr>\n",
       "            <tr>\n",
       "                        <th id=\"T_6012c9b8_a633_11eb_bd25_1cbfc041d1b8level0_row5\" class=\"row_heading level0 row5\" >Rajdhani Roadways</th>\n",
       "                        <td id=\"T_6012c9b8_a633_11eb_bd25_1cbfc041d1b8row5_col0\" class=\"data row5 col0\" >96608.745599</td>\n",
       "            </tr>\n",
       "            <tr>\n",
       "                        <th id=\"T_6012c9b8_a633_11eb_bd25_1cbfc041d1b8level0_row6\" class=\"row_heading level0 row6\" >VJ Logistics</th>\n",
       "                        <td id=\"T_6012c9b8_a633_11eb_bd25_1cbfc041d1b8row6_col0\" class=\"data row6 col0\" >75711.153146</td>\n",
       "            </tr>\n",
       "            <tr>\n",
       "                        <th id=\"T_6012c9b8_a633_11eb_bd25_1cbfc041d1b8level0_row7\" class=\"row_heading level0 row7\" >SUNITA CARRIERS PRIVATE LIMITED</th>\n",
       "                        <td id=\"T_6012c9b8_a633_11eb_bd25_1cbfc041d1b8row7_col0\" class=\"data row7 col0\" >69063.050000</td>\n",
       "            </tr>\n",
       "            <tr>\n",
       "                        <th id=\"T_6012c9b8_a633_11eb_bd25_1cbfc041d1b8level0_row8\" class=\"row_heading level0 row8\" >PAWAN R LOGISTICS</th>\n",
       "                        <td id=\"T_6012c9b8_a633_11eb_bd25_1cbfc041d1b8row8_col0\" class=\"data row8 col0\" >60341.600000</td>\n",
       "            </tr>\n",
       "            <tr>\n",
       "                        <th id=\"T_6012c9b8_a633_11eb_bd25_1cbfc041d1b8level0_row9\" class=\"row_heading level0 row9\" >PATANJALI PARIVAHAN PRIVATE LIMITED</th>\n",
       "                        <td id=\"T_6012c9b8_a633_11eb_bd25_1cbfc041d1b8row9_col0\" class=\"data row9 col0\" >44266.000000</td>\n",
       "            </tr>\n",
       "    </tbody></table>"
      ],
      "text/plain": [
       "<pandas.io.formats.style.Styler at 0x205e90d6f70>"
      ]
     },
     "execution_count": 70,
     "metadata": {},
     "output_type": "execute_result"
    }
   ],
   "source": [
    "print('star supliers with more no. of delay delivery')\n",
    "dfT[dfT['ontime/delay']==0][['supplierNameCode', 'TRANSPORTATION_DISTANCE_IN_KM']].groupby(['supplierNameCode']).agg('sum').sort_values('TRANSPORTATION_DISTANCE_IN_KM', \n",
    "                                                                                                                   ascending=False).head(10).style.background_gradient(cmap='cool')"
   ]
  },
  {
   "cell_type": "code",
   "execution_count": 71,
   "metadata": {},
   "outputs": [
    {
     "name": "stdout",
     "output_type": "stream",
     "text": [
      "star supliers with more no. of delay delivery\n"
     ]
    },
    {
     "data": {
      "text/html": [
       "<style  type=\"text/css\" >\n",
       "#T_60d07e0e_a633_11eb_a5fa_1cbfc041d1b8row0_col0{\n",
       "            background-color:  #ff00ff;\n",
       "            color:  #f1f1f1;\n",
       "        }#T_60d07e0e_a633_11eb_a5fa_1cbfc041d1b8row1_col0{\n",
       "            background-color:  #f50aff;\n",
       "            color:  #f1f1f1;\n",
       "        }#T_60d07e0e_a633_11eb_a5fa_1cbfc041d1b8row2_col0{\n",
       "            background-color:  #c639ff;\n",
       "            color:  #f1f1f1;\n",
       "        }#T_60d07e0e_a633_11eb_a5fa_1cbfc041d1b8row3_col0{\n",
       "            background-color:  #738cff;\n",
       "            color:  #000000;\n",
       "        }#T_60d07e0e_a633_11eb_a5fa_1cbfc041d1b8row4_col0{\n",
       "            background-color:  #50afff;\n",
       "            color:  #000000;\n",
       "        }#T_60d07e0e_a633_11eb_a5fa_1cbfc041d1b8row5_col0{\n",
       "            background-color:  #4bb4ff;\n",
       "            color:  #000000;\n",
       "        }#T_60d07e0e_a633_11eb_a5fa_1cbfc041d1b8row6_col0{\n",
       "            background-color:  #3cc3ff;\n",
       "            color:  #000000;\n",
       "        }#T_60d07e0e_a633_11eb_a5fa_1cbfc041d1b8row7_col0{\n",
       "            background-color:  #28d7ff;\n",
       "            color:  #000000;\n",
       "        }#T_60d07e0e_a633_11eb_a5fa_1cbfc041d1b8row8_col0{\n",
       "            background-color:  #0ef1ff;\n",
       "            color:  #000000;\n",
       "        }#T_60d07e0e_a633_11eb_a5fa_1cbfc041d1b8row9_col0{\n",
       "            background-color:  #00ffff;\n",
       "            color:  #000000;\n",
       "        }</style><table id=\"T_60d07e0e_a633_11eb_a5fa_1cbfc041d1b8\" ><thead>    <tr>        <th class=\"blank level0\" ></th>        <th class=\"col_heading level0 col0\" >TRANSPORTATION_DISTANCE_IN_KM</th>    </tr>    <tr>        <th class=\"index_name level0\" >supplierNameCode</th>        <th class=\"blank\" ></th>    </tr></thead><tbody>\n",
       "                <tr>\n",
       "                        <th id=\"T_60d07e0e_a633_11eb_a5fa_1cbfc041d1b8level0_row0\" class=\"row_heading level0 row0\" >SUNITA CARRIERS PRIVATE LIMITED</th>\n",
       "                        <td id=\"T_60d07e0e_a633_11eb_a5fa_1cbfc041d1b8row0_col0\" class=\"data row0 col0\" >324</td>\n",
       "            </tr>\n",
       "            <tr>\n",
       "                        <th id=\"T_60d07e0e_a633_11eb_a5fa_1cbfc041d1b8level0_row1\" class=\"row_heading level0 row1\" >A S TRANSPORTS</th>\n",
       "                        <td id=\"T_60d07e0e_a633_11eb_a5fa_1cbfc041d1b8row1_col0\" class=\"data row1 col0\" >316</td>\n",
       "            </tr>\n",
       "            <tr>\n",
       "                        <th id=\"T_60d07e0e_a633_11eb_a5fa_1cbfc041d1b8level0_row2\" class=\"row_heading level0 row2\" >Unknown</th>\n",
       "                        <td id=\"T_60d07e0e_a633_11eb_a5fa_1cbfc041d1b8row2_col0\" class=\"data row2 col0\" >279</td>\n",
       "            </tr>\n",
       "            <tr>\n",
       "                        <th id=\"T_60d07e0e_a633_11eb_a5fa_1cbfc041d1b8level0_row3\" class=\"row_heading level0 row3\" >K.RAMACHANDRAN TRANSPORTS</th>\n",
       "                        <td id=\"T_60d07e0e_a633_11eb_a5fa_1cbfc041d1b8row3_col0\" class=\"data row3 col0\" >214</td>\n",
       "            </tr>\n",
       "            <tr>\n",
       "                        <th id=\"T_60d07e0e_a633_11eb_a5fa_1cbfc041d1b8level0_row4\" class=\"row_heading level0 row4\" >EKTA TRANSPORT COMPANY</th>\n",
       "                        <td id=\"T_60d07e0e_a633_11eb_a5fa_1cbfc041d1b8row4_col0\" class=\"data row4 col0\" >187</td>\n",
       "            </tr>\n",
       "            <tr>\n",
       "                        <th id=\"T_60d07e0e_a633_11eb_a5fa_1cbfc041d1b8level0_row5\" class=\"row_heading level0 row5\" >S.B.TRANSPORT COMPANY </th>\n",
       "                        <td id=\"T_60d07e0e_a633_11eb_a5fa_1cbfc041d1b8row5_col0\" class=\"data row5 col0\" >183</td>\n",
       "            </tr>\n",
       "            <tr>\n",
       "                        <th id=\"T_60d07e0e_a633_11eb_a5fa_1cbfc041d1b8level0_row6\" class=\"row_heading level0 row6\" >TRANS CARGO INDIA</th>\n",
       "                        <td id=\"T_60d07e0e_a633_11eb_a5fa_1cbfc041d1b8row6_col0\" class=\"data row6 col0\" >171</td>\n",
       "            </tr>\n",
       "            <tr>\n",
       "                        <th id=\"T_60d07e0e_a633_11eb_a5fa_1cbfc041d1b8level0_row7\" class=\"row_heading level0 row7\" >A P R TRAILLER SERVICE</th>\n",
       "                        <td id=\"T_60d07e0e_a633_11eb_a5fa_1cbfc041d1b8row7_col0\" class=\"data row7 col0\" >156</td>\n",
       "            </tr>\n",
       "            <tr>\n",
       "                        <th id=\"T_60d07e0e_a633_11eb_a5fa_1cbfc041d1b8level0_row8\" class=\"row_heading level0 row8\" >SHRI SAI ENTERPRISES</th>\n",
       "                        <td id=\"T_60d07e0e_a633_11eb_a5fa_1cbfc041d1b8row8_col0\" class=\"data row8 col0\" >135</td>\n",
       "            </tr>\n",
       "            <tr>\n",
       "                        <th id=\"T_60d07e0e_a633_11eb_a5fa_1cbfc041d1b8level0_row9\" class=\"row_heading level0 row9\" >DISTRIBUTION LOGISTICS INFRASTRUCTURE PRIVATE LTD</th>\n",
       "                        <td id=\"T_60d07e0e_a633_11eb_a5fa_1cbfc041d1b8row9_col0\" class=\"data row9 col0\" >124</td>\n",
       "            </tr>\n",
       "    </tbody></table>"
      ],
      "text/plain": [
       "<pandas.io.formats.style.Styler at 0x205eb23e4c0>"
      ]
     },
     "execution_count": 71,
     "metadata": {},
     "output_type": "execute_result"
    }
   ],
   "source": [
    "print('star supliers with more no. of delay delivery')\n",
    "dfT[dfT['ontime/delay']==0][['supplierNameCode', 'TRANSPORTATION_DISTANCE_IN_KM']].groupby(['supplierNameCode']).agg('count').sort_values('TRANSPORTATION_DISTANCE_IN_KM', \n",
    "                                                                                                                   ascending=False).head(10).style.background_gradient(cmap='cool')"
   ]
  },
  {
   "cell_type": "code",
   "execution_count": 72,
   "metadata": {},
   "outputs": [
    {
     "data": {
      "text/plain": [
       "999    316\n",
       "Name: supplierID, dtype: int64"
      ]
     },
     "execution_count": 72,
     "metadata": {},
     "output_type": "execute_result"
    }
   ],
   "source": [
    "#Let's check the supplier code for the unknown suppliers\n",
    "dfT[dfT['supplierNameCode']=='Unknown']['supplierID'].value_counts()"
   ]
  },
  {
   "cell_type": "code",
   "execution_count": 73,
   "metadata": {},
   "outputs": [
    {
     "data": {
      "text/plain": [
       "0    2003\n",
       "1     677\n",
       "Name: ontime/delay, dtype: int64"
      ]
     },
     "execution_count": 73,
     "metadata": {},
     "output_type": "execute_result"
    }
   ],
   "source": [
    "# Let's check whether having driver's mobile number making any impact on ontime delivery\n",
    "dfT['Driver_MobileNo'].values[dfT['Driver_MobileNo'].values>0]=1\n",
    "dfT['Driver_MobileNo'].fillna(0, inplace=True)\n",
    "dfT[dfT['Driver_MobileNo']==1]['ontime/delay'].value_counts()"
   ]
  },
  {
   "cell_type": "code",
   "execution_count": 75,
   "metadata": {},
   "outputs": [
    {
     "data": {
      "text/plain": [
       "0    2321\n",
       "1     914\n",
       "Name: ontime/delay, dtype: int64"
      ]
     },
     "execution_count": 75,
     "metadata": {},
     "output_type": "execute_result"
    }
   ],
   "source": [
    "dfT[dfT['Driver_MobileNo']==0]['ontime/delay'].value_counts()"
   ]
  },
  {
   "cell_type": "code",
   "execution_count": 76,
   "metadata": {},
   "outputs": [
    {
     "data": {
      "image/png": "[encoded data removed]",
      "text/plain": [
       "<Figure size 1080x360 with 2 Axes>"
      ]
     },
     "metadata": {},
     "output_type": "display_data"
    }
   ],
   "source": [
    "#let's check the pattern of 'transportation in km' vs 'distance between origin and destination'\n",
    "plt.rcParams['figure.figsize']=15,5\n",
    "plt.subplot(121)\n",
    "sns.distplot(dfT['TRANSPORTATION_DISTANCE_IN_KM'], color='black')\n",
    "\n",
    "plt.subplot(122)\n",
    "sns.distplot(dfT['Org_Dest_distance'], color='blue')\n",
    "\n",
    "plt.suptitle('TRANSPORTATION_DISTANCE_IN_KM Vs Org_Dest_distance')\n",
    "plt.show()"
   ]
  },
  {
   "cell_type": "code",
   "execution_count": 77,
   "metadata": {},
   "outputs": [
    {
     "data": {
      "text/html": [
       "<style  type=\"text/css\" >\n",
       "#T_7a2c4913_a633_11eb_8126_1cbfc041d1b8row0_col0{\n",
       "            background-color:  #f0f921;\n",
       "            color:  #000000;\n",
       "        }#T_7a2c4913_a633_11eb_8126_1cbfc041d1b8row1_col0{\n",
       "            background-color:  #fad824;\n",
       "            color:  #000000;\n",
       "        }#T_7a2c4913_a633_11eb_8126_1cbfc041d1b8row2_col0{\n",
       "            background-color:  #d7566c;\n",
       "            color:  #000000;\n",
       "        }#T_7a2c4913_a633_11eb_8126_1cbfc041d1b8row3_col0{\n",
       "            background-color:  #cc4977;\n",
       "            color:  #f1f1f1;\n",
       "        }#T_7a2c4913_a633_11eb_8126_1cbfc041d1b8row4_col0{\n",
       "            background-color:  #ae2892;\n",
       "            color:  #f1f1f1;\n",
       "        }#T_7a2c4913_a633_11eb_8126_1cbfc041d1b8row5_col0{\n",
       "            background-color:  #6100a7;\n",
       "            color:  #f1f1f1;\n",
       "        }#T_7a2c4913_a633_11eb_8126_1cbfc041d1b8row6_col0{\n",
       "            background-color:  #41049d;\n",
       "            color:  #f1f1f1;\n",
       "        }#T_7a2c4913_a633_11eb_8126_1cbfc041d1b8row7_col0,#T_7a2c4913_a633_11eb_8126_1cbfc041d1b8row8_col0{\n",
       "            background-color:  #19068c;\n",
       "            color:  #f1f1f1;\n",
       "        }#T_7a2c4913_a633_11eb_8126_1cbfc041d1b8row9_col0{\n",
       "            background-color:  #0d0887;\n",
       "            color:  #f1f1f1;\n",
       "        }</style><table id=\"T_7a2c4913_a633_11eb_8126_1cbfc041d1b8\" ><thead>    <tr>        <th class=\"blank level0\" ></th>        <th class=\"col_heading level0 col0\" >TRANSPORTATION_DISTANCE_IN_KM</th>    </tr>    <tr>        <th class=\"index_name level0\" >supplierNameCode</th>        <th class=\"blank\" ></th>    </tr></thead><tbody>\n",
       "                <tr>\n",
       "                        <th id=\"T_7a2c4913_a633_11eb_8126_1cbfc041d1b8level0_row0\" class=\"row_heading level0 row0\" >ARVINTH TRANSPORT</th>\n",
       "                        <td id=\"T_7a2c4913_a633_11eb_8126_1cbfc041d1b8row0_col0\" class=\"data row0 col0\" >16450.000000</td>\n",
       "            </tr>\n",
       "            <tr>\n",
       "                        <th id=\"T_7a2c4913_a633_11eb_8126_1cbfc041d1b8level0_row1\" class=\"row_heading level0 row1\" >ESWAR TRANSPORT</th>\n",
       "                        <td id=\"T_7a2c4913_a633_11eb_8126_1cbfc041d1b8row1_col0\" class=\"data row1 col0\" >15381.000000</td>\n",
       "            </tr>\n",
       "            <tr>\n",
       "                        <th id=\"T_7a2c4913_a633_11eb_8126_1cbfc041d1b8level0_row2\" class=\"row_heading level0 row2\" >Sree Sakthi Transport</th>\n",
       "                        <td id=\"T_7a2c4913_a633_11eb_8126_1cbfc041d1b8row2_col0\" class=\"data row2 col0\" >10054.271429</td>\n",
       "            </tr>\n",
       "            <tr>\n",
       "                        <th id=\"T_7a2c4913_a633_11eb_8126_1cbfc041d1b8level0_row3\" class=\"row_heading level0 row3\" >VJ LOGISTICS</th>\n",
       "                        <td id=\"T_7a2c4913_a633_11eb_8126_1cbfc041d1b8row3_col0\" class=\"data row3 col0\" >9379.000000</td>\n",
       "            </tr>\n",
       "            <tr>\n",
       "                        <th id=\"T_7a2c4913_a633_11eb_8126_1cbfc041d1b8level0_row4\" class=\"row_heading level0 row4\" >KASAM TRANSPORT SERVICE</th>\n",
       "                        <td id=\"T_7a2c4913_a633_11eb_8126_1cbfc041d1b8row4_col0\" class=\"data row4 col0\" >7740.000000</td>\n",
       "            </tr>\n",
       "            <tr>\n",
       "                        <th id=\"T_7a2c4913_a633_11eb_8126_1cbfc041d1b8level0_row5\" class=\"row_heading level0 row5\" >SUSEE TRANSPORTER</th>\n",
       "                        <td id=\"T_7a2c4913_a633_11eb_8126_1cbfc041d1b8row5_col0\" class=\"data row5 col0\" >4661.000000</td>\n",
       "            </tr>\n",
       "            <tr>\n",
       "                        <th id=\"T_7a2c4913_a633_11eb_8126_1cbfc041d1b8level0_row6\" class=\"row_heading level0 row6\" >SR TRANSPORTS</th>\n",
       "                        <td id=\"T_7a2c4913_a633_11eb_8126_1cbfc041d1b8row6_col0\" class=\"data row6 col0\" >3540.000000</td>\n",
       "            </tr>\n",
       "            <tr>\n",
       "                        <th id=\"T_7a2c4913_a633_11eb_8126_1cbfc041d1b8level0_row7\" class=\"row_heading level0 row7\" >VIRS TEMPO SERVICE</th>\n",
       "                        <td id=\"T_7a2c4913_a633_11eb_8126_1cbfc041d1b8row7_col0\" class=\"data row7 col0\" >2340.000000</td>\n",
       "            </tr>\n",
       "            <tr>\n",
       "                        <th id=\"T_7a2c4913_a633_11eb_8126_1cbfc041d1b8level0_row8\" class=\"row_heading level0 row8\" >S R LOGISTICS</th>\n",
       "                        <td id=\"T_7a2c4913_a633_11eb_8126_1cbfc041d1b8row8_col0\" class=\"data row8 col0\" >2340.000000</td>\n",
       "            </tr>\n",
       "            <tr>\n",
       "                        <th id=\"T_7a2c4913_a633_11eb_8126_1cbfc041d1b8level0_row9\" class=\"row_heading level0 row9\" >G.S. TRANSPORT</th>\n",
       "                        <td id=\"T_7a2c4913_a633_11eb_8126_1cbfc041d1b8row9_col0\" class=\"data row9 col0\" >2100.000000</td>\n",
       "            </tr>\n",
       "    </tbody></table>"
      ],
      "text/plain": [
       "<pandas.io.formats.style.Styler at 0x205e88042b0>"
      ]
     },
     "execution_count": 77,
     "metadata": {},
     "output_type": "execute_result"
    }
   ],
   "source": [
    "#fraudulant entries by suppliers\n",
    "dfT[dfT['Org_Dest_distance']==0][['TRANSPORTATION_DISTANCE_IN_KM', 'supplierNameCode']].groupby(['supplierNameCode']).agg('sum').sort_values('TRANSPORTATION_DISTANCE_IN_KM', \n",
    "                                                                                                                   ascending=False).head(10).style.background_gradient(cmap='plasma')"
   ]
  },
  {
   "cell_type": "code",
   "execution_count": 78,
   "metadata": {},
   "outputs": [
    {
     "data": {
      "image/png": "[encoded data removed]",
      "text/plain": [
       "<Figure size 720x360 with 1 Axes>"
      ]
     },
     "metadata": {},
     "output_type": "display_data"
    }
   ],
   "source": [
    "plt.rcParams['figure.figsize']=10,5\n",
    "sns.countplot(dfT[dfT['ontime/delay']==1]['vehicleType'],\n",
    "             order=dfT[dfT['ontime/delay']==1]['vehicleType'].value_counts().head(10).index,\n",
    "             palette='viridis')\n",
    "plt.xticks(rotation=90)\n",
    "plt.title('Vehicle with most successful ontime delivery')\n",
    "plt.show()"
   ]
  },
  {
   "cell_type": "markdown",
   "metadata": {},
   "source": [
    "By this result, we can see that we don't have vehicletype data for most of the record. Definetly we shoud have record of vehicle type to get the suppliers having star vehicle. By this we can see the second most successful star vehicle which making more number of ontime delivery is '32 FT Multi-Axle 14MT - HCV'"
   ]
  },
  {
   "cell_type": "code",
   "execution_count": 79,
   "metadata": {},
   "outputs": [
    {
     "data": {
      "image/png": "[encoded data removed]",
      "text/plain": [
       "<Figure size 720x360 with 1 Axes>"
      ]
     },
     "metadata": {},
     "output_type": "display_data"
    }
   ],
   "source": [
    "plt.rcParams['figure.figsize']=10,5\n",
    "sns.countplot(dfT[dfT['ontime/delay']==1]['supplierNameCode'],\n",
    "             order=dfT[dfT['ontime/delay']==1]['supplierNameCode'].value_counts().head(10).index,\n",
    "             palette='viridis')\n",
    "plt.xticks(rotation=90)\n",
    "plt.title('suppliers with most successful ontime delivery')\n",
    "plt.show()"
   ]
  },
  {
   "cell_type": "code",
   "execution_count": 80,
   "metadata": {},
   "outputs": [
    {
     "data": {
      "image/png": "[encoded data removed]",
      "text/plain": [
       "<Figure size 720x360 with 1 Axes>"
      ]
     },
     "metadata": {},
     "output_type": "display_data"
    }
   ],
   "source": [
    "plt.rcParams['figure.figsize']=10,5\n",
    "sns.countplot(dfT['vehicle_states'],\n",
    "             order=dfT['vehicle_states'].value_counts().head(10).index,\n",
    "             palette='viridis')\n",
    "plt.xticks(rotation=90)\n",
    "plt.title('which state vehicles are mostly used by TVS')\n",
    "plt.show()"
   ]
  },
  {
   "cell_type": "code",
   "execution_count": 81,
   "metadata": {},
   "outputs": [
    {
     "data": {
      "image/png": "[encoded data removed]",
      "text/plain": [
       "<Figure size 720x360 with 1 Axes>"
      ]
     },
     "metadata": {},
     "output_type": "display_data"
    }
   ],
   "source": [
    "plt.rcParams['figure.figsize']=10,5\n",
    "sns.countplot(dfT['vehicle_states'],\n",
    "             order=dfT['vehicle_states'].value_counts().head(10).index,\n",
    "              hue=dfT['ontime/delay'],\n",
    "             palette='magma')\n",
    "plt.xticks(rotation=90)\n",
    "plt.title('which state vehicles having most successfull ontime delivery')\n",
    "plt.legend(['Delay', 'Ontime'])\n",
    "plt.show()"
   ]
  },
  {
   "cell_type": "code",
   "execution_count": 82,
   "metadata": {},
   "outputs": [
    {
     "data": {
      "image/png": "[encoded data removed]",
      "text/plain": [
       "<Figure size 1080x360 with 2 Axes>"
      ]
     },
     "metadata": {},
     "output_type": "display_data"
    }
   ],
   "source": [
    "plt.rcParams['figure.figsize']=15,5\n",
    "\n",
    "plt.subplot(121)\n",
    "sns.countplot(dfT['Dest_states'],\n",
    "             order=dfT['Dest_states'].value_counts().head(10).index,\n",
    "             palette='dark')\n",
    "plt.xticks(rotation=90)\n",
    "plt.title('Most of the destination location')\n",
    "\n",
    "plt.subplot(122)\n",
    "sns.countplot(dfT['Origin_states'],\n",
    "             order=dfT['Origin_states'].value_counts().head(10).index,\n",
    "             palette='plasma')\n",
    "plt.xticks(rotation=90)\n",
    "plt.title('Most of the Origin location')\n",
    "\n",
    "plt.show()"
   ]
  },
  {
   "cell_type": "code",
   "execution_count": 83,
   "metadata": {},
   "outputs": [
    {
     "data": {
      "image/png": "[encoded data removed]",
      "text/plain": [
       "<Figure size 1080x360 with 2 Axes>"
      ]
     },
     "metadata": {},
     "output_type": "display_data"
    }
   ],
   "source": [
    "plt.subplot(121)\n",
    "sns.boxplot(dfT['TRANSPORTATION_DISTANCE_IN_KM'])\n",
    "\n",
    "plt.subplot(122)\n",
    "sns.boxplot(dfT['Org_Dest_distance'])\n",
    "plt.show()"
   ]
  },
  {
   "cell_type": "markdown",
   "metadata": {},
   "source": [
    "we don't have major outliers in our data"
   ]
  },
  {
   "cell_type": "markdown",
   "metadata": {},
   "source": [
    "##### Feature Encoding"
   ]
  },
  {
   "cell_type": "code",
   "execution_count": 84,
   "metadata": {},
   "outputs": [],
   "source": [
    "#let's filter usefull data alone\n",
    "df_cln=dfT[['Market/Regular ',\n",
    "       'vehicle_no',\n",
    "       'Current_Location',\n",
    "       'TRANSPORTATION_DISTANCE_IN_KM',\n",
    "       'vehicleType', 'Driver_Name',\n",
    "       'Driver_MobileNo', 'customerID', 'supplierID',\n",
    "       'Material Shipped', 'ontime/delay',\n",
    "       'vehicle_states', 'Origin_states', 'Dest_states', 'Org_Dest_distance']]"
   ]
  },
  {
   "cell_type": "code",
   "execution_count": 90,
   "metadata": {},
   "outputs": [],
   "source": [
    "#let's make a copy of filtered data\n",
    "df_copy=df_cln.copy()"
   ]
  },
  {
   "cell_type": "code",
   "execution_count": 91,
   "metadata": {},
   "outputs": [],
   "source": [
    "#df_cln['GpsProvider']=df_cln.GpsProvider.astype(\"category\").cat.codes\n",
    "#df_cln['BookingID']=df_cln.BookingID.astype(\"category\").cat.codes\n",
    "df_cln['vehicle_no']=df_cln.vehicle_no.astype(\"category\").cat.codes\n",
    "df_cln['customerID']=df_cln.customerID.astype(\"category\").cat.codes\n",
    "df_cln['supplierID']=df_cln.supplierID.astype(\"category\").cat.codes\n",
    "#df_cln['Origin_Location']=df_cln.Origin_Location.astype(\"category\").cat.codes\n",
    "#df_cln['Destination_Location']=df_cln.Destination_Location.astype(\"category\").cat.codes\n",
    "df_cln['Current_Location']=df_cln.Current_Location.astype(\"category\").cat.codes\n",
    "df_cln['vehicleType']=df_cln.vehicleType.astype(\"category\").cat.codes\n",
    "#df_cln['customerNameCode']=df_cln.customerNameCode.astype(\"category\").cat.codes\n",
    "#df_cln['supplierNameCode']=df_cln.supplierNameCode.astype(\"category\").cat.codes\n",
    "df_cln['Material Shipped']=df_cln['Material Shipped'].astype(\"category\").cat.codes\n",
    "df_cln['Market/Regular ']=df_cln['Market/Regular '].astype(\"category\").cat.codes\n",
    "df_cln['Driver_Name']=df_cln['Driver_Name'].astype(\"category\").cat.codes\n",
    "df_cln['vehicle_states']=df_cln.vehicle_states.astype(\"category\").cat.codes\n",
    "df_cln['Origin_states']=df_cln['Origin_states'].astype(\"category\").cat.codes\n",
    "df_cln['Dest_states']=df_cln['Dest_states'].astype(\"category\").cat.codes"
   ]
  },
  {
   "cell_type": "code",
   "execution_count": 92,
   "metadata": {},
   "outputs": [
    {
     "data": {
      "text/plain": [
       "ontime/delay                     1.00\n",
       "supplierID                       0.50\n",
       "vehicleType                      0.21\n",
       "vehicle_states                   0.20\n",
       "vehicle_no                       0.20\n",
       "Dest_states                      0.18\n",
       "Origin_states                    0.11\n",
       "Current_Location                 0.08\n",
       "Material Shipped                 0.01\n",
       "Driver_MobileNo                 -0.03\n",
       "TRANSPORTATION_DISTANCE_IN_KM   -0.08\n",
       "Market/Regular                  -0.13\n",
       "Org_Dest_distance               -0.23\n",
       "Driver_Name                     -0.24\n",
       "customerID                      -0.26\n",
       "Name: ontime/delay, dtype: float64"
      ]
     },
     "execution_count": 92,
     "metadata": {},
     "output_type": "execute_result"
    }
   ],
   "source": [
    "corr_matrix=df_cln.corr()\n",
    "corr_matrix[\"ontime/delay\"].sort_values(ascending=False)"
   ]
  },
  {
   "cell_type": "code",
   "execution_count": 93,
   "metadata": {},
   "outputs": [],
   "source": [
    "x=df_cln.drop('ontime/delay', axis=1)\n",
    "y=df_cln['ontime/delay'].values"
   ]
  },
  {
   "cell_type": "markdown",
   "metadata": {},
   "source": [
    "#### Scaling Treatment"
   ]
  },
  {
   "cell_type": "code",
   "execution_count": 94,
   "metadata": {},
   "outputs": [],
   "source": [
    "from sklearn.preprocessing import StandardScaler\n",
    "\n",
    "#to_scale=df_cln.select_dtypes(include='number').columns.tolist()[1:-1]\n",
    "sc=StandardScaler()\n",
    "scaled=sc.fit_transform(x)\n",
    "x_scl=pd.DataFrame(scaled, columns=x.columns)"
   ]
  },
  {
   "cell_type": "code",
   "execution_count": 95,
   "metadata": {},
   "outputs": [
    {
     "data": {
      "image/png": "[encoded data removed]",
      "text/plain": [
       "<Figure size 1080x360 with 2 Axes>"
      ]
     },
     "metadata": {},
     "output_type": "display_data"
    }
   ],
   "source": [
    "#check weathear data is standardized or not\n",
    "plt.subplot(121)\n",
    "plt.ylim(-1,1)\n",
    "\n",
    "means=[]\n",
    "for i in range(x_scl.shape[1]):\n",
    "    means.append(np.mean(x_scl.iloc[:,i]))\n",
    "plt.plot(means, scaley=False)\n",
    "plt.title('Means of scaled features')\n",
    "\n",
    "plt.subplot(122)\n",
    "plt.ylim(0,2)\n",
    "vars=[]\n",
    "for i in range(x_scl.shape[1]):\n",
    "    vars.append(np.var(x_scl.iloc[:,i]))\n",
    "plt.plot(vars, scaley=False)\n",
    "plt.title('Varience of scaled features')\n",
    "plt.show()"
   ]
  },
  {
   "cell_type": "markdown",
   "metadata": {},
   "source": [
    "dataset is well standardised"
   ]
  },
  {
   "cell_type": "markdown",
   "metadata": {},
   "source": [
    "#### Model Building"
   ]
  },
  {
   "cell_type": "markdown",
   "metadata": {},
   "source": [
    "Logistic Refression¶"
   ]
  },
  {
   "cell_type": "code",
   "execution_count": 96,
   "metadata": {},
   "outputs": [],
   "source": [
    "from sklearn.model_selection import train_test_split\n",
    "X_train, X_test, y_train, y_test = train_test_split(x_scl, y, test_size=0.25)"
   ]
  },
  {
   "cell_type": "code",
   "execution_count": 97,
   "metadata": {},
   "outputs": [],
   "source": [
    "from sklearn.linear_model import LogisticRegression\n",
    "from sklearn.metrics import accuracy_score, confusion_matrix, roc_curve, auc, roc_auc_score"
   ]
  },
  {
   "cell_type": "code",
   "execution_count": 98,
   "metadata": {},
   "outputs": [
    {
     "data": {
      "text/plain": [
       "LogisticRegression()"
      ]
     },
     "execution_count": 98,
     "metadata": {},
     "output_type": "execute_result"
    }
   ],
   "source": [
    "LR=LogisticRegression()\n",
    "LR.fit(X_train, y_train)"
   ]
  },
  {
   "cell_type": "code",
   "execution_count": 99,
   "metadata": {},
   "outputs": [
    {
     "data": {
      "text/plain": [
       "0.8417849898580122"
      ]
     },
     "execution_count": 99,
     "metadata": {},
     "output_type": "execute_result"
    }
   ],
   "source": [
    "LR.score(X_test, y_test)"
   ]
  },
  {
   "cell_type": "code",
   "execution_count": 100,
   "metadata": {},
   "outputs": [],
   "source": [
    "y_pred_LR=LR.predict(X_test)"
   ]
  },
  {
   "cell_type": "code",
   "execution_count": 101,
   "metadata": {},
   "outputs": [
    {
     "data": {
      "image/png": "[encoded data removed]",
      "text/plain": [
       "<Figure size 360x360 with 2 Axes>"
      ]
     },
     "metadata": {},
     "output_type": "display_data"
    }
   ],
   "source": [
    "plt.rcParams['figure.figsize']=5,5\n",
    "ax= plt.subplot()\n",
    "cm = confusion_matrix(y_test, y_pred_LR)\n",
    "sns.heatmap(cm, annot=True, ax = ax); #annot=True to annotate cells\n",
    "\n",
    "# labels, title and ticks\n",
    "ax.set_xlabel('Predicted labels');ax.set_ylabel('True labels'); \n",
    "ax.set_title('Confusion Matrix'); \n",
    "ax.xaxis.set_ticklabels(['delay', 'ontime']); ax.yaxis.set_ticklabels(['delay', 'ontime']);"
   ]
  },
  {
   "cell_type": "code",
   "execution_count": 102,
   "metadata": {},
   "outputs": [],
   "source": [
    "fpr, tpr, thres = roc_curve(y_test, LR.predict_proba(X_test)[:,1])\n",
    "roc_auc = auc(fpr, tpr)"
   ]
  },
  {
   "cell_type": "code",
   "execution_count": 103,
   "metadata": {},
   "outputs": [
    {
     "data": {
      "image/png": "[encoded data removed]",
      "text/plain": [
       "<Figure size 720x504 with 1 Axes>"
      ]
     },
     "metadata": {},
     "output_type": "display_data"
    }
   ],
   "source": [
    "plt.rcParams['figure.figsize']=10,7\n",
    "plt.plot(fpr, tpr, label = 'ROC Curve' %roc_auc)\n",
    "plt.plot([0, 1], [0, 1], '--')\n",
    "plt.xlabel('False Positive Rate')\n",
    "plt.ylabel('True Positive Rate')\n",
    "plt.legend()\n",
    "plt.title('ROC-AUC graph')\n",
    "plt.show()"
   ]
  },
  {
   "cell_type": "code",
   "execution_count": 104,
   "metadata": {},
   "outputs": [],
   "source": [
    "from sklearn.ensemble import RandomForestClassifier\n",
    "#from sklearn.feature_selection import SelectFromModel"
   ]
  },
  {
   "cell_type": "code",
   "execution_count": 105,
   "metadata": {},
   "outputs": [],
   "source": [
    "X_train, X_test, y_train, y_test = train_test_split(x, y, test_size=0.25)"
   ]
  },
  {
   "cell_type": "code",
   "execution_count": 106,
   "metadata": {},
   "outputs": [
    {
     "data": {
      "text/plain": [
       "RandomForestClassifier()"
      ]
     },
     "execution_count": 106,
     "metadata": {},
     "output_type": "execute_result"
    }
   ],
   "source": [
    "RF =RandomForestClassifier()\n",
    "RF.fit(X_train, y_train)"
   ]
  },
  {
   "cell_type": "code",
   "execution_count": 107,
   "metadata": {},
   "outputs": [
    {
     "data": {
      "text/plain": [
       "0.8843813387423936"
      ]
     },
     "execution_count": 107,
     "metadata": {},
     "output_type": "execute_result"
    }
   ],
   "source": [
    "RF.score(X_test, y_test)"
   ]
  },
  {
   "cell_type": "code",
   "execution_count": 108,
   "metadata": {},
   "outputs": [],
   "source": [
    "y_pred_RF=RF.predict(X_test)"
   ]
  },
  {
   "cell_type": "code",
   "execution_count": 109,
   "metadata": {},
   "outputs": [
    {
     "data": {
      "image/png": "[encoded data removed]",
      "text/plain": [
       "<Figure size 360x360 with 2 Axes>"
      ]
     },
     "metadata": {},
     "output_type": "display_data"
    }
   ],
   "source": [
    "plt.rcParams['figure.figsize']=5,5\n",
    "ax= plt.subplot()\n",
    "cm = confusion_matrix(y_test, y_pred_RF)\n",
    "sns.heatmap(cm, annot=True, ax = ax); #annot=True to annotate cells\n",
    "\n",
    "# labels, title and ticks\n",
    "ax.set_xlabel('Predicted labels');ax.set_ylabel('True labels'); \n",
    "ax.set_title('Confusion Matrix'); \n",
    "ax.xaxis.set_ticklabels(['delay', 'ontime']); ax.yaxis.set_ticklabels(['delay', 'ontime']);"
   ]
  },
  {
   "cell_type": "code",
   "execution_count": 110,
   "metadata": {},
   "outputs": [],
   "source": [
    "fpr, tpr, thres = roc_curve(y_test, RF.predict_proba(X_test)[:,1])\n",
    "roc_auc = auc(fpr, tpr)"
   ]
  },
  {
   "cell_type": "code",
   "execution_count": 111,
   "metadata": {},
   "outputs": [
    {
     "data": {
      "image/png": "[encoded data removed]",
      "text/plain": [
       "<Figure size 720x504 with 1 Axes>"
      ]
     },
     "metadata": {},
     "output_type": "display_data"
    }
   ],
   "source": [
    "plt.rcParams['figure.figsize']=10,7\n",
    "plt.plot(fpr, tpr, label = 'ROC Curve' %roc_auc)\n",
    "plt.plot([0, 1], [0, 1], '--')\n",
    "plt.xlabel('False Positive Rate')\n",
    "plt.ylabel('True Positive Rate')\n",
    "plt.legend()\n",
    "plt.title('ROC-AUC graph')\n",
    "plt.show()"
   ]
  },
  {
   "cell_type": "markdown",
   "metadata": {},
   "source": [
    "Selecting most helping Parametes"
   ]
  },
  {
   "cell_type": "code",
   "execution_count": 112,
   "metadata": {},
   "outputs": [
    {
     "data": {
      "image/png": "[encoded data removed]",
      "text/plain": [
       "<Figure size 1080x504 with 1 Axes>"
      ]
     },
     "metadata": {},
     "output_type": "display_data"
    }
   ],
   "source": [
    "plt.rcParams['figure.figsize']=15,7\n",
    "plt.style.use('ggplot')\n",
    "weights=pd.Series(LR.coef_[0], index=['Market/Regular ', 'vehicle_no', 'Current_Location',\n",
    "       'TRANSPORTATION_DISTANCE_IN_KM', 'vehicleType', 'Driver_Name',\n",
    "       'Driver_MobileNo', 'customerID', 'supplierID', 'Material Shipped',\n",
    "       'vehicle_states', 'Origin_states', 'Dest_states', 'Org_Dest_distance'])\n",
    "\n",
    "params_weight =weights.plot(kind='bar', title='feature going to help us for successfull ontime deliveries ')\n",
    "fig=params_weight.get_figure()\n",
    "plt.show()"
   ]
  },
  {
   "cell_type": "markdown",
   "metadata": {},
   "source": [
    "#### Parameters that impact on ontime delivery\n",
    "-Current location\n",
    "\n",
    "-Transportation distance\n",
    "\n",
    "-Vehicle state\n",
    "\n",
    "-Vehicle type\n",
    "\n",
    "-Driver mobile number\n",
    "\n",
    "-Supplier\n",
    "\n",
    "-material shipped\n",
    "\n",
    "-Destination state"
   ]
  },
  {
   "cell_type": "code",
   "execution_count": null,
   "metadata": {},
   "outputs": [],
   "source": []
  }
 ],
 "metadata": {
  "kernelspec": {
   "display_name": "Python 3",
   "language": "python",
   "name": "python3"
  },
  "language_info": {
   "codemirror_mode": {
    "name": "ipython",
    "version": 3
   },
   "file_extension": ".py",
   "mimetype": "text/x-python",
   "name": "python",
   "nbconvert_exporter": "python",
   "pygments_lexer": "ipython3",
   "version": "3.8.5"
  }
 },
 "nbformat": 4,
 "nbformat_minor": 4
}
