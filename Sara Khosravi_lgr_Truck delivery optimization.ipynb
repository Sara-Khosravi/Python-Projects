{
 "cells": [
  {
   "cell_type": "markdown",
   "metadata": {},
   "source": [
    "###############################################################################################################################\n",
    "\n",
    "LOGISTIC REGRESSION for Truck Delivery Modeling\n",
    "----------------------------------------------------------------------------------------\n",
    "\n",
    "###############################################################################################################################"
   ]
  },
  {
   "cell_type": "markdown",
   "metadata": {},
   "source": [
    " By: Sara Khosravi\n",
    " ---------------------------\n",
    "\n",
    "\n",
    "Instructor: MS.Giti  Saikia\n",
    "---------------------------------------"
   ]
  },
  {
   "cell_type": "markdown",
   "metadata": {},
   "source": [
    "###############################################################################################################################\n",
    "\n",
    "### Logistic Regression Overview\n",
    "\n",
    "Logistic regression is a fundamental classification technique. It belongs to the group of linear classifiers and is somewhat similar to polynomial and linear regression. Logistic regression is fast and relatively uncomplicated, and it’s convenient for you to interpret the results. Although it’s essentially a method for binary classification, it can also be applied to multiclass problems.\n",
    "\n",
    "Independent variables, also called inputs or predictors, don’t depend on other features of interest (or at least you assume so for the purpose of the analysis).\n",
    "\n",
    "Dependent variables, also called outputs or responses, depend on the independent variables."
   ]
  },
  {
   "cell_type": "markdown",
   "metadata": {},
   "source": [
    "As a Logistics company, it is necessary to provide an effective trip experience to the customer in an optimized cost.\n",
    "\n",
    "To provide an effective service we need to identify the parameters that impact the on-time arrival of the truck.\n",
    "With the pattern formed we need to formulate the data points that would help reduce the trip cost"
   ]
  },
  {
   "cell_type": "raw",
   "metadata": {},
   "source": [
    "About this file\n",
    "Dataset Description:\n",
    "GpsProvider - Vendor who provides GPS\n",
    "BookingID - Unique Identification for a trip\n",
    "Market/Regular - Type of trip. Regular - Vendors with whom we will have contract. Market - Vendor with whom we will not have contract\n",
    "BookingIDDate - Date when booking was created vehicleno - Truck Number\n",
    "OriginLocation - Trip start place DestinationLocation - Trip end place\n",
    "Orglatlon - Latitude/Longitude of start place\n",
    "Deslatlon - Latitude/Longitude of end place\n",
    "DataPingtime - Time when we receive GPS ping\n",
    "PlannedETA - Planned Estimated Time of Arrival CurrentLocation - Live location\n",
    "DestinationLocation - Repeat of destination location\n",
    "actualeta - Time when the truck arrived Currlat - current latitude - changes each time when we receive GPS ping\n",
    "Currlon - current longitude - changes each time when we receive GPS ping ontime - If the truck arrived on time - calculated based on Planned and Actual ETA delay - If the truck arrived with a delay - calculated based on Planned and Actual ETA OriginLocationCode - Origin code\n",
    "DestinationLocationCode - Destination code tripstartdate - Date/Time when trip started tripenddate Date/Time when trip ended - based on documentation (cant be considered for calculating delay)\\ TRANSPORTATIONDISTANCEINKM - Total KM of travel\n",
    "vehicleType - Type of Truck\n",
    "Minimumkmstobecoveredinaday - Minimum KM the driver needs to cover in a day DriverName - Driver details\n",
    "Driver_MobileNo - Driver details\n",
    "customerID - Customer details\n",
    "customerNameCode - Customer details\n",
    "supplierID - Supplier - Who provides the vehicle\n",
    "supplierNameCode - Supplier - Who provides the vehicle\n"
   ]
  },
  {
   "cell_type": "code",
   "execution_count": 1,
   "metadata": {},
   "outputs": [
    {
     "data": {
      "text/plain": [
       "'C:\\\\Sara\\\\Data SCIENCE\\\\DataMining\\\\Project'"
      ]
     },
     "execution_count": 1,
     "metadata": {},
     "output_type": "execute_result"
    }
   ],
   "source": [
    "# This Python 3 environment comes with many helpful analytics libraries installed\n",
    "# For example, here's several helpful packages to load\n",
    "\n",
    "import warnings\n",
    "warnings.filterwarnings('ignore')\n",
    "\n",
    "import numpy as np # linear algebra\n",
    "#Import pandas for the data-structures\n",
    "import pandas as pd # data processing, CSV file I/O (e.g. pd.read_csv)\n",
    "\n",
    "import matplotlib.pyplot as plt\n",
    "import seaborn as sns\n",
    "\n",
    "plt.style.use('ggplot')\n",
    "\n",
    "import pandas_profiling\n",
    "\n",
    "# Input data files are available in the read-only \"../input/\" directory\n",
    "# For example, running this (by clicking run or pressing Shift+Enter) will list all files under the input directory\n",
    "\n",
    "import os\n",
    "os.chdir(r'C:\\Sara\\Data SCIENCE\\DataMining\\Project')\n",
    "os.getcwd()\n"
   ]
  },
  {
   "cell_type": "markdown",
   "metadata": {},
   "source": [
    "##### What are the types of data analysis in Python?\n",
    "\n",
    "Data can be in any of the popular formats - CSV, TXT, XLS/XLSX (Excel), sas7bdat (SAS), Stata, Rdata (R) etc. Loading data in python environment is the most initial step of analyzing data. Date Type variable in consistent date format. pandas is a powerful data analysis package. It makes data exploration and manipulation easy."
   ]
  },
  {
   "cell_type": "markdown",
   "metadata": {},
   "source": [
    "## DATA COLLECTION"
   ]
  },
  {
   "cell_type": "code",
   "execution_count": 2,
   "metadata": {},
   "outputs": [
    {
     "data": {
      "text/plain": [
       "(6880, 32)"
      ]
     },
     "execution_count": 2,
     "metadata": {},
     "output_type": "execute_result"
    }
   ],
   "source": [
    "#import the dataset\n",
    "data=pd.read_excel(r'C:\\Sara\\Data SCIENCE\\DataMining\\Project\\Delivery truck trip data.xlsx')\n",
    "data.shape"
   ]
  },
  {
   "cell_type": "markdown",
   "metadata": {},
   "source": [
    "##### DataFrame - head() function\n",
    "\n",
    "Pandas DataFrame head () Method in Python By Ankit Lathiya Last updated May 26, 2020 Pandas DataFrame head () method returns top n rows of a DataFrame or Series where n is a user input value. The head () function is used to get the first n rows. The head () function is used to get the first n rows. It is useful for quickly testing if your object has the right type of data in it. For negative values of n, the head () function returns all rows except the last n rows, equivalent to df [:-n]. The head () method in python contains only one parameter, which is n."
   ]
  },
  {
   "cell_type": "code",
   "execution_count": 3,
   "metadata": {},
   "outputs": [
    {
     "data": {
      "text/html": [
       "<div>\n",
       "<style scoped>\n",
       "    .dataframe tbody tr th:only-of-type {\n",
       "        vertical-align: middle;\n",
       "    }\n",
       "\n",
       "    .dataframe tbody tr th {\n",
       "        vertical-align: top;\n",
       "    }\n",
       "\n",
       "    .dataframe thead th {\n",
       "        text-align: right;\n",
       "    }\n",
       "</style>\n",
       "<table border=\"1\" class=\"dataframe\">\n",
       "  <thead>\n",
       "    <tr style=\"text-align: right;\">\n",
       "      <th></th>\n",
       "      <th>GpsProvider</th>\n",
       "      <th>BookingID</th>\n",
       "      <th>Market/Regular</th>\n",
       "      <th>BookingID_Date</th>\n",
       "      <th>vehicle_no</th>\n",
       "      <th>Origin_Location</th>\n",
       "      <th>Destination_Location</th>\n",
       "      <th>Org_lat_lon</th>\n",
       "      <th>Des_lat_lon</th>\n",
       "      <th>Data_Ping_time</th>\n",
       "      <th>...</th>\n",
       "      <th>TRANSPORTATION_DISTANCE_IN_KM</th>\n",
       "      <th>vehicleType</th>\n",
       "      <th>Minimum_kms_to_be_covered_in_a_day</th>\n",
       "      <th>Driver_Name</th>\n",
       "      <th>Driver_MobileNo</th>\n",
       "      <th>customerID</th>\n",
       "      <th>customerNameCode</th>\n",
       "      <th>supplierID</th>\n",
       "      <th>supplierNameCode</th>\n",
       "      <th>Material Shipped</th>\n",
       "    </tr>\n",
       "  </thead>\n",
       "  <tbody>\n",
       "    <tr>\n",
       "      <th>0</th>\n",
       "      <td>CONSENT TRACK</td>\n",
       "      <td>MVCV0000927/082021</td>\n",
       "      <td>Market</td>\n",
       "      <td>2020-08-17 14:59:01.000</td>\n",
       "      <td>KA590408</td>\n",
       "      <td>TVSLSL-PUZHAL-HUB,CHENNAI,TAMIL NADU</td>\n",
       "      <td>ASHOK LEYLAND PLANT 1- HOSUR,HOSUR,KARNATAKA</td>\n",
       "      <td>13.1550,80.1960</td>\n",
       "      <td>12.7400,77.8200</td>\n",
       "      <td>2020-08-24 00:05:09</td>\n",
       "      <td>...</td>\n",
       "      <td>320.0</td>\n",
       "      <td>NaN</td>\n",
       "      <td>NaN</td>\n",
       "      <td>NaN</td>\n",
       "      <td>NaN</td>\n",
       "      <td>ALLEXCHE45</td>\n",
       "      <td>Ashok leyland limited</td>\n",
       "      <td>VIJEXHOSR7</td>\n",
       "      <td>VIJAY TRANSPORT</td>\n",
       "      <td>BRACKET / GRAB HANDLE</td>\n",
       "    </tr>\n",
       "    <tr>\n",
       "      <th>1</th>\n",
       "      <td>VAMOSYS</td>\n",
       "      <td>VCV00014271/082021</td>\n",
       "      <td>Regular</td>\n",
       "      <td>2020-08-27 16:22:22.827</td>\n",
       "      <td>TN30BC5917</td>\n",
       "      <td>DAIMLER INDIA COMMERCIAL VEHICLES,KANCHIPURAM,...</td>\n",
       "      <td>DAIMLER INDIA COMMERCIAL VEHICLES,KANCHIPURAM,...</td>\n",
       "      <td>12.8390,79.9540</td>\n",
       "      <td>12.8390,79.9540</td>\n",
       "      <td>2020-08-28 12:40:28</td>\n",
       "      <td>...</td>\n",
       "      <td>103.0</td>\n",
       "      <td>NaN</td>\n",
       "      <td>NaN</td>\n",
       "      <td>RAMESH</td>\n",
       "      <td>NaN</td>\n",
       "      <td>DMREXCHEUX</td>\n",
       "      <td>Daimler india commercial vehicles pvt lt</td>\n",
       "      <td>VJLEXSHE09</td>\n",
       "      <td>VJ LOGISTICS</td>\n",
       "      <td>ZB MODEL PLATE / 3143</td>\n",
       "    </tr>\n",
       "    <tr>\n",
       "      <th>2</th>\n",
       "      <td>CONSENT TRACK</td>\n",
       "      <td>VCV00014382/082021</td>\n",
       "      <td>Regular</td>\n",
       "      <td>2020-08-27 17:59:24.987</td>\n",
       "      <td>TN22AR2748</td>\n",
       "      <td>LUCAS TVS LTD-PONDY,PONDY,PONDICHERRY</td>\n",
       "      <td>LUCAS TVS LTD-PONDY,PONDY,PONDICHERRY</td>\n",
       "      <td>11.8710,79.7390</td>\n",
       "      <td>11.8710,79.7390</td>\n",
       "      <td>2020-08-28 09:05:09</td>\n",
       "      <td>...</td>\n",
       "      <td>300.0</td>\n",
       "      <td>NaN</td>\n",
       "      <td>NaN</td>\n",
       "      <td>GIRI</td>\n",
       "      <td>NaN</td>\n",
       "      <td>LUTGCCHE06</td>\n",
       "      <td>Lucas tvs ltd</td>\n",
       "      <td>GSTEXLAK1Q</td>\n",
       "      <td>G.S. TRANSPORT</td>\n",
       "      <td>LETTERING / FUSO</td>\n",
       "    </tr>\n",
       "    <tr>\n",
       "      <th>3</th>\n",
       "      <td>VAMOSYS</td>\n",
       "      <td>VCV00014743/082021</td>\n",
       "      <td>Regular</td>\n",
       "      <td>2020-08-28 00:48:24.503</td>\n",
       "      <td>TN28AQ0781</td>\n",
       "      <td>DAIMLER INDIA COMMERCIAL VEHICLES,KANCHIPURAM,...</td>\n",
       "      <td>DAIMLER INDIA COMMERCIAL VEHICLES,KANCHIPURAM,...</td>\n",
       "      <td>12.8390,79.9540</td>\n",
       "      <td>12.8390,79.9540</td>\n",
       "      <td>2020-08-28 12:40:31</td>\n",
       "      <td>...</td>\n",
       "      <td>61.0</td>\n",
       "      <td>NaN</td>\n",
       "      <td>NaN</td>\n",
       "      <td>RAVI</td>\n",
       "      <td>NaN</td>\n",
       "      <td>DMREXCHEUX</td>\n",
       "      <td>Daimler india commercial vehicles pvt lt</td>\n",
       "      <td>ARVEXNAM09</td>\n",
       "      <td>ARVINTH TRANSPORT</td>\n",
       "      <td>LU STRUT RA / RADIUS ROD</td>\n",
       "    </tr>\n",
       "    <tr>\n",
       "      <th>4</th>\n",
       "      <td>VAMOSYS</td>\n",
       "      <td>VCV00014744/082021</td>\n",
       "      <td>Regular</td>\n",
       "      <td>2020-08-28 01:23:19.243</td>\n",
       "      <td>TN68F1722</td>\n",
       "      <td>LUCAS TVS LTD-PONDY,PONDY,PONDICHERRY</td>\n",
       "      <td>LUCAS TVS LTD-PONDY,PONDY,PONDICHERRY</td>\n",
       "      <td>11.8720,79.6320</td>\n",
       "      <td>11.8720,79.6320</td>\n",
       "      <td>2020-08-28 12:40:29</td>\n",
       "      <td>...</td>\n",
       "      <td>240.0</td>\n",
       "      <td>NaN</td>\n",
       "      <td>NaN</td>\n",
       "      <td>TAMIL</td>\n",
       "      <td>NaN</td>\n",
       "      <td>LUTGCCHE06</td>\n",
       "      <td>Lucas tvs ltd</td>\n",
       "      <td>SRTEXKOR96</td>\n",
       "      <td>SR TRANSPORTS</td>\n",
       "      <td>WISHBONE / V ROD/HDT</td>\n",
       "    </tr>\n",
       "  </tbody>\n",
       "</table>\n",
       "<p>5 rows × 32 columns</p>\n",
       "</div>"
      ],
      "text/plain": [
       "     GpsProvider           BookingID Market/Regular           BookingID_Date  \\\n",
       "0  CONSENT TRACK  MVCV0000927/082021          Market 2020-08-17 14:59:01.000   \n",
       "1        VAMOSYS  VCV00014271/082021         Regular 2020-08-27 16:22:22.827   \n",
       "2  CONSENT TRACK  VCV00014382/082021         Regular 2020-08-27 17:59:24.987   \n",
       "3        VAMOSYS  VCV00014743/082021         Regular 2020-08-28 00:48:24.503   \n",
       "4        VAMOSYS  VCV00014744/082021         Regular 2020-08-28 01:23:19.243   \n",
       "\n",
       "   vehicle_no                                    Origin_Location  \\\n",
       "0    KA590408               TVSLSL-PUZHAL-HUB,CHENNAI,TAMIL NADU   \n",
       "1  TN30BC5917  DAIMLER INDIA COMMERCIAL VEHICLES,KANCHIPURAM,...   \n",
       "2  TN22AR2748              LUCAS TVS LTD-PONDY,PONDY,PONDICHERRY   \n",
       "3  TN28AQ0781  DAIMLER INDIA COMMERCIAL VEHICLES,KANCHIPURAM,...   \n",
       "4   TN68F1722              LUCAS TVS LTD-PONDY,PONDY,PONDICHERRY   \n",
       "\n",
       "                                Destination_Location      Org_lat_lon  \\\n",
       "0       ASHOK LEYLAND PLANT 1- HOSUR,HOSUR,KARNATAKA  13.1550,80.1960   \n",
       "1  DAIMLER INDIA COMMERCIAL VEHICLES,KANCHIPURAM,...  12.8390,79.9540   \n",
       "2              LUCAS TVS LTD-PONDY,PONDY,PONDICHERRY  11.8710,79.7390   \n",
       "3  DAIMLER INDIA COMMERCIAL VEHICLES,KANCHIPURAM,...  12.8390,79.9540   \n",
       "4              LUCAS TVS LTD-PONDY,PONDY,PONDICHERRY  11.8720,79.6320   \n",
       "\n",
       "       Des_lat_lon      Data_Ping_time  ... TRANSPORTATION_DISTANCE_IN_KM  \\\n",
       "0  12.7400,77.8200 2020-08-24 00:05:09  ...                         320.0   \n",
       "1  12.8390,79.9540 2020-08-28 12:40:28  ...                         103.0   \n",
       "2  11.8710,79.7390 2020-08-28 09:05:09  ...                         300.0   \n",
       "3  12.8390,79.9540 2020-08-28 12:40:31  ...                          61.0   \n",
       "4  11.8720,79.6320 2020-08-28 12:40:29  ...                         240.0   \n",
       "\n",
       "  vehicleType Minimum_kms_to_be_covered_in_a_day Driver_Name  Driver_MobileNo  \\\n",
       "0         NaN                                NaN         NaN              NaN   \n",
       "1         NaN                                NaN      RAMESH              NaN   \n",
       "2         NaN                                NaN        GIRI              NaN   \n",
       "3         NaN                                NaN        RAVI              NaN   \n",
       "4         NaN                                NaN       TAMIL              NaN   \n",
       "\n",
       "   customerID                          customerNameCode  supplierID  \\\n",
       "0  ALLEXCHE45                     Ashok leyland limited  VIJEXHOSR7   \n",
       "1  DMREXCHEUX  Daimler india commercial vehicles pvt lt  VJLEXSHE09   \n",
       "2  LUTGCCHE06                             Lucas tvs ltd  GSTEXLAK1Q   \n",
       "3  DMREXCHEUX  Daimler india commercial vehicles pvt lt  ARVEXNAM09   \n",
       "4  LUTGCCHE06                             Lucas tvs ltd  SRTEXKOR96   \n",
       "\n",
       "    supplierNameCode          Material Shipped  \n",
       "0    VIJAY TRANSPORT     BRACKET / GRAB HANDLE  \n",
       "1       VJ LOGISTICS     ZB MODEL PLATE / 3143  \n",
       "2     G.S. TRANSPORT          LETTERING / FUSO  \n",
       "3  ARVINTH TRANSPORT  LU STRUT RA / RADIUS ROD  \n",
       "4      SR TRANSPORTS      WISHBONE / V ROD/HDT  \n",
       "\n",
       "[5 rows x 32 columns]"
      ]
     },
     "execution_count": 3,
     "metadata": {},
     "output_type": "execute_result"
    }
   ],
   "source": [
    "data.head(5)"
   ]
  },
  {
   "cell_type": "markdown",
   "metadata": {},
   "source": [
    "##### DataFrame - tail() function\n",
    "\n",
    "The tail() function is used to get the last n rows. This function returns last n rows from the object based on position. It is useful for quickly verifying data, for example, after sorting or appending rows. Syntax: DataFrame.tail(self, n=5) Parameters:"
   ]
  },
  {
   "cell_type": "code",
   "execution_count": 4,
   "metadata": {
    "scrolled": true
   },
   "outputs": [
    {
     "data": {
      "text/html": [
       "<div>\n",
       "<style scoped>\n",
       "    .dataframe tbody tr th:only-of-type {\n",
       "        vertical-align: middle;\n",
       "    }\n",
       "\n",
       "    .dataframe tbody tr th {\n",
       "        vertical-align: top;\n",
       "    }\n",
       "\n",
       "    .dataframe thead th {\n",
       "        text-align: right;\n",
       "    }\n",
       "</style>\n",
       "<table border=\"1\" class=\"dataframe\">\n",
       "  <thead>\n",
       "    <tr style=\"text-align: right;\">\n",
       "      <th></th>\n",
       "      <th>GpsProvider</th>\n",
       "      <th>BookingID</th>\n",
       "      <th>Market/Regular</th>\n",
       "      <th>BookingID_Date</th>\n",
       "      <th>vehicle_no</th>\n",
       "      <th>Origin_Location</th>\n",
       "      <th>Destination_Location</th>\n",
       "      <th>Org_lat_lon</th>\n",
       "      <th>Des_lat_lon</th>\n",
       "      <th>Data_Ping_time</th>\n",
       "      <th>...</th>\n",
       "      <th>TRANSPORTATION_DISTANCE_IN_KM</th>\n",
       "      <th>vehicleType</th>\n",
       "      <th>Minimum_kms_to_be_covered_in_a_day</th>\n",
       "      <th>Driver_Name</th>\n",
       "      <th>Driver_MobileNo</th>\n",
       "      <th>customerID</th>\n",
       "      <th>customerNameCode</th>\n",
       "      <th>supplierID</th>\n",
       "      <th>supplierNameCode</th>\n",
       "      <th>Material Shipped</th>\n",
       "    </tr>\n",
       "  </thead>\n",
       "  <tbody>\n",
       "    <tr>\n",
       "      <th>6875</th>\n",
       "      <td>JTECH</td>\n",
       "      <td>WDSBKTP42751</td>\n",
       "      <td>Regular</td>\n",
       "      <td>2019-03-27 17:25:33</td>\n",
       "      <td>KA219502</td>\n",
       "      <td>Ramamurthy Nagar, Bangalore, Karnataka</td>\n",
       "      <td>Sahakaranagar P.O, Bangalore, Karnataka</td>\n",
       "      <td>13.007503209603689,77.665098855934886</td>\n",
       "      <td>13.068901840235711,77.590655738806618</td>\n",
       "      <td>2019-06-14 15:20:12</td>\n",
       "      <td>...</td>\n",
       "      <td>12.0</td>\n",
       "      <td>25 FT Open Body 21MT</td>\n",
       "      <td>NaN</td>\n",
       "      <td>NaN</td>\n",
       "      <td>NaN</td>\n",
       "      <td>LTLEXMUM40</td>\n",
       "      <td>Larsen &amp; toubro limited</td>\n",
       "      <td>55556</td>\n",
       "      <td>A S TRANSPORTS</td>\n",
       "      <td>TOOL KIT SET</td>\n",
       "    </tr>\n",
       "    <tr>\n",
       "      <th>6876</th>\n",
       "      <td>JTECH</td>\n",
       "      <td>WDSBKTP43203</td>\n",
       "      <td>Regular</td>\n",
       "      <td>2019-03-31 15:02:34</td>\n",
       "      <td>KA01AE9163</td>\n",
       "      <td>Ramamurthy Nagar, Bangalore, Karnataka</td>\n",
       "      <td>Bangalore International Airport, Bangalore, Ka...</td>\n",
       "      <td>13.007503209603689,77.665098855934886</td>\n",
       "      <td>13.196312912801169,77.708156925688726</td>\n",
       "      <td>2019-06-14 15:20:12</td>\n",
       "      <td>...</td>\n",
       "      <td>31.0</td>\n",
       "      <td>40 FT 3XL Trailer 35MT</td>\n",
       "      <td>NaN</td>\n",
       "      <td>NaN</td>\n",
       "      <td>NaN</td>\n",
       "      <td>LTLEXMUM40</td>\n",
       "      <td>Larsen &amp; toubro limited</td>\n",
       "      <td>55556</td>\n",
       "      <td>A S TRANSPORTS</td>\n",
       "      <td>CONTROL LEVER ASSY</td>\n",
       "    </tr>\n",
       "    <tr>\n",
       "      <th>6877</th>\n",
       "      <td>JTECH</td>\n",
       "      <td>WDSBKTP43021</td>\n",
       "      <td>Regular</td>\n",
       "      <td>2019-03-29 18:56:26</td>\n",
       "      <td>KA01AE9163</td>\n",
       "      <td>Mugabala, Bangalore Rural, Karnataka</td>\n",
       "      <td>Anekal, Bangalore, Karnataka</td>\n",
       "      <td>16.560192249175344,80.792293091599547</td>\n",
       "      <td>12.722686,77.676518</td>\n",
       "      <td>2019-06-14 15:20:12</td>\n",
       "      <td>...</td>\n",
       "      <td>49.0</td>\n",
       "      <td>40 FT 3XL Trailer 35MT</td>\n",
       "      <td>NaN</td>\n",
       "      <td>NaN</td>\n",
       "      <td>NaN</td>\n",
       "      <td>LTLEXMUM40</td>\n",
       "      <td>Larsen &amp; toubro limited</td>\n",
       "      <td>55556</td>\n",
       "      <td>A S TRANSPORTS</td>\n",
       "      <td>SPARE PARTS AUTOMOBILE</td>\n",
       "    </tr>\n",
       "    <tr>\n",
       "      <th>6878</th>\n",
       "      <td>JTECH</td>\n",
       "      <td>WDSBKTP42685</td>\n",
       "      <td>Regular</td>\n",
       "      <td>2019-03-27 08:29:45</td>\n",
       "      <td>KA21A3643</td>\n",
       "      <td>Mugabala, Bangalore Rural, Karnataka</td>\n",
       "      <td>Anekal, Bangalore, Karnataka</td>\n",
       "      <td>16.560192249175344,80.792293091599547</td>\n",
       "      <td>12.896896847817695,77.712223056874862</td>\n",
       "      <td>2019-06-14 15:20:12</td>\n",
       "      <td>...</td>\n",
       "      <td>49.0</td>\n",
       "      <td>40 FT 3XL Trailer 35MT</td>\n",
       "      <td>NaN</td>\n",
       "      <td>NaN</td>\n",
       "      <td>NaN</td>\n",
       "      <td>LTLEXMUM40</td>\n",
       "      <td>Larsen &amp; toubro limited</td>\n",
       "      <td>55556</td>\n",
       "      <td>A S TRANSPORTS</td>\n",
       "      <td>SPARE PARTS AUTOMOBILE</td>\n",
       "    </tr>\n",
       "    <tr>\n",
       "      <th>6879</th>\n",
       "      <td>JTECH</td>\n",
       "      <td>WDSBKTP42858</td>\n",
       "      <td>Regular</td>\n",
       "      <td>2019-03-28 17:55:17</td>\n",
       "      <td>KA51D1317</td>\n",
       "      <td>Mugabala, Bangalore Rural, Karnataka</td>\n",
       "      <td>Anekal, Bangalore, Karnataka</td>\n",
       "      <td>16.560192249175344,80.792293091599547</td>\n",
       "      <td>13.199089183304451,77.708554234959038</td>\n",
       "      <td>2019-06-14 15:20:12</td>\n",
       "      <td>...</td>\n",
       "      <td>49.0</td>\n",
       "      <td>40 FT 3XL Trailer 35MT</td>\n",
       "      <td>NaN</td>\n",
       "      <td>NaN</td>\n",
       "      <td>NaN</td>\n",
       "      <td>LTLEXMUM40</td>\n",
       "      <td>Larsen &amp; toubro limited</td>\n",
       "      <td>55556</td>\n",
       "      <td>A S TRANSPORTS</td>\n",
       "      <td>SPARE PARTS AUTOMOBILE</td>\n",
       "    </tr>\n",
       "  </tbody>\n",
       "</table>\n",
       "<p>5 rows × 32 columns</p>\n",
       "</div>"
      ],
      "text/plain": [
       "     GpsProvider     BookingID Market/Regular       BookingID_Date  \\\n",
       "6875       JTECH  WDSBKTP42751         Regular 2019-03-27 17:25:33   \n",
       "6876       JTECH  WDSBKTP43203         Regular 2019-03-31 15:02:34   \n",
       "6877       JTECH  WDSBKTP43021         Regular 2019-03-29 18:56:26   \n",
       "6878       JTECH  WDSBKTP42685         Regular 2019-03-27 08:29:45   \n",
       "6879       JTECH  WDSBKTP42858         Regular 2019-03-28 17:55:17   \n",
       "\n",
       "      vehicle_no                         Origin_Location  \\\n",
       "6875    KA219502  Ramamurthy Nagar, Bangalore, Karnataka   \n",
       "6876  KA01AE9163  Ramamurthy Nagar, Bangalore, Karnataka   \n",
       "6877  KA01AE9163    Mugabala, Bangalore Rural, Karnataka   \n",
       "6878   KA21A3643    Mugabala, Bangalore Rural, Karnataka   \n",
       "6879   KA51D1317    Mugabala, Bangalore Rural, Karnataka   \n",
       "\n",
       "                                   Destination_Location  \\\n",
       "6875            Sahakaranagar P.O, Bangalore, Karnataka   \n",
       "6876  Bangalore International Airport, Bangalore, Ka...   \n",
       "6877                       Anekal, Bangalore, Karnataka   \n",
       "6878                       Anekal, Bangalore, Karnataka   \n",
       "6879                       Anekal, Bangalore, Karnataka   \n",
       "\n",
       "                                Org_lat_lon  \\\n",
       "6875  13.007503209603689,77.665098855934886   \n",
       "6876  13.007503209603689,77.665098855934886   \n",
       "6877  16.560192249175344,80.792293091599547   \n",
       "6878  16.560192249175344,80.792293091599547   \n",
       "6879  16.560192249175344,80.792293091599547   \n",
       "\n",
       "                                Des_lat_lon      Data_Ping_time  ...  \\\n",
       "6875  13.068901840235711,77.590655738806618 2019-06-14 15:20:12  ...   \n",
       "6876  13.196312912801169,77.708156925688726 2019-06-14 15:20:12  ...   \n",
       "6877                    12.722686,77.676518 2019-06-14 15:20:12  ...   \n",
       "6878  12.896896847817695,77.712223056874862 2019-06-14 15:20:12  ...   \n",
       "6879  13.199089183304451,77.708554234959038 2019-06-14 15:20:12  ...   \n",
       "\n",
       "     TRANSPORTATION_DISTANCE_IN_KM             vehicleType  \\\n",
       "6875                          12.0    25 FT Open Body 21MT   \n",
       "6876                          31.0  40 FT 3XL Trailer 35MT   \n",
       "6877                          49.0  40 FT 3XL Trailer 35MT   \n",
       "6878                          49.0  40 FT 3XL Trailer 35MT   \n",
       "6879                          49.0  40 FT 3XL Trailer 35MT   \n",
       "\n",
       "     Minimum_kms_to_be_covered_in_a_day Driver_Name  Driver_MobileNo  \\\n",
       "6875                                NaN         NaN              NaN   \n",
       "6876                                NaN         NaN              NaN   \n",
       "6877                                NaN         NaN              NaN   \n",
       "6878                                NaN         NaN              NaN   \n",
       "6879                                NaN         NaN              NaN   \n",
       "\n",
       "      customerID         customerNameCode supplierID supplierNameCode  \\\n",
       "6875  LTLEXMUM40  Larsen & toubro limited      55556   A S TRANSPORTS   \n",
       "6876  LTLEXMUM40  Larsen & toubro limited      55556   A S TRANSPORTS   \n",
       "6877  LTLEXMUM40  Larsen & toubro limited      55556   A S TRANSPORTS   \n",
       "6878  LTLEXMUM40  Larsen & toubro limited      55556   A S TRANSPORTS   \n",
       "6879  LTLEXMUM40  Larsen & toubro limited      55556   A S TRANSPORTS   \n",
       "\n",
       "            Material Shipped  \n",
       "6875            TOOL KIT SET  \n",
       "6876      CONTROL LEVER ASSY  \n",
       "6877  SPARE PARTS AUTOMOBILE  \n",
       "6878  SPARE PARTS AUTOMOBILE  \n",
       "6879  SPARE PARTS AUTOMOBILE  \n",
       "\n",
       "[5 rows x 32 columns]"
      ]
     },
     "execution_count": 4,
     "metadata": {},
     "output_type": "execute_result"
    }
   ],
   "source": [
    "data.tail(5)"
   ]
  },
  {
   "cell_type": "markdown",
   "metadata": {},
   "source": [
    "##### iloc ()\n",
    "Python iloc () function enables us to select a particular cell of the dataset, that is, it helps us select a value that belongs to a particular row or column from a set of values of a data frame or dataset. With iloc () function, we can retrieve a particular value belonging to a row and column using the index values assigned to it. Python | Extracting rows using Pandas .iloc[] Python is a great language for doing data analysis, primarily because of the fantastic ecosystem of data-centric Python packages. Pandas is one of those packages and makes importing and analyzing data much easier. Pandas provide a unique method to retrieve rows from a Data frame."
   ]
  },
  {
   "cell_type": "markdown",
   "metadata": {},
   "source": [
    "You can use .iloc on a Series similar to using [] on a list.\n",
    "You can use .loc on a Series similar to using [] on a dictionary."
   ]
  },
  {
   "cell_type": "code",
   "execution_count": 5,
   "metadata": {},
   "outputs": [
    {
     "data": {
      "text/plain": [
       "(6880, 32)"
      ]
     },
     "execution_count": 5,
     "metadata": {},
     "output_type": "execute_result"
    }
   ],
   "source": [
    "data=data.iloc[:6880, :]\n",
    "data.shape"
   ]
  },
  {
   "cell_type": "markdown",
   "metadata": {},
   "source": [
    "##### set_option(param,value)\n",
    "\n",
    "set_option takes two arguments and sets the value to the parameter as shown below −\n",
    "\n",
    "display.max_rows Using set_option(), we can change the default number of rows to be displayed.\n",
    "\n",
    "Pandas provide API to customize some aspects of its behavior, display is being mostly used.\n",
    "\n",
    "The API is composed of five relevant functions. They are −\n",
    "\n",
    "get_option() set_option() reset_option() describe_option() option_context() Let us now understand how the functions operate."
   ]
  },
  {
   "cell_type": "markdown",
   "metadata": {},
   "source": [
    "##### How to widen output display to see more columns in Pandas dataframe?\n",
    "\n",
    "In Python, if there are many more number of columns in the dataframe, then not all the columns will be shown in the output display. So, let’s see how to widen output display to see more columns.\n",
    "\n",
    "Method: Using pandas.set_option() function.\n",
    "\n",
    "This function is used to set the value of a specified option."
   ]
  },
  {
   "cell_type": "code",
   "execution_count": 6,
   "metadata": {
    "scrolled": true
   },
   "outputs": [
    {
     "data": {
      "text/html": [
       "<div>\n",
       "<style scoped>\n",
       "    .dataframe tbody tr th:only-of-type {\n",
       "        vertical-align: middle;\n",
       "    }\n",
       "\n",
       "    .dataframe tbody tr th {\n",
       "        vertical-align: top;\n",
       "    }\n",
       "\n",
       "    .dataframe thead th {\n",
       "        text-align: right;\n",
       "    }\n",
       "</style>\n",
       "<table border=\"1\" class=\"dataframe\">\n",
       "  <thead>\n",
       "    <tr style=\"text-align: right;\">\n",
       "      <th></th>\n",
       "      <th>GpsProvider</th>\n",
       "      <th>BookingID</th>\n",
       "      <th>Market/Regular</th>\n",
       "      <th>BookingID_Date</th>\n",
       "      <th>vehicle_no</th>\n",
       "      <th>Origin_Location</th>\n",
       "      <th>Destination_Location</th>\n",
       "      <th>Org_lat_lon</th>\n",
       "      <th>Des_lat_lon</th>\n",
       "      <th>Data_Ping_time</th>\n",
       "      <th>Planned_ETA</th>\n",
       "      <th>Current_Location</th>\n",
       "      <th>DestinationLocation</th>\n",
       "      <th>actual_eta</th>\n",
       "      <th>Curr_lat</th>\n",
       "      <th>Curr_lon</th>\n",
       "      <th>ontime</th>\n",
       "      <th>delay</th>\n",
       "      <th>OriginLocation_Code</th>\n",
       "      <th>DestinationLocation_Code</th>\n",
       "      <th>trip_start_date</th>\n",
       "      <th>trip_end_date</th>\n",
       "      <th>TRANSPORTATION_DISTANCE_IN_KM</th>\n",
       "      <th>vehicleType</th>\n",
       "      <th>Minimum_kms_to_be_covered_in_a_day</th>\n",
       "      <th>Driver_Name</th>\n",
       "      <th>Driver_MobileNo</th>\n",
       "      <th>customerID</th>\n",
       "      <th>customerNameCode</th>\n",
       "      <th>supplierID</th>\n",
       "      <th>supplierNameCode</th>\n",
       "      <th>Material Shipped</th>\n",
       "    </tr>\n",
       "  </thead>\n",
       "  <tbody>\n",
       "    <tr>\n",
       "      <th>0</th>\n",
       "      <td>CONSENT TRACK</td>\n",
       "      <td>MVCV0000927/082021</td>\n",
       "      <td>Market</td>\n",
       "      <td>2020-08-17 14:59:01.000</td>\n",
       "      <td>KA590408</td>\n",
       "      <td>TVSLSL-PUZHAL-HUB,CHENNAI,TAMIL NADU</td>\n",
       "      <td>ASHOK LEYLAND PLANT 1- HOSUR,HOSUR,KARNATAKA</td>\n",
       "      <td>13.1550,80.1960</td>\n",
       "      <td>12.7400,77.8200</td>\n",
       "      <td>2020-08-24 00:05:09</td>\n",
       "      <td>2020-08-21 18:59:01.000</td>\n",
       "      <td>Vaniyambadi Rd, Valayambattu, Tamil Nadu 63575...</td>\n",
       "      <td>ASHOK LEYLAND PLANT 1- HOSUR,HOSUR,KARNATAKA</td>\n",
       "      <td>2020-08-28 14:38:04.447</td>\n",
       "      <td>12.663500</td>\n",
       "      <td>78.649870</td>\n",
       "      <td>NaN</td>\n",
       "      <td>R</td>\n",
       "      <td>CHEPUZTVSHUA1</td>\n",
       "      <td>HOSHOSALLCCA2</td>\n",
       "      <td>2020-08-17 14:59:01</td>\n",
       "      <td>NaT</td>\n",
       "      <td>320.0</td>\n",
       "      <td>NaN</td>\n",
       "      <td>NaN</td>\n",
       "      <td>NaN</td>\n",
       "      <td>NaN</td>\n",
       "      <td>ALLEXCHE45</td>\n",
       "      <td>Ashok leyland limited</td>\n",
       "      <td>VIJEXHOSR7</td>\n",
       "      <td>VIJAY TRANSPORT</td>\n",
       "      <td>BRACKET / GRAB HANDLE</td>\n",
       "    </tr>\n",
       "    <tr>\n",
       "      <th>1</th>\n",
       "      <td>VAMOSYS</td>\n",
       "      <td>VCV00014271/082021</td>\n",
       "      <td>Regular</td>\n",
       "      <td>2020-08-27 16:22:22.827</td>\n",
       "      <td>TN30BC5917</td>\n",
       "      <td>DAIMLER INDIA COMMERCIAL VEHICLES,KANCHIPURAM,...</td>\n",
       "      <td>DAIMLER INDIA COMMERCIAL VEHICLES,KANCHIPURAM,...</td>\n",
       "      <td>12.8390,79.9540</td>\n",
       "      <td>12.8390,79.9540</td>\n",
       "      <td>2020-08-28 12:40:28</td>\n",
       "      <td>2020-08-31 20:22:22.827</td>\n",
       "      <td>Unnamed Road, Oragadam Industrial Corridor, Va...</td>\n",
       "      <td>DAIMLER INDIA COMMERCIAL VEHICLES,KANCHIPURAM,...</td>\n",
       "      <td>2020-08-28 12:46:17.007</td>\n",
       "      <td>12.836757</td>\n",
       "      <td>79.954428</td>\n",
       "      <td>G</td>\n",
       "      <td>NaN</td>\n",
       "      <td>CHEORADMRCCB1</td>\n",
       "      <td>CHEMATDMROPA7</td>\n",
       "      <td>2020-08-27 16:21:52</td>\n",
       "      <td>NaT</td>\n",
       "      <td>103.0</td>\n",
       "      <td>NaN</td>\n",
       "      <td>NaN</td>\n",
       "      <td>RAMESH</td>\n",
       "      <td>NaN</td>\n",
       "      <td>DMREXCHEUX</td>\n",
       "      <td>Daimler india commercial vehicles pvt lt</td>\n",
       "      <td>VJLEXSHE09</td>\n",
       "      <td>VJ LOGISTICS</td>\n",
       "      <td>ZB MODEL PLATE / 3143</td>\n",
       "    </tr>\n",
       "    <tr>\n",
       "      <th>2</th>\n",
       "      <td>CONSENT TRACK</td>\n",
       "      <td>VCV00014382/082021</td>\n",
       "      <td>Regular</td>\n",
       "      <td>2020-08-27 17:59:24.987</td>\n",
       "      <td>TN22AR2748</td>\n",
       "      <td>LUCAS TVS LTD-PONDY,PONDY,PONDICHERRY</td>\n",
       "      <td>LUCAS TVS LTD-PONDY,PONDY,PONDICHERRY</td>\n",
       "      <td>11.8710,79.7390</td>\n",
       "      <td>11.8710,79.7390</td>\n",
       "      <td>2020-08-28 09:05:09</td>\n",
       "      <td>2020-08-31 21:59:24.987</td>\n",
       "      <td>570, National Hwy 48, Shenoy Nagar, Chennai, T...</td>\n",
       "      <td>LUCAS TVS LTD-PONDY,PONDY,PONDICHERRY</td>\n",
       "      <td>2020-08-28 16:03:30.793</td>\n",
       "      <td>13.073956</td>\n",
       "      <td>80.225780</td>\n",
       "      <td>G</td>\n",
       "      <td>NaN</td>\n",
       "      <td>CHEPONLUTCCA4</td>\n",
       "      <td>CHEPONLUTCCA4</td>\n",
       "      <td>2020-08-27 17:57:04</td>\n",
       "      <td>NaT</td>\n",
       "      <td>300.0</td>\n",
       "      <td>NaN</td>\n",
       "      <td>NaN</td>\n",
       "      <td>GIRI</td>\n",
       "      <td>NaN</td>\n",
       "      <td>LUTGCCHE06</td>\n",
       "      <td>Lucas tvs ltd</td>\n",
       "      <td>GSTEXLAK1Q</td>\n",
       "      <td>G.S. TRANSPORT</td>\n",
       "      <td>LETTERING / FUSO</td>\n",
       "    </tr>\n",
       "    <tr>\n",
       "      <th>3</th>\n",
       "      <td>VAMOSYS</td>\n",
       "      <td>VCV00014743/082021</td>\n",
       "      <td>Regular</td>\n",
       "      <td>2020-08-28 00:48:24.503</td>\n",
       "      <td>TN28AQ0781</td>\n",
       "      <td>DAIMLER INDIA COMMERCIAL VEHICLES,KANCHIPURAM,...</td>\n",
       "      <td>DAIMLER INDIA COMMERCIAL VEHICLES,KANCHIPURAM,...</td>\n",
       "      <td>12.8390,79.9540</td>\n",
       "      <td>12.8390,79.9540</td>\n",
       "      <td>2020-08-28 12:40:31</td>\n",
       "      <td>2020-09-01 04:48:24.503</td>\n",
       "      <td>Singaperumal Koil - Sriperumbudur Rd, Oragadam...</td>\n",
       "      <td>DAIMLER INDIA COMMERCIAL VEHICLES,KANCHIPURAM,...</td>\n",
       "      <td>2020-08-28 12:50:27.997</td>\n",
       "      <td>12.836686</td>\n",
       "      <td>79.950560</td>\n",
       "      <td>G</td>\n",
       "      <td>NaN</td>\n",
       "      <td>CHEORADMRCCB1</td>\n",
       "      <td>CHEMATDMROPA7</td>\n",
       "      <td>2020-08-28 00:47:45</td>\n",
       "      <td>NaT</td>\n",
       "      <td>61.0</td>\n",
       "      <td>NaN</td>\n",
       "      <td>NaN</td>\n",
       "      <td>RAVI</td>\n",
       "      <td>NaN</td>\n",
       "      <td>DMREXCHEUX</td>\n",
       "      <td>Daimler india commercial vehicles pvt lt</td>\n",
       "      <td>ARVEXNAM09</td>\n",
       "      <td>ARVINTH TRANSPORT</td>\n",
       "      <td>LU STRUT RA / RADIUS ROD</td>\n",
       "    </tr>\n",
       "    <tr>\n",
       "      <th>4</th>\n",
       "      <td>VAMOSYS</td>\n",
       "      <td>VCV00014744/082021</td>\n",
       "      <td>Regular</td>\n",
       "      <td>2020-08-28 01:23:19.243</td>\n",
       "      <td>TN68F1722</td>\n",
       "      <td>LUCAS TVS LTD-PONDY,PONDY,PONDICHERRY</td>\n",
       "      <td>LUCAS TVS LTD-PONDY,PONDY,PONDICHERRY</td>\n",
       "      <td>11.8720,79.6320</td>\n",
       "      <td>11.8720,79.6320</td>\n",
       "      <td>2020-08-28 12:40:29</td>\n",
       "      <td>2020-09-01 05:23:19.243</td>\n",
       "      <td>Melmaruvathur, Tamil Nadu 603319, India</td>\n",
       "      <td>LUCAS TVS LTD-PONDY,PONDY,PONDICHERRY</td>\n",
       "      <td>2020-08-28 14:22:50.127</td>\n",
       "      <td>12.429501</td>\n",
       "      <td>79.831556</td>\n",
       "      <td>G</td>\n",
       "      <td>NaN</td>\n",
       "      <td>CHENETLUTCCA1</td>\n",
       "      <td>CHENETLUTCCA1</td>\n",
       "      <td>2020-08-28 01:13:48</td>\n",
       "      <td>NaT</td>\n",
       "      <td>240.0</td>\n",
       "      <td>NaN</td>\n",
       "      <td>NaN</td>\n",
       "      <td>TAMIL</td>\n",
       "      <td>NaN</td>\n",
       "      <td>LUTGCCHE06</td>\n",
       "      <td>Lucas tvs ltd</td>\n",
       "      <td>SRTEXKOR96</td>\n",
       "      <td>SR TRANSPORTS</td>\n",
       "      <td>WISHBONE / V ROD/HDT</td>\n",
       "    </tr>\n",
       "  </tbody>\n",
       "</table>\n",
       "</div>"
      ],
      "text/plain": [
       "     GpsProvider           BookingID Market/Regular           BookingID_Date  \\\n",
       "0  CONSENT TRACK  MVCV0000927/082021          Market 2020-08-17 14:59:01.000   \n",
       "1        VAMOSYS  VCV00014271/082021         Regular 2020-08-27 16:22:22.827   \n",
       "2  CONSENT TRACK  VCV00014382/082021         Regular 2020-08-27 17:59:24.987   \n",
       "3        VAMOSYS  VCV00014743/082021         Regular 2020-08-28 00:48:24.503   \n",
       "4        VAMOSYS  VCV00014744/082021         Regular 2020-08-28 01:23:19.243   \n",
       "\n",
       "   vehicle_no                                    Origin_Location  \\\n",
       "0    KA590408               TVSLSL-PUZHAL-HUB,CHENNAI,TAMIL NADU   \n",
       "1  TN30BC5917  DAIMLER INDIA COMMERCIAL VEHICLES,KANCHIPURAM,...   \n",
       "2  TN22AR2748              LUCAS TVS LTD-PONDY,PONDY,PONDICHERRY   \n",
       "3  TN28AQ0781  DAIMLER INDIA COMMERCIAL VEHICLES,KANCHIPURAM,...   \n",
       "4   TN68F1722              LUCAS TVS LTD-PONDY,PONDY,PONDICHERRY   \n",
       "\n",
       "                                Destination_Location      Org_lat_lon  \\\n",
       "0       ASHOK LEYLAND PLANT 1- HOSUR,HOSUR,KARNATAKA  13.1550,80.1960   \n",
       "1  DAIMLER INDIA COMMERCIAL VEHICLES,KANCHIPURAM,...  12.8390,79.9540   \n",
       "2              LUCAS TVS LTD-PONDY,PONDY,PONDICHERRY  11.8710,79.7390   \n",
       "3  DAIMLER INDIA COMMERCIAL VEHICLES,KANCHIPURAM,...  12.8390,79.9540   \n",
       "4              LUCAS TVS LTD-PONDY,PONDY,PONDICHERRY  11.8720,79.6320   \n",
       "\n",
       "       Des_lat_lon      Data_Ping_time             Planned_ETA  \\\n",
       "0  12.7400,77.8200 2020-08-24 00:05:09 2020-08-21 18:59:01.000   \n",
       "1  12.8390,79.9540 2020-08-28 12:40:28 2020-08-31 20:22:22.827   \n",
       "2  11.8710,79.7390 2020-08-28 09:05:09 2020-08-31 21:59:24.987   \n",
       "3  12.8390,79.9540 2020-08-28 12:40:31 2020-09-01 04:48:24.503   \n",
       "4  11.8720,79.6320 2020-08-28 12:40:29 2020-09-01 05:23:19.243   \n",
       "\n",
       "                                    Current_Location  \\\n",
       "0  Vaniyambadi Rd, Valayambattu, Tamil Nadu 63575...   \n",
       "1  Unnamed Road, Oragadam Industrial Corridor, Va...   \n",
       "2  570, National Hwy 48, Shenoy Nagar, Chennai, T...   \n",
       "3  Singaperumal Koil - Sriperumbudur Rd, Oragadam...   \n",
       "4            Melmaruvathur, Tamil Nadu 603319, India   \n",
       "\n",
       "                                 DestinationLocation              actual_eta  \\\n",
       "0       ASHOK LEYLAND PLANT 1- HOSUR,HOSUR,KARNATAKA 2020-08-28 14:38:04.447   \n",
       "1  DAIMLER INDIA COMMERCIAL VEHICLES,KANCHIPURAM,... 2020-08-28 12:46:17.007   \n",
       "2              LUCAS TVS LTD-PONDY,PONDY,PONDICHERRY 2020-08-28 16:03:30.793   \n",
       "3  DAIMLER INDIA COMMERCIAL VEHICLES,KANCHIPURAM,... 2020-08-28 12:50:27.997   \n",
       "4              LUCAS TVS LTD-PONDY,PONDY,PONDICHERRY 2020-08-28 14:22:50.127   \n",
       "\n",
       "    Curr_lat   Curr_lon ontime delay OriginLocation_Code  \\\n",
       "0  12.663500  78.649870    NaN     R       CHEPUZTVSHUA1   \n",
       "1  12.836757  79.954428      G   NaN       CHEORADMRCCB1   \n",
       "2  13.073956  80.225780      G   NaN       CHEPONLUTCCA4   \n",
       "3  12.836686  79.950560      G   NaN       CHEORADMRCCB1   \n",
       "4  12.429501  79.831556      G   NaN       CHENETLUTCCA1   \n",
       "\n",
       "  DestinationLocation_Code     trip_start_date trip_end_date  \\\n",
       "0            HOSHOSALLCCA2 2020-08-17 14:59:01           NaT   \n",
       "1            CHEMATDMROPA7 2020-08-27 16:21:52           NaT   \n",
       "2            CHEPONLUTCCA4 2020-08-27 17:57:04           NaT   \n",
       "3            CHEMATDMROPA7 2020-08-28 00:47:45           NaT   \n",
       "4            CHENETLUTCCA1 2020-08-28 01:13:48           NaT   \n",
       "\n",
       "   TRANSPORTATION_DISTANCE_IN_KM vehicleType  \\\n",
       "0                          320.0         NaN   \n",
       "1                          103.0         NaN   \n",
       "2                          300.0         NaN   \n",
       "3                           61.0         NaN   \n",
       "4                          240.0         NaN   \n",
       "\n",
       "   Minimum_kms_to_be_covered_in_a_day Driver_Name  Driver_MobileNo  \\\n",
       "0                                 NaN         NaN              NaN   \n",
       "1                                 NaN      RAMESH              NaN   \n",
       "2                                 NaN        GIRI              NaN   \n",
       "3                                 NaN        RAVI              NaN   \n",
       "4                                 NaN       TAMIL              NaN   \n",
       "\n",
       "   customerID                          customerNameCode  supplierID  \\\n",
       "0  ALLEXCHE45                     Ashok leyland limited  VIJEXHOSR7   \n",
       "1  DMREXCHEUX  Daimler india commercial vehicles pvt lt  VJLEXSHE09   \n",
       "2  LUTGCCHE06                             Lucas tvs ltd  GSTEXLAK1Q   \n",
       "3  DMREXCHEUX  Daimler india commercial vehicles pvt lt  ARVEXNAM09   \n",
       "4  LUTGCCHE06                             Lucas tvs ltd  SRTEXKOR96   \n",
       "\n",
       "    supplierNameCode          Material Shipped  \n",
       "0    VIJAY TRANSPORT     BRACKET / GRAB HANDLE  \n",
       "1       VJ LOGISTICS     ZB MODEL PLATE / 3143  \n",
       "2     G.S. TRANSPORT          LETTERING / FUSO  \n",
       "3  ARVINTH TRANSPORT  LU STRUT RA / RADIUS ROD  \n",
       "4      SR TRANSPORTS      WISHBONE / V ROD/HDT  "
      ]
     },
     "execution_count": 6,
     "metadata": {},
     "output_type": "execute_result"
    }
   ],
   "source": [
    "pd.set_option('max_columns', 50)\n",
    "data.head(5)"
   ]
  },
  {
   "cell_type": "markdown",
   "metadata": {},
   "source": [
    "##### dataframe.info()\n",
    "\n",
    "This will tell us the total number of non null observations present including the total number of entries. Once number of entries isn’t equal to number of non null observations, we can begin to suspect missing values.\n",
    "\n",
    "Python is a great language for doing data analysis, primarily because of the fantastic ecosystem of data-centric python packages. Pandas is one of those packages and makes importing and analyzing data much easier.\n",
    "\n",
    "Pandas dataframe.info() function is used to get a concise summary of the dataframe. It comes really handy when doing exploratory analysis of the data. To get a quick overview of the dataset we use the dataframe.info() function.\n"
   ]
  },
  {
   "cell_type": "code",
   "execution_count": 7,
   "metadata": {},
   "outputs": [
    {
     "name": "stdout",
     "output_type": "stream",
     "text": [
      "<class 'pandas.core.frame.DataFrame'>\n",
      "RangeIndex: 6880 entries, 0 to 6879\n",
      "Data columns (total 32 columns):\n",
      " #   Column                              Non-Null Count  Dtype         \n",
      "---  ------                              --------------  -----         \n",
      " 0   GpsProvider                         5927 non-null   object        \n",
      " 1   BookingID                           6880 non-null   object        \n",
      " 2   Market/Regular                      6880 non-null   object        \n",
      " 3   BookingID_Date                      6880 non-null   datetime64[ns]\n",
      " 4   vehicle_no                          6880 non-null   object        \n",
      " 5   Origin_Location                     6880 non-null   object        \n",
      " 6   Destination_Location                6880 non-null   object        \n",
      " 7   Org_lat_lon                         6880 non-null   object        \n",
      " 8   Des_lat_lon                         6880 non-null   object        \n",
      " 9   Data_Ping_time                      5927 non-null   datetime64[ns]\n",
      " 10  Planned_ETA                         6880 non-null   datetime64[ns]\n",
      " 11  Current_Location                    5916 non-null   object        \n",
      " 12  DestinationLocation                 6880 non-null   object        \n",
      " 13  actual_eta                          6843 non-null   datetime64[ns]\n",
      " 14  Curr_lat                            5927 non-null   float64       \n",
      " 15  Curr_lon                            5927 non-null   float64       \n",
      " 16  ontime                              2548 non-null   object        \n",
      " 17  delay                               4342 non-null   object        \n",
      " 18  OriginLocation_Code                 6877 non-null   object        \n",
      " 19  DestinationLocation_Code            6853 non-null   object        \n",
      " 20  trip_start_date                     6880 non-null   datetime64[ns]\n",
      " 21  trip_end_date                       6686 non-null   datetime64[ns]\n",
      " 22  TRANSPORTATION_DISTANCE_IN_KM       6168 non-null   float64       \n",
      " 23  vehicleType                         6052 non-null   object        \n",
      " 24  Minimum_kms_to_be_covered_in_a_day  2820 non-null   float64       \n",
      " 25  Driver_Name                         3451 non-null   object        \n",
      " 26  Driver_MobileNo                     2691 non-null   float64       \n",
      " 27  customerID                          6880 non-null   object        \n",
      " 28  customerNameCode                    6880 non-null   object        \n",
      " 29  supplierID                          6880 non-null   object        \n",
      " 30  supplierNameCode                    6880 non-null   object        \n",
      " 31  Material Shipped                    6880 non-null   object        \n",
      "dtypes: datetime64[ns](6), float64(5), object(21)\n",
      "memory usage: 1.7+ MB\n"
     ]
    }
   ],
   "source": [
    "data.info()"
   ]
  },
  {
   "cell_type": "code",
   "execution_count": 8,
   "metadata": {},
   "outputs": [],
   "source": [
    "#making a copy of data before preprocessing\n",
    "data_raw=data.copy()"
   ]
  },
  {
   "cell_type": "markdown",
   "metadata": {},
   "source": [
    "##### What is pandas profile report?\n",
    "\n",
    "Generates profile reports from a pandas DataFrame . The pandas df.describe () function is great but a little basic for serious exploratory data analysis. pandas_profiling extends the pandas DataFrame with df.profile_report () for quick data analysis.\n",
    "\n",
    "The pandas_profiling library in Python include a method named as ProfileReport () which generate a basic report on the input DataFrame. A sample of DataFrame. Number of bins in histogram. The default is 10. Whether or not to check correlation. It’s True by default. Threshold to determine if the variable pair is correlated. The default is 0.9.\n",
    "\n",
    "pandas_profiling.ProfileReport(data)"
   ]
  },
  {
   "cell_type": "code",
   "execution_count": 9,
   "metadata": {},
   "outputs": [],
   "source": [
    "#pandas_profiling.ProfileReport(data)"
   ]
  },
  {
   "cell_type": "markdown",
   "metadata": {},
   "source": [
    "## Data Preprocessing and Data Manipulation \n",
    "\n",
    "\n",
    "Real-world data is messy. That’s why libraries like pandas are so valuable. Using pandas you can take the pain out of data manipulation by extracting, filtering, and transforming data in DataFrames, clearing a path for quick and reliable data analysis. If you want to improve your data wrangling skills this is the track for you. You’ll learn how to prepare real-world data for analysis and grow your expertise as you work with multiple DataFrames using pandas. You’ll also gain hands-on experience of how to combine, merge, and create visualizations. At the end of the track, you'll apply your new-found data manipulation skills to analyze the impact of weather and gender on police behavior. Start this track and discover how pandas can save you time manipulating data."
   ]
  },
  {
   "cell_type": "markdown",
   "metadata": {},
   "source": [
    "##### Manipulation in Python\n",
    "\n",
    "\n",
    "Part 2\n",
    "\n",
    "\n",
    "1-1 Working with Rows:\n",
    "\n",
    "    Dropping rows\n",
    "    \n",
    "1-2 Working with Columns:\n",
    "\n",
    "    Dropping columns\n",
    "    \n",
    "    Keeping columns\n",
    "    \n",
    "    Adding new columns to a DataFrame\n",
    "    \n",
    "1-3 User defined functions:\n",
    "\n",
    "    Creating a new column using functions\n",
    "    \n",
    "1-4 Cleaning dataset:\n",
    "\n",
    "    Creating three datasets\n",
    "    \n",
    "    Keeping columns\n",
    "    \n",
    "    Renaming columns\n",
    "    \n",
    "1-5 Joining/Combining DataFrames and Groupby:\n",
    "\n",
    "    Merge on columns\n",
    "    \n",
    "    Grouping — Applying an aggregating function\n",
    "    \n",
    "1-6 Graphs and Statistics\n",
    "\n",
    "\n",
    "Part 2\n",
    "\n",
    "2-1 Working with Rows \n",
    "\n",
    "    Sorting DataFrame rows values\n",
    "    \n",
    "    Select a slice of rows by integer position\n",
    "    \n",
    "2-2 Working with Columns \n",
    "\n",
    "    Find index label for min/max values in column\n",
    "    \n",
    "    Maths on the whole DataFrame\n",
    "    \n",
    "    Common column-wide methods\n",
    "    \n",
    "    Common column-wide methods\n",
    "    \n",
    "    Common element-wise methods\n",
    "    \n",
    "    Apply numpy mathematical functions to columns\n",
    "    \n",
    "2-3 Working with cells\n",
    "\n",
    "    Selecting a cell by row and column labels\n",
    "    \n",
    "    User defined functions\n",
    "    \n",
    "    Creating a new column using functions\n",
    "    \n",
    "    Find index label for min/max values in column\n",
    "    \n",
    "2-4 Working with missing values and strings\n",
    "\n",
    "    Drop all rows with NaN\n",
    "    \n",
    "    Drop all columns with NaN\n",
    "    \n",
    "    Drop all rows where NaN appear more than twice\n",
    "    \n",
    "    Drop all rows where NaN appear in a special column\n",
    "    \n",
    "    Recoding all missing data\n",
    "    \n",
    "    df.fillna(0, inplace=True)\n",
    "    \n",
    "    Recoding missing data in a special column\n",
    "    \n",
    "    s = df['AVERAG'].fillna(0)\n",
    "    \n",
    "    Working with strings\n",
    "    \n",
    "    s = df['col'].str.lower()\n",
    "    \n",
    "    s = df['col'].str.upper()\n",
    "    \n",
    "    s = df['col'].str.len()\n",
    "    \n",
    "    s = df['col'].str.replace('old', 'new')\n",
    "    \n",
    "2-5 Pivot Tables"
   ]
  },
  {
   "cell_type": "code",
   "execution_count": 10,
   "metadata": {
    "scrolled": true
   },
   "outputs": [
    {
     "data": {
      "text/html": [
       "<div>\n",
       "<style scoped>\n",
       "    .dataframe tbody tr th:only-of-type {\n",
       "        vertical-align: middle;\n",
       "    }\n",
       "\n",
       "    .dataframe tbody tr th {\n",
       "        vertical-align: top;\n",
       "    }\n",
       "\n",
       "    .dataframe thead th {\n",
       "        text-align: right;\n",
       "    }\n",
       "</style>\n",
       "<table border=\"1\" class=\"dataframe\">\n",
       "  <thead>\n",
       "    <tr style=\"text-align: right;\">\n",
       "      <th></th>\n",
       "      <th>GpsProvider</th>\n",
       "      <th>BookingID</th>\n",
       "      <th>Market/Regular</th>\n",
       "      <th>BookingID_Date</th>\n",
       "      <th>vehicle_no</th>\n",
       "      <th>Origin_Location</th>\n",
       "      <th>Destination_Location</th>\n",
       "      <th>Org_lat_lon</th>\n",
       "      <th>Des_lat_lon</th>\n",
       "      <th>Data_Ping_time</th>\n",
       "      <th>Planned_ETA</th>\n",
       "      <th>Current_Location</th>\n",
       "      <th>DestinationLocation</th>\n",
       "      <th>actual_eta</th>\n",
       "      <th>Curr_lat</th>\n",
       "      <th>Curr_lon</th>\n",
       "      <th>ontime</th>\n",
       "      <th>delay</th>\n",
       "      <th>OriginLocation_Code</th>\n",
       "      <th>DestinationLocation_Code</th>\n",
       "      <th>trip_start_date</th>\n",
       "      <th>trip_end_date</th>\n",
       "      <th>TRANSPORTATION_DISTANCE_IN_KM</th>\n",
       "      <th>vehicleType</th>\n",
       "      <th>Minimum_kms_to_be_covered_in_a_day</th>\n",
       "      <th>Driver_Name</th>\n",
       "      <th>Driver_MobileNo</th>\n",
       "      <th>customerID</th>\n",
       "      <th>customerNameCode</th>\n",
       "      <th>supplierID</th>\n",
       "      <th>supplierNameCode</th>\n",
       "      <th>Material Shipped</th>\n",
       "    </tr>\n",
       "  </thead>\n",
       "  <tbody>\n",
       "    <tr>\n",
       "      <th>6868</th>\n",
       "      <td>JTECH</td>\n",
       "      <td>WDSBKTP44502</td>\n",
       "      <td>Regular</td>\n",
       "      <td>2019-04-15 15:15:13</td>\n",
       "      <td>KA21A5090</td>\n",
       "      <td>Mugabala, Bangalore Rural, Karnataka</td>\n",
       "      <td>Peenya Small Industries, Bangalore, Karnataka</td>\n",
       "      <td>16.560192249175344,80.792293091599547</td>\n",
       "      <td>13.196312912801169,77.708156925688726</td>\n",
       "      <td>2019-06-14 15:20:12</td>\n",
       "      <td>1899-12-30 04:06:00</td>\n",
       "      <td>Shed No 60, Medahalli Kadugodi Road, Virgonaga...</td>\n",
       "      <td>Peenya Small Industries, Bangalore, Karnataka</td>\n",
       "      <td>1899-12-30 03:21:00</td>\n",
       "      <td>13.025077</td>\n",
       "      <td>77.723114</td>\n",
       "      <td>NaN</td>\n",
       "      <td>R</td>\n",
       "      <td>V0048673</td>\n",
       "      <td>LE005419</td>\n",
       "      <td>1899-12-30 00:00:00</td>\n",
       "      <td>1899-12-30 03:21:00</td>\n",
       "      <td>41.0</td>\n",
       "      <td>40 FT 3XL Trailer 35MT</td>\n",
       "      <td>NaN</td>\n",
       "      <td>NaN</td>\n",
       "      <td>NaN</td>\n",
       "      <td>LTLEXMUM40</td>\n",
       "      <td>Larsen &amp; toubro limited</td>\n",
       "      <td>55556</td>\n",
       "      <td>A S TRANSPORTS</td>\n",
       "      <td>INSRT-VLV ST INTK</td>\n",
       "    </tr>\n",
       "    <tr>\n",
       "      <th>6264</th>\n",
       "      <td>NaN</td>\n",
       "      <td>WDSBKTP49392</td>\n",
       "      <td>Regular</td>\n",
       "      <td>2019-06-10 13:17:44</td>\n",
       "      <td>WB59B9152</td>\n",
       "      <td>Sonai, Kolkata, West Bengal</td>\n",
       "      <td>Kalyani, Nadia, West Bengal</td>\n",
       "      <td>23.525267916088961,87.264424348570884</td>\n",
       "      <td>22.952176370977448,88.4571405591546</td>\n",
       "      <td>NaT</td>\n",
       "      <td>1899-12-30 08:58:00</td>\n",
       "      <td>NaN</td>\n",
       "      <td>Kalyani, Nadia, West Bengal</td>\n",
       "      <td>1899-12-30 08:13:00</td>\n",
       "      <td>NaN</td>\n",
       "      <td>NaN</td>\n",
       "      <td>G</td>\n",
       "      <td>NaN</td>\n",
       "      <td>V0045772</td>\n",
       "      <td>LE005821</td>\n",
       "      <td>1899-12-30 00:00:00</td>\n",
       "      <td>1899-12-30 08:13:00</td>\n",
       "      <td>51.0</td>\n",
       "      <td>40 FT Flat Bed Multi-Axle 27MT - Trailer</td>\n",
       "      <td>NaN</td>\n",
       "      <td>NaN</td>\n",
       "      <td>NaN</td>\n",
       "      <td>LTLEXMUM40</td>\n",
       "      <td>Larsen &amp; toubro limited</td>\n",
       "      <td>55471</td>\n",
       "      <td>SUNITA CARRIERS PRIVATE LIMITED</td>\n",
       "      <td>FXUWB-LID COVER</td>\n",
       "    </tr>\n",
       "    <tr>\n",
       "      <th>5910</th>\n",
       "      <td>NaN</td>\n",
       "      <td>WDSBKTP41957</td>\n",
       "      <td>Regular</td>\n",
       "      <td>2019-03-18 12:19:22</td>\n",
       "      <td>AP26TE1258</td>\n",
       "      <td>Sedarapet, India</td>\n",
       "      <td>Redhills, Chennai, Tamil Nadu, India</td>\n",
       "      <td>12.0001,79.74839949999999</td>\n",
       "      <td>13.1992334,80.196693</td>\n",
       "      <td>NaT</td>\n",
       "      <td>2019-03-19 11:45:22</td>\n",
       "      <td>NaN</td>\n",
       "      <td>Redhills, Chennai, Tamil Nadu, India</td>\n",
       "      <td>2019-03-19 11:00:22</td>\n",
       "      <td>NaN</td>\n",
       "      <td>NaN</td>\n",
       "      <td>G</td>\n",
       "      <td>NaN</td>\n",
       "      <td>CHESEDLTLCCA1</td>\n",
       "      <td>CHEVADTDUCCA1</td>\n",
       "      <td>2019-03-18 12:19:22</td>\n",
       "      <td>2019-03-19 11:00:22</td>\n",
       "      <td>NaN</td>\n",
       "      <td>24 | 26 FT Taurus Open 21MT - HCV</td>\n",
       "      <td>NaN</td>\n",
       "      <td>NaN</td>\n",
       "      <td>NaN</td>\n",
       "      <td>LTLEXMUM40</td>\n",
       "      <td>Larsen &amp; toubro limited</td>\n",
       "      <td>55075</td>\n",
       "      <td>Sri Ayyappan Agencies</td>\n",
       "      <td>COOLANT HOSE / RADIATOR TO ENGINE</td>\n",
       "    </tr>\n",
       "    <tr>\n",
       "      <th>6631</th>\n",
       "      <td>NaN</td>\n",
       "      <td>WDSBKTP41973</td>\n",
       "      <td>Regular</td>\n",
       "      <td>2019-03-18 16:24:18</td>\n",
       "      <td>TN20AJ1188</td>\n",
       "      <td>Kanchipuram, Tamil Nadu, India</td>\n",
       "      <td>Periyapatti, Tamil Nadu, India</td>\n",
       "      <td>12.8341735,79.7036402</td>\n",
       "      <td>11.2044996,78.1421905</td>\n",
       "      <td>NaT</td>\n",
       "      <td>2019-03-20 18:00:18</td>\n",
       "      <td>NaN</td>\n",
       "      <td>Periyapatti, Tamil Nadu, India</td>\n",
       "      <td>2019-03-20 17:15:18</td>\n",
       "      <td>NaN</td>\n",
       "      <td>NaN</td>\n",
       "      <td>G</td>\n",
       "      <td>NaN</td>\n",
       "      <td>CHEMANLTLWHA1</td>\n",
       "      <td>CHEPARPUBTPA1</td>\n",
       "      <td>2019-03-18 16:24:18</td>\n",
       "      <td>2019-03-20 17:15:18</td>\n",
       "      <td>NaN</td>\n",
       "      <td>22 FT Taurus Open 16MT - HCV</td>\n",
       "      <td>275.0</td>\n",
       "      <td>NaN</td>\n",
       "      <td>NaN</td>\n",
       "      <td>LTLEXMUM40</td>\n",
       "      <td>Larsen &amp; toubro limited</td>\n",
       "      <td>999</td>\n",
       "      <td>Unknown</td>\n",
       "      <td>A114 Alternator(New Versa)</td>\n",
       "    </tr>\n",
       "    <tr>\n",
       "      <th>5912</th>\n",
       "      <td>NaN</td>\n",
       "      <td>WDSBKTP41974</td>\n",
       "      <td>Regular</td>\n",
       "      <td>2019-03-18 16:56:02</td>\n",
       "      <td>TN25AT7677</td>\n",
       "      <td>Sedarapet, India</td>\n",
       "      <td>Mylasandra, Bengaluru, Karnataka, India</td>\n",
       "      <td>12.0001,79.74839949999999</td>\n",
       "      <td>12.853929,77.6178125</td>\n",
       "      <td>NaT</td>\n",
       "      <td>2019-03-20 12:38:02</td>\n",
       "      <td>NaN</td>\n",
       "      <td>Mylasandra, Bengaluru, Karnataka, India</td>\n",
       "      <td>2019-03-20 11:53:02</td>\n",
       "      <td>NaN</td>\n",
       "      <td>NaN</td>\n",
       "      <td>G</td>\n",
       "      <td>NaN</td>\n",
       "      <td>CHESEDLTLCCA1</td>\n",
       "      <td>HOSBYALTLWHA1</td>\n",
       "      <td>2019-03-18 16:56:02</td>\n",
       "      <td>2019-03-20 11:53:02</td>\n",
       "      <td>NaN</td>\n",
       "      <td>24 | 26 FT Taurus Open 21MT - HCV</td>\n",
       "      <td>NaN</td>\n",
       "      <td>NaN</td>\n",
       "      <td>NaN</td>\n",
       "      <td>LTLEXMUM40</td>\n",
       "      <td>Larsen &amp; toubro limited</td>\n",
       "      <td>999</td>\n",
       "      <td>Unknown</td>\n",
       "      <td>COOLANT HOSE</td>\n",
       "    </tr>\n",
       "  </tbody>\n",
       "</table>\n",
       "</div>"
      ],
      "text/plain": [
       "     GpsProvider     BookingID Market/Regular       BookingID_Date  \\\n",
       "6868       JTECH  WDSBKTP44502         Regular 2019-04-15 15:15:13   \n",
       "6264         NaN  WDSBKTP49392         Regular 2019-06-10 13:17:44   \n",
       "5910         NaN  WDSBKTP41957         Regular 2019-03-18 12:19:22   \n",
       "6631         NaN  WDSBKTP41973         Regular 2019-03-18 16:24:18   \n",
       "5912         NaN  WDSBKTP41974         Regular 2019-03-18 16:56:02   \n",
       "\n",
       "      vehicle_no                       Origin_Location  \\\n",
       "6868   KA21A5090  Mugabala, Bangalore Rural, Karnataka   \n",
       "6264   WB59B9152           Sonai, Kolkata, West Bengal   \n",
       "5910  AP26TE1258                      Sedarapet, India   \n",
       "6631  TN20AJ1188        Kanchipuram, Tamil Nadu, India   \n",
       "5912  TN25AT7677                      Sedarapet, India   \n",
       "\n",
       "                               Destination_Location  \\\n",
       "6868  Peenya Small Industries, Bangalore, Karnataka   \n",
       "6264                    Kalyani, Nadia, West Bengal   \n",
       "5910           Redhills, Chennai, Tamil Nadu, India   \n",
       "6631                 Periyapatti, Tamil Nadu, India   \n",
       "5912        Mylasandra, Bengaluru, Karnataka, India   \n",
       "\n",
       "                                Org_lat_lon  \\\n",
       "6868  16.560192249175344,80.792293091599547   \n",
       "6264  23.525267916088961,87.264424348570884   \n",
       "5910              12.0001,79.74839949999999   \n",
       "6631                  12.8341735,79.7036402   \n",
       "5912              12.0001,79.74839949999999   \n",
       "\n",
       "                                Des_lat_lon      Data_Ping_time  \\\n",
       "6868  13.196312912801169,77.708156925688726 2019-06-14 15:20:12   \n",
       "6264    22.952176370977448,88.4571405591546                 NaT   \n",
       "5910                   13.1992334,80.196693                 NaT   \n",
       "6631                  11.2044996,78.1421905                 NaT   \n",
       "5912                   12.853929,77.6178125                 NaT   \n",
       "\n",
       "             Planned_ETA                                   Current_Location  \\\n",
       "6868 1899-12-30 04:06:00  Shed No 60, Medahalli Kadugodi Road, Virgonaga...   \n",
       "6264 1899-12-30 08:58:00                                                NaN   \n",
       "5910 2019-03-19 11:45:22                                                NaN   \n",
       "6631 2019-03-20 18:00:18                                                NaN   \n",
       "5912 2019-03-20 12:38:02                                                NaN   \n",
       "\n",
       "                                DestinationLocation          actual_eta  \\\n",
       "6868  Peenya Small Industries, Bangalore, Karnataka 1899-12-30 03:21:00   \n",
       "6264                    Kalyani, Nadia, West Bengal 1899-12-30 08:13:00   \n",
       "5910           Redhills, Chennai, Tamil Nadu, India 2019-03-19 11:00:22   \n",
       "6631                 Periyapatti, Tamil Nadu, India 2019-03-20 17:15:18   \n",
       "5912        Mylasandra, Bengaluru, Karnataka, India 2019-03-20 11:53:02   \n",
       "\n",
       "       Curr_lat   Curr_lon ontime delay OriginLocation_Code  \\\n",
       "6868  13.025077  77.723114    NaN     R           V0048673    \n",
       "6264        NaN        NaN      G   NaN           V0045772    \n",
       "5910        NaN        NaN      G   NaN       CHESEDLTLCCA1   \n",
       "6631        NaN        NaN      G   NaN       CHEMANLTLWHA1   \n",
       "5912        NaN        NaN      G   NaN       CHESEDLTLCCA1   \n",
       "\n",
       "     DestinationLocation_Code     trip_start_date       trip_end_date  \\\n",
       "6868                 LE005419 1899-12-30 00:00:00 1899-12-30 03:21:00   \n",
       "6264                 LE005821 1899-12-30 00:00:00 1899-12-30 08:13:00   \n",
       "5910            CHEVADTDUCCA1 2019-03-18 12:19:22 2019-03-19 11:00:22   \n",
       "6631            CHEPARPUBTPA1 2019-03-18 16:24:18 2019-03-20 17:15:18   \n",
       "5912            HOSBYALTLWHA1 2019-03-18 16:56:02 2019-03-20 11:53:02   \n",
       "\n",
       "      TRANSPORTATION_DISTANCE_IN_KM                               vehicleType  \\\n",
       "6868                           41.0                    40 FT 3XL Trailer 35MT   \n",
       "6264                           51.0  40 FT Flat Bed Multi-Axle 27MT - Trailer   \n",
       "5910                            NaN         24 | 26 FT Taurus Open 21MT - HCV   \n",
       "6631                            NaN              22 FT Taurus Open 16MT - HCV   \n",
       "5912                            NaN         24 | 26 FT Taurus Open 21MT - HCV   \n",
       "\n",
       "      Minimum_kms_to_be_covered_in_a_day Driver_Name  Driver_MobileNo  \\\n",
       "6868                                 NaN         NaN              NaN   \n",
       "6264                                 NaN         NaN              NaN   \n",
       "5910                                 NaN         NaN              NaN   \n",
       "6631                               275.0         NaN              NaN   \n",
       "5912                                 NaN         NaN              NaN   \n",
       "\n",
       "      customerID         customerNameCode supplierID  \\\n",
       "6868  LTLEXMUM40  Larsen & toubro limited      55556   \n",
       "6264  LTLEXMUM40  Larsen & toubro limited      55471   \n",
       "5910  LTLEXMUM40  Larsen & toubro limited      55075   \n",
       "6631  LTLEXMUM40  Larsen & toubro limited        999   \n",
       "5912  LTLEXMUM40  Larsen & toubro limited        999   \n",
       "\n",
       "                     supplierNameCode                   Material Shipped  \n",
       "6868                   A S TRANSPORTS                  INSRT-VLV ST INTK  \n",
       "6264  SUNITA CARRIERS PRIVATE LIMITED                    FXUWB-LID COVER  \n",
       "5910            Sri Ayyappan Agencies  COOLANT HOSE / RADIATOR TO ENGINE  \n",
       "6631                          Unknown         A114 Alternator(New Versa)  \n",
       "5912                          Unknown                       COOLANT HOSE  "
      ]
     },
     "execution_count": 10,
     "metadata": {},
     "output_type": "execute_result"
    }
   ],
   "source": [
    "data.sort_values('trip_start_date').head(5)"
   ]
  },
  {
   "cell_type": "markdown",
   "metadata": {},
   "source": [
    "## DATA PREPROCESSING - HANDLING MISSING VALUE\n",
    "\n",
    "\n",
    "WHAT DO WE DO TO MISSING VALUES\n",
    "\n",
    "There are several options for handling missing values each with its own PROS and CONS. However, the choice of what should be done is largely dependent on the nature of our data and the missing values. Below is a summary highlight of several options we have for handling missing values. DROP MISSING VALUES FILL MISSING VALUES WITH TEST STATISTIC PREDICT MISSING VALUE WITH A MACHINE LEARNING ALGORITHM Below is a few list of commands to detect missing values with EDA."
   ]
  },
  {
   "cell_type": "code",
   "execution_count": 11,
   "metadata": {},
   "outputs": [
    {
     "data": {
      "text/plain": [
       "GpsProvider                            953\n",
       "BookingID                                0\n",
       "Market/Regular                           0\n",
       "BookingID_Date                           0\n",
       "vehicle_no                               0\n",
       "Origin_Location                          0\n",
       "Destination_Location                     0\n",
       "Org_lat_lon                              0\n",
       "Des_lat_lon                              0\n",
       "Data_Ping_time                         953\n",
       "Planned_ETA                              0\n",
       "Current_Location                       964\n",
       "DestinationLocation                      0\n",
       "actual_eta                              37\n",
       "Curr_lat                               953\n",
       "Curr_lon                               953\n",
       "ontime                                4332\n",
       "delay                                 2538\n",
       "OriginLocation_Code                      3\n",
       "DestinationLocation_Code                27\n",
       "trip_start_date                          0\n",
       "trip_end_date                          194\n",
       "TRANSPORTATION_DISTANCE_IN_KM          712\n",
       "vehicleType                            828\n",
       "Minimum_kms_to_be_covered_in_a_day    4060\n",
       "Driver_Name                           3429\n",
       "Driver_MobileNo                       4189\n",
       "customerID                               0\n",
       "customerNameCode                         0\n",
       "supplierID                               0\n",
       "supplierNameCode                         0\n",
       "Material Shipped                         0\n",
       "dtype: int64"
      ]
     },
     "execution_count": 11,
     "metadata": {},
     "output_type": "execute_result"
    }
   ],
   "source": [
    "#Python, pandas\n",
    "#Count missing values for each column of the dataframe df\n",
    "#By default (axis = 0)\n",
    "\n",
    "data.isna().sum()"
   ]
  },
  {
   "cell_type": "markdown",
   "metadata": {},
   "source": [
    "Count total missing values in a dataframe\n",
    "data.isnull().sum().sum()\n",
    "\n",
    "#Gives a integer value\n",
    "\n",
    "#Python, pandas #Count missing values for each column of the dataframe df data.isnull().sum(axis = 0)\n",
    "\n",
    "#Python, pandas #Count missing values for each row of the dataframe df data.isnull().sum(axis = 1)"
   ]
  },
  {
   "cell_type": "code",
   "execution_count": 12,
   "metadata": {},
   "outputs": [],
   "source": [
    "missingrows = data.isna().sum()"
   ]
  },
  {
   "cell_type": "code",
   "execution_count": 13,
   "metadata": {},
   "outputs": [
    {
     "name": "stdout",
     "output_type": "stream",
     "text": [
      "Index(['GpsProvider', 'BookingID', 'Market/Regular ', 'BookingID_Date',\n",
      "       'vehicle_no', 'Origin_Location', 'Destination_Location', 'Org_lat_lon',\n",
      "       'Des_lat_lon', 'Data_Ping_time', 'Planned_ETA', 'Current_Location',\n",
      "       'DestinationLocation', 'actual_eta', 'Curr_lat', 'Curr_lon', 'ontime',\n",
      "       'delay', 'OriginLocation_Code', 'DestinationLocation_Code',\n",
      "       'trip_start_date', 'trip_end_date', 'TRANSPORTATION_DISTANCE_IN_KM',\n",
      "       'vehicleType', 'Minimum_kms_to_be_covered_in_a_day', 'Driver_Name',\n",
      "       'Driver_MobileNo', 'customerID', 'customerNameCode', 'supplierID',\n",
      "       'supplierNameCode', 'Material Shipped'],\n",
      "      dtype='object')\n",
      "(32,)\n",
      "(6880, 32)\n"
     ]
    }
   ],
   "source": [
    "print(data.columns)\n",
    "print(missingrows.shape)\n",
    "print(data.shape)"
   ]
  },
  {
   "cell_type": "code",
   "execution_count": 14,
   "metadata": {},
   "outputs": [
    {
     "name": "stdout",
     "output_type": "stream",
     "text": [
      "Percentage of missing values in GpsProvider is 0.1385174418604651\n",
      "Percentage of missing values in BookingID is 0.0\n",
      "Percentage of missing values in Market/Regular  is 0.0\n",
      "Percentage of missing values in BookingID_Date is 0.0\n",
      "Percentage of missing values in vehicle_no is 0.0\n",
      "Percentage of missing values in Origin_Location is 0.0\n",
      "Percentage of missing values in Destination_Location is 0.0\n",
      "Percentage of missing values in Org_lat_lon is 0.0\n",
      "Percentage of missing values in Des_lat_lon is 0.0\n",
      "Percentage of missing values in Data_Ping_time is 0.1385174418604651\n",
      "Percentage of missing values in Planned_ETA is 0.0\n",
      "Percentage of missing values in Current_Location is 0.14011627906976745\n",
      "Percentage of missing values in DestinationLocation is 0.0\n",
      "Percentage of missing values in actual_eta is 0.005377906976744186\n",
      "Percentage of missing values in Curr_lat is 0.1385174418604651\n",
      "Percentage of missing values in Curr_lon is 0.1385174418604651\n",
      "Percentage of missing values in ontime is 0.6296511627906977\n",
      "Percentage of missing values in delay is 0.3688953488372093\n",
      "Percentage of missing values in OriginLocation_Code is 0.00043604651162790697\n",
      "Percentage of missing values in DestinationLocation_Code is 0.003924418604651163\n",
      "Percentage of missing values in trip_start_date is 0.0\n",
      "Percentage of missing values in trip_end_date is 0.02819767441860465\n",
      "Percentage of missing values in TRANSPORTATION_DISTANCE_IN_KM is 0.10348837209302325\n",
      "Percentage of missing values in vehicleType is 0.12034883720930233\n",
      "Percentage of missing values in Minimum_kms_to_be_covered_in_a_day is 0.5901162790697675\n",
      "Percentage of missing values in Driver_Name is 0.4984011627906977\n",
      "Percentage of missing values in Driver_MobileNo is 0.6088662790697674\n",
      "Percentage of missing values in customerID is 0.0\n",
      "Percentage of missing values in customerNameCode is 0.0\n",
      "Percentage of missing values in supplierID is 0.0\n",
      "Percentage of missing values in supplierNameCode is 0.0\n",
      "Percentage of missing values in Material Shipped is 0.0\n"
     ]
    }
   ],
   "source": [
    "#Percentange of missing values \n",
    "for column in data.columns:\n",
    "    print('Percentage of missing values in {} is {}'.format(column,missingrows[column]/len(data)))"
   ]
  },
  {
   "cell_type": "markdown",
   "metadata": {},
   "source": [
    "14 Curr_lat 5927 non-null float64\n",
    "\n",
    "15 Curr_lon 5927 non-null float64\n",
    "\n",
    "22 TRANSPORTATION_DISTANCE_IN_KM 6168 non-null float64\n",
    "\n",
    "24 Minimum_kms_to_be_covered_in_a_day 2820 non-null float64\n",
    "\n",
    "26 Driver_MobileNo 2691 non-null float64"
   ]
  },
  {
   "cell_type": "markdown",
   "metadata": {},
   "source": [
    "Cleaning Data : dropna() thresh option\n",
    "Keep only the rows having 2 or more valid data\n",
    "\n",
    "Keep only the rows having 3 or more valid data\n",
    "\n",
    "Keep only columns where 11 or more than 11 valid data is available\n",
    "\n",
    "Keep only rows where 70% or more valid data is available\n",
    "\n",
    "Keep only columns where 80% or more valid data is available\n",
    "\n",
    "thresh= 6880*0.20= 1376"
   ]
  },
  {
   "cell_type": "code",
   "execution_count": 15,
   "metadata": {},
   "outputs": [],
   "source": [
    "#drop columns that have 80% or more missing values\n",
    "#data = data.dropna(axis=1, thresh=1376)"
   ]
  },
  {
   "cell_type": "markdown",
   "metadata": {},
   "source": [
    "##### pandas.Series.rolling\n",
    "\n",
    "Series.rolling(window, min_periods=None, center=False, win_type=None, on=None, axis=0, closed=None)[source] Provide rolling window calculations.\n",
    "\n",
    "Parameters:\n",
    "\n",
    "windowint, offset, or BaseIndexer subclass: Size of the moving window. This is the number of observations used for calculating the statistic. Each window will be a fixed size. If its an offset then this will be the time period of each window. Each window will be a variable sized based on the observations included in the time-period. This is only valid for datetimelike indexes. If a BaseIndexer subclass is passed, calculates the window boundaries based on the defined get_window_bounds method. Additional rolling keyword arguments, namely min_periods, center, and closed will be passed to get_window_bounds.\n",
    "\n",
    "min_periodsint, default None:\n",
    "\n",
    "Minimum number of observations in window required to have a value (otherwise result is NA). For a window that is specified by an offset, min_periods will default to 1. Otherwise, min_periods will default to the size of the window.\n",
    "\n",
    "centerbool, default False:\n",
    "\n",
    "Set the labels at the center of the window.\n",
    "\n",
    "***A rolling mean is simply the mean of a certain number of previous periods in a time series.\n",
    "\n",
    "To calculate the rolling mean for one or more columns in a pandas DataFrame, we can use the following syntax:\n",
    "\n",
    "df['column_name'].rolling(rolling_window).mean()\n"
   ]
  },
  {
   "cell_type": "code",
   "execution_count": 15,
   "metadata": {},
   "outputs": [],
   "source": [
    "#Method1\n",
    "data.fillna({\n",
    "            #name unkown for null values in driver name\n",
    "            'Driver_Name' : data.Driver_Name.fillna('Unknown'),\n",
    "\n",
    "            #impute transportation distence with mean value\n",
    "            'TRANSPORTATION_DISTANCE_IN_KM': data.TRANSPORTATION_DISTANCE_IN_KM.rolling(min_periods=1, center=True, window=12).mean(),\n",
    "\n",
    "            #name unkown for null values in vehicle type\n",
    "            'vehicleType':data.vehicleType.fillna('Unknown'),\n",
    "\n",
    "            #fill pervious date for actual.eta\n",
    "            'actual_eta':data.actual_eta.fillna(method='ffill'),\n",
    "            },\n",
    "        inplace = True)\n",
    "\n"
   ]
  },
  {
   "cell_type": "markdown",
   "metadata": {},
   "source": [
    "#Method2\n",
    "\n",
    "#let's check the percentage of null values in each feature\n",
    "for col in data.columns:\n",
    "    if data[col].isna().sum()>0:\n",
    "        print(col, data[col].isna().mean().round(4)*100)"
   ]
  },
  {
   "cell_type": "markdown",
   "metadata": {},
   "source": [
    "#Method2\n",
    "\n",
    "#name unkown for null values in driver name\n",
    "data['Driver_Name']=data['Driver_Name'].fillna('Unknown')\n",
    "\n",
    "#impute transportation distence with mean value\n",
    "data['TRANSPORTATION_DISTANCE_IN_KM']= data[\"TRANSPORTATION_DISTANCE_IN_KM\"].rolling(min_periods=1, center=True, window=12).mean()\n",
    "\n",
    "#name unkown for null values in vehicle type\n",
    "data['vehicleType']=data['vehicleType'].fillna('Unknown')\n",
    "\n",
    "#fill pervious date for actual.eta\n",
    "data['actual_eta']=data['actual_eta'].fillna(method='ffill')"
   ]
  },
  {
   "cell_type": "code",
   "execution_count": 16,
   "metadata": {},
   "outputs": [],
   "source": [
    "#6868,6264 index rows having years as 1899 in all datetime features, may be it's a mistake\n",
    "#As we have mistake in those 2 rows let's remove those\n",
    "data.drop(data.index[[6868,6264]], inplace=True)"
   ]
  },
  {
   "cell_type": "code",
   "execution_count": 17,
   "metadata": {},
   "outputs": [],
   "source": [
    "#Method1\n",
    "#create as a single column 'ontime/delay' from 'ontime' and 'delay' columns\n",
    "data['ontime/delay']=data.ontime.replace({np.NaN, 'G'}, {0, 1})"
   ]
  },
  {
   "cell_type": "code",
   "execution_count": 18,
   "metadata": {},
   "outputs": [
    {
     "data": {
      "text/plain": [
       "0       0\n",
       "1       1\n",
       "2       1\n",
       "3       1\n",
       "4       1\n",
       "       ..\n",
       "6875    1\n",
       "6876    1\n",
       "6877    1\n",
       "6878    0\n",
       "6879    1\n",
       "Name: ontime/delay, Length: 6878, dtype: int64"
      ]
     },
     "execution_count": 18,
     "metadata": {},
     "output_type": "execute_result"
    }
   ],
   "source": [
    "data['ontime/delay']"
   ]
  },
  {
   "cell_type": "markdown",
   "metadata": {},
   "source": [
    "#Method2\n",
    "#create as a single column 'ontime/delay' from 'ontime' and 'delay' columns\n",
    "\n",
    "data['ontime/delay']=data['ontime'].replace(np.NaN, 'G')\n",
    "\n",
    "data['ontime/delay']=data['delay'].replace(np.NaN, 'G')\n",
    "\n",
    "data['ontime/delay'] =data['ontime/delay'].map(\n",
    "                    {\n",
    "                        'G': 1,\n",
    "                        'R': 0\n",
    "                    }\n",
    "                    )\n"
   ]
  },
  {
   "cell_type": "markdown",
   "metadata": {},
   "source": [
    "data['ontime/delay']"
   ]
  },
  {
   "cell_type": "code",
   "execution_count": 19,
   "metadata": {},
   "outputs": [],
   "source": [
    "data['vehicle_states'] = data.vehicle_no.astype(str).str[:2]\n",
    "data['Origin_states'] = data['Origin_Location'].str.split(',').apply(lambda x: x[-1])\n",
    "data['Dest_states'] = data['Destination_Location'].str.split(',').apply(lambda x: x[-1])"
   ]
  },
  {
   "cell_type": "code",
   "execution_count": 20,
   "metadata": {},
   "outputs": [],
   "source": [
    "data['vehicle_states']=data['vehicle_states'].replace(('tn', 'hr'), ('TN', 'HR'))\n",
    "\n",
    "data['Origin_states']=data['Origin_states'].replace((' Maharashtra', 'TAMIL NADU', ' Gujarat', ' Tamil Nadu',\n",
    "                                                     'RAJASTHAN', ' Haryana', 'PONDICHERRY',\n",
    "                                                     ' Karnataka', 'KARNATAKA', 'GUJARAT', 'HARYANA', ' Rajasthan', \n",
    "                                                     ' Uttar Pradesh', ' Pondicherry', ' West Bengal', ' Odisha',\n",
    "                                                     ' Jharkhand', ' Bihar', ' Assam', ' Andhra Pradesh', ' Telangana',\n",
    "                                                     ' Chattisgarh', ' Delhi', ' Kerala', ' Chandigarh', ' India', \n",
    "                                                     'UTTAR PRADESH'),\n",
    "                                                    ('Maharashtra', 'Tamil Nadu', 'Gujarat', 'Tamil Nadu',\n",
    "                                                     'Rajasthan', 'Haryana', 'Pondicherry',\n",
    "                                                     'Karnataka', 'Karnataka', 'Gujarat', 'Haryana', 'Rajasthan',\n",
    "                                                     'Uttar Pradesh', 'Pondicherry', 'West Bengal', 'Odisha',\n",
    "                                                     'Jharkhand', 'Bihar', 'Assam', 'Andhra Pradesh', 'Telangana',\n",
    "                                                     'Chattisgarh', 'Delhi', 'Kerala', 'Chandigarh', 'India',\n",
    "                                                     'Uttar Pradesh'))\n",
    "\n",
    "data['Dest_states']=data['Dest_states'].replace((' Tamil Nadu', 'TAMIL NADU', 'RAJASTHAN', ' Maharashtra',\n",
    "       'KARNATAKA', 'PONDICHERRY', 'MAHARASHTRA', ' Haryana', ' Gujarat',\n",
    "       'GUJARAT', 'JHARKHAND', 'Haryana', ' Himachal Pradesh',\n",
    "       ' Karnataka', ' Assam', 'HARYANA', ' Uttar Pradesh',\n",
    "       'HIMACHAL PRADESH', ' West Bengal', ' Odisha', ' Rajasthan',\n",
    "       ' Andhra Pradesh', ' Jharkhand', ' Telangana', ' Punjab', ' Delhi',\n",
    "       ' Central Development Region', ' Madhya Pradesh', ' Meghalaya',\n",
    "       ' Chattisgarh', ' Jammu & Kashmir', ' Uttarakhand', ' Chandigarh',\n",
    "       ' Bihar', ' Pondicherry', ' Kerala', ' Dadra & Nagar Haveli',\n",
    "       ' Goa', ' Sikkim', ' India'),\n",
    "       ('Tamil Nadu', 'Tamil Nadu', 'Rajasthan', 'Maharashtra',\n",
    "       'Karnataka', 'Pondicherry', 'Maharashtra', 'Haryana', 'Gujarat',\n",
    "       'Gujarat', 'Jharkhand', 'Haryana', 'Himachal Pradesh',\n",
    "       'Karnataka', 'Assam', 'Haryana', 'Uttar Pradesh',\n",
    "       'Himachal Pradesh', 'West Bengal', 'Odisha', 'Rajasthan',\n",
    "       'Andhra Pradesh', 'Jharkhand', 'Telangana', 'Punjab', 'Delhi',\n",
    "       'Central Development Region', 'Madhya Pradesh', 'Meghalaya',\n",
    "       'Chattisgarh', 'Jammu & Kashmir', 'Uttarakhand', 'Chandigarh',\n",
    "       'Bihar', 'Pondicherry', 'Kerala', 'Dadra & Nagar Haveli',\n",
    "       'Goa', 'Sikkim', 'India'))"
   ]
  },
  {
   "cell_type": "code",
   "execution_count": 21,
   "metadata": {},
   "outputs": [
    {
     "name": "stdout",
     "output_type": "stream",
     "text": [
      "Requirement already satisfied: geopy in c:\\users\\sarak\\anaconda3\\lib\\site-packages (2.1.0)\n",
      "Requirement already satisfied: geographiclib<2,>=1.49 in c:\\users\\sarak\\anaconda3\\lib\\site-packages (from geopy) (1.50)\n",
      "Note: you may need to restart the kernel to use updated packages.\n"
     ]
    }
   ],
   "source": [
    "pip install geopy"
   ]
  },
  {
   "cell_type": "raw",
   "metadata": {},
   "source": [
    "pandas.DataFrame.itertuples\n",
    "\n",
    "DataFrame.itertuples(index=True, name='Pandas')[source]\n",
    "Iterate over DataFrame rows as namedtuples.\n",
    "\n",
    "Parameters\n",
    "indexbool, default True\n",
    "If True, return the index as the first element of the tuple."
   ]
  },
  {
   "attachments": {
    "image.png": {
     "image/png": "[encoded data removed]"
    }
   },
   "cell_type": "markdown",
   "metadata": {},
   "source": [
    "![image.png](attachment:image.png)"
   ]
  },
  {
   "cell_type": "code",
   "execution_count": 22,
   "metadata": {},
   "outputs": [],
   "source": [
    "\n",
    "from geopy import distance\n",
    "\n",
    "#find the distance between origin and destination\n",
    "distances_km = []\n",
    "for row in data.itertuples(index=False):\n",
    "   distances_km.append(\n",
    "       distance.distance(row.Org_lat_lon, row.Des_lat_lon).km\n",
    "   )\n",
    "\n",
    "data['Org_Dest_distance'] = distances_km\n",
    "#df_dist.head()\n",
    "\n",
    "#data=pd.concat([data, df_dist])"
   ]
  },
  {
   "cell_type": "markdown",
   "metadata": {},
   "source": [
    "##### Add a day to DATE Column\n",
    "\n",
    "Here we are adding a day(timedelta of (random.randint(0,3)) to the Date column in dataframe and creating a new column called as 'trip_end_date'\n",
    "\n",
    "randint() is an inbuilt function of the random module in Python3. The random module gives access to various useful functions and one of them being able to generate random numbers, which is randint().\n",
    "\n",
    "* we can use time.sleep(i) for delay, but it is not good idea to use that here.\n"
   ]
  },
  {
   "cell_type": "code",
   "execution_count": 23,
   "metadata": {},
   "outputs": [],
   "source": [
    "#Null values in trip_end_date\n",
    "import datetime\n",
    "import random\n",
    "df_sub=data[data['trip_end_date'].isna()]\n",
    "for i in df_sub.index:\n",
    "  if df_sub['ontime/delay'][i]==0:\n",
    "    df_sub['trip_end_date'][i]=df_sub['actual_eta'][i]\n",
    "  else:\n",
    "    df_sub['trip_end_date'][i]=df_sub['Planned_ETA'][i]-datetime.timedelta(random.randint(0,3))\n",
    "\n",
    "data=pd.concat([data, df_sub])\n",
    "\n",
    "#as we have concatinationg those null in trip_end_date related rows are duplicates so removing those\n",
    "data.dropna(subset=['trip_end_date'], inplace=True)\n"
   ]
  },
  {
   "cell_type": "code",
   "execution_count": 24,
   "metadata": {},
   "outputs": [],
   "source": [
    "#feature like gps provider, data ping time, current location, curr_lat, curr_lon having null values in same rows\n",
    "#all the above mentioned features are dependent on each other and it's not feasible to impute those, so dropping those rows\n",
    "\n",
    "data.dropna(subset=['Current_Location'], inplace=True)"
   ]
  },
  {
   "cell_type": "code",
   "execution_count": 25,
   "metadata": {},
   "outputs": [
    {
     "data": {
      "text/plain": [
       "999    316\n",
       "Name: supplierID, dtype: int64"
      ]
     },
     "execution_count": 25,
     "metadata": {},
     "output_type": "execute_result"
    }
   ],
   "source": [
    "#checking the supplier code for the unknown suppliers\n",
    "data[data['supplierNameCode']=='Unknown']['supplierID'].value_counts()"
   ]
  },
  {
   "cell_type": "code",
   "execution_count": 26,
   "metadata": {},
   "outputs": [],
   "source": [
    "#checking whether having driver's mobile number making any impact on ontime delivery\n",
    "data['Driver_MobileNo'].values[data['Driver_MobileNo'].values>0]=1\n",
    "data['Driver_MobileNo'].fillna(0, inplace=True)"
   ]
  },
  {
   "cell_type": "code",
   "execution_count": 27,
   "metadata": {},
   "outputs": [
    {
     "data": {
      "text/plain": [
       "0    2003\n",
       "1     677\n",
       "Name: ontime/delay, dtype: int64"
      ]
     },
     "execution_count": 27,
     "metadata": {},
     "output_type": "execute_result"
    }
   ],
   "source": [
    "data[data['Driver_MobileNo']==1]['ontime/delay'].value_counts()"
   ]
  },
  {
   "cell_type": "code",
   "execution_count": 28,
   "metadata": {},
   "outputs": [
    {
     "data": {
      "text/plain": [
       "0    2321\n",
       "1     914\n",
       "Name: ontime/delay, dtype: int64"
      ]
     },
     "execution_count": 28,
     "metadata": {},
     "output_type": "execute_result"
    }
   ],
   "source": [
    "data[data['Driver_MobileNo']==0]['ontime/delay'].value_counts()"
   ]
  },
  {
   "cell_type": "markdown",
   "metadata": {},
   "source": [
    "### Explore the dataset"
   ]
  },
  {
   "cell_type": "markdown",
   "metadata": {},
   "source": [
    "## DATA PREPROCESSING - Feature Encoding"
   ]
  },
  {
   "cell_type": "code",
   "execution_count": 29,
   "metadata": {},
   "outputs": [],
   "source": [
    "#filtering data \n",
    "df_cln=data[['Market/Regular ',\n",
    "       'vehicle_no',\n",
    "       'Current_Location',\n",
    "       'TRANSPORTATION_DISTANCE_IN_KM',\n",
    "       'vehicleType', 'Driver_Name',\n",
    "       'Driver_MobileNo', 'customerID', 'supplierID',\n",
    "       'Material Shipped', 'ontime/delay',\n",
    "       'vehicle_states', 'Origin_states', 'Dest_states', 'Org_Dest_distance']]"
   ]
  },
  {
   "cell_type": "code",
   "execution_count": 33,
   "metadata": {},
   "outputs": [],
   "source": [
    "#making a copy of filtered data\n",
    "df_copy=df_cln.copy()"
   ]
  },
  {
   "cell_type": "markdown",
   "metadata": {},
   "source": [
    "##### Mapping Categorical Data in pandas\n",
    "-------------------------------------------------------\n",
    "\n",
    "In python, unlike R, there is no option to represent categorical data as factors. Factors in R are stored as vectors of integer values and can be labelled.\n",
    "\n",
    "\n",
    "If we have our data in Series or Data Frames, we can convert these categories to numbers using pandas Series’ astype method and specify ‘categorical’.\n",
    "\n",
    "\n",
    "***Nominal Categories:\n",
    "\n",
    "\n",
    "Nominal categories are unordered e.g. colours, sex, nationality.\n",
    "\n",
    "\n",
    "In the example below we categorise the Series vertebrates of the df dataframe into their individual categories.\n",
    "\n",
    "\n",
    "\n",
    "By default the categories are ordered alphabetically, which is why in the example below Amphibian is represented by a zero.\n",
    "\n",
    "\n",
    "\n",
    "import pandas as pd\n",
    "\n",
    "\n",
    "df = pd.DataFrame({'vertebrates': ['Bird', 'Bird', 'Mammal', 'Fish', 'Amphibian', 'Reptile', 'Mammal']})\n",
    "\n",
    "df.vertebrates.astype(\"category\").cat.code\n",
    "\n",
    "\n",
    "\n",
    "0    1\n",
    "\n",
    "1    1\n",
    "\n",
    "2    3\n",
    "\n",
    "3    2\n",
    "\n",
    "4    0\n",
    "\n",
    "5    4\n",
    "\n",
    "6    3\n",
    "\n",
    "dtype: int8\n",
    "\n",
    "You can always pass the types of vertebrates in separately so you have a record of the labels to match the categories.\n",
    "\n",
    "\n",
    "Any missing categories in this case will be represented by -1\n",
    "\n",
    "\n",
    "vertebrate_types = ['Mammal', 'Reptile', 'Bird', 'Amphibian', 'Fish']\n",
    "\n",
    "\n",
    "df.vertebrates.astype(\"category\", categories=vertebrate_types).cat.codes\n",
    "\n",
    "\n",
    "0    2\n",
    "\n",
    "1    2\n",
    "\n",
    "2    0\n",
    "\n",
    "3    4\n",
    "\n",
    "4    3\n",
    "\n",
    "5    1\n",
    "\n",
    "6    0\n",
    "dtype: int8\n",
    "\n",
    "However, there is no inherent relationship between these categories so it doesn’t necessary make sense to store these as different numbers on the same scale.\n",
    "\n",
    "\n",
    "***If we wanted to separate the distinct variables out into booleans as we would like for data science models such as, for example, linear regression, we can use pd.get_dummies.\n",
    "___________________________________________________________________________________________________________________________\n",
    "pd.get_dummies(df, columns=['vertebrates'])\n",
    "\n",
    "\n",
    "vertebrates_Amphibian\tvertebrates_Bird\tvertebrates_Fish\tvertebrates_Mammal\tvertebrates_Reptile\n",
    "\n",
    "0\t0\t1\t0\t0\t0\n",
    "\n",
    "1\t0\t1\t0\t0\t0\n",
    "\n",
    "2\t0\t0\t0\t1\t0\n",
    "\n",
    "3\t0\t0\t1\t0\t0\n",
    "\n",
    "4\t1\t0\t0\t0\t0\n",
    "\n",
    "5\t0\t0\t0\t0\t1\n",
    "\n",
    "6\t0\t0\t0\t1\t0\n",
    "\n",
    "\n",
    "***Ordinal Categories:\n",
    "\n",
    "\n",
    "Ordinal categories are ordered, e.g. school grades, price ranges, salary bands.\n",
    "\n",
    "For ordinal categorical data, you pass the parameter ordered = True to the astype method.\n",
    "\n",
    "ordered_satisfaction = ['Very Unhappy', 'Unhappy', 'Neutral', 'Happy', 'Very Happy']\n",
    "\n",
    "df = pd.DataFrame({'satisfaction':['Mad', 'Happy', 'Unhappy', 'Neutral']})\n",
    "\n",
    "We can have the output categories as text, with NaN for any missing categories:\n",
    "\n",
    "df.satisfaction.astype(\"category\",\n",
    "  ordered=True,\n",
    "  categories=ordered_satisfaction\n",
    ")\n",
    "**********************************\n",
    "\n",
    "0        NaN\n",
    "\n",
    "1      Happy\n",
    "\n",
    "2    Unhappy\n",
    "\n",
    "3    Neutral\n",
    "\n",
    "Name: satisfaction, dtype: category\n",
    "\n",
    "Categories (5, object): [Very Unhappy < Unhappy < Neutral < Happy < Very Happy]\n",
    "Or the output categories as numbers that map to the ordered categories. The number -1 is given to any missing category.\n",
    "\n",
    "df.satisfaction.astype(\"category\",\n",
    "  ordered=True,\n",
    "  categories=ordered_satisfaction\n",
    ").cat.codes\n",
    "\n",
    "0   -1\n",
    "\n",
    "1    3\n",
    "\n",
    "2    1\n",
    "\n",
    "3    2\n",
    "dtype: int8"
   ]
  },
  {
   "cell_type": "code",
   "execution_count": 33,
   "metadata": {},
   "outputs": [],
   "source": [
    "#df_cln['GpsProvider']=df_cln.GpsProvider.astype(\"category\").cat.codes\n",
    "#df_cln['BookingID']=df_cln.BookingID.astype(\"category\").cat.codes\n",
    "df_cln['vehicle_no']=df_cln.vehicle_no.astype(\"category\").cat.codes\n",
    "df_cln['customerID']=df_cln.customerID.astype(\"category\").cat.codes\n",
    "df_cln['supplierID']=df_cln.supplierID.astype(\"category\").cat.codes\n",
    "#df_cln['Origin_Location']=df_cln.Origin_Location.astype(\"category\").cat.codes\n",
    "#df_cln['Destination_Location']=df_cln.Destination_Location.astype(\"category\").cat.codes\n",
    "df_cln['Current_Location']=df_cln.Current_Location.astype(\"category\").cat.codes\n",
    "df_cln['vehicleType']=df_cln.vehicleType.astype(\"category\").cat.codes\n",
    "#df_cln['customerNameCode']=df_cln.customerNameCode.astype(\"category\").cat.codes\n",
    "#df_cln['supplierNameCode']=df_cln.supplierNameCode.astype(\"category\").cat.codes\n",
    "df_cln['Material Shipped']=df_cln['Material Shipped'].astype(\"category\").cat.codes\n",
    "df_cln['Market/Regular ']=df_cln['Market/Regular '].astype(\"category\").cat.codes\n",
    "df_cln['Driver_Name']=df_cln['Driver_Name'].astype(\"category\").cat.codes\n",
    "df_cln['vehicle_states']=df_cln.vehicle_states.astype(\"category\").cat.codes\n",
    "df_cln['Origin_states']=df_cln['Origin_states'].astype(\"category\").cat.codes\n",
    "df_cln['Dest_states']=df_cln['Dest_states'].astype(\"category\").cat.codes"
   ]
  },
  {
   "cell_type": "markdown",
   "metadata": {},
   "source": [
    "## Exploratory Analysis - Corrolation"
   ]
  },
  {
   "cell_type": "code",
   "execution_count": 34,
   "metadata": {
    "scrolled": true
   },
   "outputs": [
    {
     "data": {
      "text/plain": [
       "ontime/delay                     1.000000\n",
       "supplierID                       0.501116\n",
       "vehicleType                      0.210720\n",
       "vehicle_states                   0.203893\n",
       "vehicle_no                       0.201877\n",
       "Dest_states                      0.177922\n",
       "Origin_states                    0.110234\n",
       "Current_Location                 0.075365\n",
       "Material Shipped                 0.013946\n",
       "Driver_MobileNo                 -0.033591\n",
       "TRANSPORTATION_DISTANCE_IN_KM   -0.077095\n",
       "Market/Regular                  -0.125841\n",
       "Org_Dest_distance               -0.233739\n",
       "Driver_Name                     -0.244567\n",
       "customerID                      -0.258463\n",
       "Name: ontime/delay, dtype: float64"
      ]
     },
     "execution_count": 34,
     "metadata": {},
     "output_type": "execute_result"
    }
   ],
   "source": [
    "corr_matrix=df_cln.corr()\n",
    "corr_matrix[\"ontime/delay\"].sort_values(ascending=False)"
   ]
  },
  {
   "cell_type": "code",
   "execution_count": 35,
   "metadata": {},
   "outputs": [],
   "source": [
    "X=df_cln.drop('ontime/delay', axis=1)\n",
    "y=df_cln['ontime/delay'].values"
   ]
  },
  {
   "cell_type": "markdown",
   "metadata": {},
   "source": [
    "##### Correlation \n",
    "\n",
    "Method1: using \"dataframe.corr()\" in Pandas\n",
    "\n",
    "The main intention of Seaborn heatmap is to visualize the correlation matrix of data for feature selection to solve business problems.\n",
    "\n",
    "Keep in mind, mostly heatmap correlation use for feature selection from the dataset to build a Machine Learning model.\n",
    "\n",
    "\n",
    "Method2: Using \"scipy.stats.pearsonr(x, y)\""
   ]
  },
  {
   "cell_type": "code",
   "execution_count": 36,
   "metadata": {
    "scrolled": true
   },
   "outputs": [
    {
     "data": {
      "text/plain": [
       "<AxesSubplot:>"
      ]
     },
     "execution_count": 36,
     "metadata": {},
     "output_type": "execute_result"
    },
    {
     "data": {
      "image/png": "[encoded data removed]",
      "text/plain": [
       "<Figure size 432x288 with 2 Axes>"
      ]
     },
     "metadata": {},
     "output_type": "display_data"
    }
   ],
   "source": [
    "#Correlation in the X DataFrame\n",
    "import seaborn as sns\n",
    "sns.heatmap(X.corr(), cmap =\"YlGnBu\", linewidths = 0.1)"
   ]
  },
  {
   "cell_type": "markdown",
   "metadata": {},
   "source": [
    "## Exploratory Analysis - Frequency Distribution"
   ]
  },
  {
   "cell_type": "code",
   "execution_count": 37,
   "metadata": {},
   "outputs": [
    {
     "data": {
      "image/png": "[encoded data removed]",
      "text/plain": [
       "<Figure size 360x360 with 1 Axes>"
      ]
     },
     "metadata": {},
     "output_type": "display_data"
    }
   ],
   "source": [
    "plt.rcParams['figure.figsize']=(5,5)\n",
    "#explode = (0, 0.1, 0.2, 0.3, 0.4)\n",
    "plt.pie(data['ontime/delay'].value_counts(), explode = (0, 0.05), autopct='%1.1f%%')\n",
    "plt.title('percentage og ontime and delay deliveries')\n",
    "plt.legend(['Delay', 'Ontime'])\n",
    "plt.show()"
   ]
  },
  {
   "cell_type": "code",
   "execution_count": 38,
   "metadata": {},
   "outputs": [
    {
     "data": {
      "image/png": "[encoded data removed]",
      "text/plain": [
       "<Figure size 1080x360 with 2 Axes>"
      ]
     },
     "metadata": {},
     "output_type": "display_data"
    }
   ],
   "source": [
    "plt.rcParams['figure.figsize']=15,5\n",
    "\n",
    "plt.subplot(121)\n",
    "sns.countplot(data['Dest_states'],\n",
    "             order=data['Dest_states'].value_counts().head(10).index,\n",
    "             palette='dark')\n",
    "plt.xticks(rotation=90)\n",
    "plt.title('Most of the destination location')\n",
    "\n",
    "plt.subplot(122)\n",
    "sns.countplot(data['Origin_states'],\n",
    "             order=data['Origin_states'].value_counts().head(10).index,\n",
    "             palette='plasma')\n",
    "plt.xticks(rotation=90)\n",
    "plt.title('Most of the Origin location')\n",
    "\n",
    "plt.show()"
   ]
  },
  {
   "cell_type": "markdown",
   "metadata": {},
   "source": [
    "Using box-plot for display the outlier"
   ]
  },
  {
   "cell_type": "code",
   "execution_count": 39,
   "metadata": {},
   "outputs": [
    {
     "data": {
      "image/png": "[encoded data removed]",
      "text/plain": [
       "<Figure size 1080x360 with 2 Axes>"
      ]
     },
     "metadata": {},
     "output_type": "display_data"
    }
   ],
   "source": [
    "plt.subplot(121)\n",
    "sns.boxplot(data['TRANSPORTATION_DISTANCE_IN_KM'])\n",
    "\n",
    "plt.subplot(122)\n",
    "sns.boxplot(data['Org_Dest_distance'])\n",
    "plt.show()"
   ]
  },
  {
   "cell_type": "markdown",
   "metadata": {},
   "source": [
    "we don't have major outliers in our data"
   ]
  },
  {
   "cell_type": "markdown",
   "metadata": {},
   "source": [
    "## DATA PREPROCESSING - Scaling "
   ]
  },
  {
   "cell_type": "markdown",
   "metadata": {},
   "source": [
    "Standardize features by removing the mean and scaling to unit variance\n",
    "\n",
    "The standard score of a sample x is calculated as:\n",
    "\n",
    "z = (x - u) / s\n",
    "\n",
    "where u is the mean of the training samples or zero if with_mean=False, and s is the standard deviation of the training samples or one if with_std=False.\n",
    "\n",
    "Centering and scaling happen independently on each feature by computing the relevant statistics on the samples in the training set. Mean and standard deviation are then stored to be used on later data using transform."
   ]
  },
  {
   "cell_type": "code",
   "execution_count": 40,
   "metadata": {},
   "outputs": [],
   "source": [
    "from sklearn.preprocessing import StandardScaler\n",
    "\n",
    "#to_scale=df_cln.select_dtypes(include='number').columns.tolist()[1:-1]\n",
    "sc=StandardScaler()\n",
    "scaled=sc.fit_transform(X)\n",
    "x_scl=pd.DataFrame(scaled, columns=X.columns)"
   ]
  },
  {
   "cell_type": "code",
   "execution_count": 41,
   "metadata": {},
   "outputs": [
    {
     "data": {
      "image/png": "[encoded data removed]",
      "text/plain": [
       "<Figure size 1080x360 with 2 Axes>"
      ]
     },
     "metadata": {},
     "output_type": "display_data"
    }
   ],
   "source": [
    "#check weathear data is standardized or not\n",
    "plt.subplot(121)\n",
    "plt.ylim(-1,1)\n",
    "\n",
    "means=[]\n",
    "for i in range(x_scl.shape[1]):\n",
    "    means.append(np.mean(x_scl.iloc[:,i]))\n",
    "plt.plot(means, scaley=False)\n",
    "plt.title('Means of scaled features')\n",
    "\n",
    "plt.subplot(122)\n",
    "plt.ylim(0,2)\n",
    "vars=[]\n",
    "for i in range(x_scl.shape[1]):\n",
    "    vars.append(np.var(x_scl.iloc[:,i]))\n",
    "plt.plot(vars, scaley=False)\n",
    "plt.title('Varience of scaled features')\n",
    "plt.show()"
   ]
  },
  {
   "cell_type": "markdown",
   "metadata": {},
   "source": [
    "dataset is well standardised"
   ]
  },
  {
   "cell_type": "markdown",
   "metadata": {},
   "source": [
    "## Data Handling - Predictive / Supervised Learning - Logestic Regression"
   ]
  },
  {
   "cell_type": "markdown",
   "metadata": {},
   "source": [
    "##### Modeling - Logistic Refression¶"
   ]
  },
  {
   "cell_type": "code",
   "execution_count": 42,
   "metadata": {},
   "outputs": [],
   "source": [
    "from sklearn.model_selection import train_test_split\n",
    "X_train, X_test, y_train, y_test = train_test_split(x_scl, y, test_size=0.25)"
   ]
  },
  {
   "cell_type": "code",
   "execution_count": 43,
   "metadata": {},
   "outputs": [],
   "source": [
    "from sklearn.linear_model import LogisticRegression\n",
    "from sklearn.metrics import accuracy_score, confusion_matrix, roc_curve, auc, roc_auc_score"
   ]
  },
  {
   "cell_type": "code",
   "execution_count": 44,
   "metadata": {},
   "outputs": [
    {
     "data": {
      "text/plain": [
       "LogisticRegression()"
      ]
     },
     "execution_count": 44,
     "metadata": {},
     "output_type": "execute_result"
    }
   ],
   "source": [
    "LR=LogisticRegression()\n",
    "LR.fit(X_train, y_train)"
   ]
  },
  {
   "cell_type": "code",
   "execution_count": 45,
   "metadata": {},
   "outputs": [
    {
     "data": {
      "text/plain": [
       "0.8390804597701149"
      ]
     },
     "execution_count": 45,
     "metadata": {},
     "output_type": "execute_result"
    }
   ],
   "source": [
    "LR.score(X_test, y_test)"
   ]
  },
  {
   "cell_type": "code",
   "execution_count": 46,
   "metadata": {},
   "outputs": [
    {
     "data": {
      "text/plain": [
       "array([-1.41816022])"
      ]
     },
     "execution_count": 46,
     "metadata": {},
     "output_type": "execute_result"
    }
   ],
   "source": [
    "LR.intercept_ #b0"
   ]
  },
  {
   "cell_type": "code",
   "execution_count": 47,
   "metadata": {},
   "outputs": [
    {
     "data": {
      "text/plain": [
       "array([[-0.06843885, -0.02676388,  0.02483979,  0.03143645,  0.20852394,\n",
       "        -0.33136269,  0.30750201, -0.21395034,  1.1189893 ,  0.08111584,\n",
       "         0.17985453, -0.25151605,  0.13160153, -0.9015733 ]])"
      ]
     },
     "execution_count": 47,
     "metadata": {},
     "output_type": "execute_result"
    }
   ],
   "source": [
    "LR.coef_ #coefficients of the features, b1, b2, ..."
   ]
  },
  {
   "cell_type": "code",
   "execution_count": 48,
   "metadata": {},
   "outputs": [],
   "source": [
    "#To be able to test we need to scale the test data too (X part only) \n",
    "#using the same scaler that was used to scale the training data\n",
    "X_test_scaled = sc.transform(X_test)"
   ]
  },
  {
   "cell_type": "code",
   "execution_count": 49,
   "metadata": {},
   "outputs": [
    {
     "data": {
      "text/plain": [
       "array([[0.76160184, 0.23839816],\n",
       "       [0.77584546, 0.22415454],\n",
       "       [0.76668203, 0.23331797],\n",
       "       ...,\n",
       "       [0.80702005, 0.19297995],\n",
       "       [0.92291412, 0.07708588],\n",
       "       [0.91794688, 0.08205312]])"
      ]
     },
     "execution_count": 49,
     "metadata": {},
     "output_type": "execute_result"
    }
   ],
   "source": [
    "#Predict_proba gives the probabilities P(y=Ci|x)\n",
    "LR.predict_proba(X_test_scaled)"
   ]
  },
  {
   "cell_type": "code",
   "execution_count": 50,
   "metadata": {},
   "outputs": [
    {
     "data": {
      "text/plain": [
       "array([0.07582281, 0.23162367, 0.23200974, 0.21551502, 0.0791765 ,\n",
       "       0.07565054, 0.96822048, 0.07764066, 0.07664843, 0.0778721 ])"
      ]
     },
     "execution_count": 50,
     "metadata": {},
     "output_type": "execute_result"
    }
   ],
   "source": [
    "probabilities_test = LR.predict_proba(X_test_scaled)[:,1]\n",
    "probabilities_test[10:20] #second column belongs to class 1, ie, p = P(y=1|x)"
   ]
  },
  {
   "cell_type": "code",
   "execution_count": 51,
   "metadata": {},
   "outputs": [
    {
     "data": {
      "text/plain": [
       "array([0, 0, 0, 0, 0, 0, 1, 0, 0, 0], dtype=int64)"
      ]
     },
     "execution_count": 51,
     "metadata": {},
     "output_type": "execute_result"
    }
   ],
   "source": [
    "#Whereas predict method gives the class prediction as either 0 or 1\n",
    "y_pred_LR=LR.predict(X_test)\n",
    "y_pred_LR[10:20]"
   ]
  },
  {
   "cell_type": "code",
   "execution_count": 52,
   "metadata": {},
   "outputs": [
    {
     "data": {
      "text/plain": [
       "array([[0.],\n",
       "       [0.],\n",
       "       [0.],\n",
       "       [0.],\n",
       "       [0.],\n",
       "       [0.],\n",
       "       [1.],\n",
       "       [0.],\n",
       "       [0.],\n",
       "       [0.]])"
      ]
     },
     "execution_count": 52,
     "metadata": {},
     "output_type": "execute_result"
    }
   ],
   "source": [
    "#Predictions based on a different threshold value\n",
    "from sklearn.preprocessing import binarize\n",
    "y_predict_thresh = binarize(probabilities_test.reshape(-1,1),threshold=0.75)\n",
    "y_predict_thresh[10:20]"
   ]
  },
  {
   "cell_type": "code",
   "execution_count": 53,
   "metadata": {},
   "outputs": [
    {
     "data": {
      "text/plain": [
       "0.7349560513860717"
      ]
     },
     "execution_count": 53,
     "metadata": {},
     "output_type": "execute_result"
    }
   ],
   "source": [
    "#Performance measures for classification\n",
    "#Accuracy = total no. of correct prediction/total no. of datapoints\n",
    "\n",
    "LR.score(X_test_scaled,y_test)"
   ]
  },
  {
   "cell_type": "code",
   "execution_count": 54,
   "metadata": {},
   "outputs": [
    {
     "data": {
      "text/plain": [
       "0.8390804597701149"
      ]
     },
     "execution_count": 54,
     "metadata": {},
     "output_type": "execute_result"
    }
   ],
   "source": [
    "from sklearn.metrics import accuracy_score, confusion_matrix\n",
    "accuracy_score(y_test,y_pred_LR)"
   ]
  },
  {
   "cell_type": "code",
   "execution_count": 55,
   "metadata": {},
   "outputs": [
    {
     "data": {
      "text/plain": [
       "array([[1027,   52],\n",
       "       [ 186,  214]], dtype=int64)"
      ]
     },
     "execution_count": 55,
     "metadata": {},
     "output_type": "execute_result"
    }
   ],
   "source": [
    "'''\n",
    "        Predicted\n",
    "        0   1\n",
    "True  0 TN  FP\n",
    "      1 FN  TP\n",
    "\n",
    "'''\n",
    "cm1 = confusion_matrix(y_test,y_pred_LR)\n",
    "cm1"
   ]
  },
  {
   "cell_type": "code",
   "execution_count": 56,
   "metadata": {},
   "outputs": [
    {
     "data": {
      "text/plain": [
       "array([[1077,    2],\n",
       "       [ 390,   10]], dtype=int64)"
      ]
     },
     "execution_count": 56,
     "metadata": {},
     "output_type": "execute_result"
    }
   ],
   "source": [
    "#Confusion matrix corresponding prob threshold = 0.75\n",
    "cm2 = confusion_matrix(y_test,y_predict_thresh)\n",
    "cm2"
   ]
  },
  {
   "cell_type": "code",
   "execution_count": 57,
   "metadata": {},
   "outputs": [],
   "source": [
    "#Fpr = fp/(tn+fp)\n",
    "#tpr = tp/(fn+tp)\n",
    "\n",
    "fpr1= 26/1069\n",
    "fpr2 = 7/1033\n",
    "\n",
    "tpr1 = 160/410\n",
    "tpr2 = 192/410"
   ]
  },
  {
   "cell_type": "code",
   "execution_count": 58,
   "metadata": {},
   "outputs": [
    {
     "name": "stdout",
     "output_type": "stream",
     "text": [
      "              precision    recall  f1-score   support\n",
      "\n",
      "           0       0.85      0.95      0.90      1079\n",
      "           1       0.80      0.54      0.64       400\n",
      "\n",
      "    accuracy                           0.84      1479\n",
      "   macro avg       0.83      0.74      0.77      1479\n",
      "weighted avg       0.84      0.84      0.83      1479\n",
      "\n"
     ]
    }
   ],
   "source": [
    "from sklearn.metrics import classification_report\n",
    "print(classification_report(y_test,y_pred_LR))"
   ]
  },
  {
   "cell_type": "markdown",
   "metadata": {},
   "source": [
    "###### The confusion matrix used in supervised learning\n",
    "\n",
    "Confusion Matrix mainly used for the classification algorithms which fall under supervised learning. Using the above positive and negative targets information table, we will populate the matrix which gives a much more clear understanding of how the confusion matrix constructed."
   ]
  },
  {
   "cell_type": "code",
   "execution_count": 59,
   "metadata": {},
   "outputs": [
    {
     "data": {
      "image/png": "[encoded data removed]",
      "text/plain": [
       "<Figure size 360x360 with 2 Axes>"
      ]
     },
     "metadata": {},
     "output_type": "display_data"
    }
   ],
   "source": [
    "plt.rcParams['figure.figsize']=5,5\n",
    "ax= plt.subplot()\n",
    "cm = confusion_matrix(y_test, y_pred_LR)\n",
    "sns.heatmap(cm, annot=True, ax = ax); #annot=True to annotate cells\n",
    "\n",
    "# labels, title and ticks\n",
    "ax.set_xlabel('Predicted labels');ax.set_ylabel('True labels'); \n",
    "ax.set_title('Confusion Matrix'); \n",
    "ax.xaxis.set_ticklabels(['delay', 'ontime']); ax.yaxis.set_ticklabels(['delay', 'ontime']);"
   ]
  },
  {
   "cell_type": "code",
   "execution_count": 60,
   "metadata": {},
   "outputs": [],
   "source": [
    "#METHOD1:GET ROC GRAPH\n",
    "\n",
    "#ROC is the curve traced by the co-ordinates (FPR,TPR) \n",
    "#for different probability threshold values\n",
    "#AUC is the area under the ROC curve\n",
    "\n",
    "from sklearn.metrics import roc_auc_score, roc_curve\n",
    "#y_pred_prob = LR.predict_proba(X_test_scaled)[:,1]\n",
    "\n",
    "#fpr, tpr, thresholds = roc_curve(y_test, y_pred_prob)\n",
    "\n",
    "#METHOD2:GET ROC GRAPH\n",
    "\n",
    "fpr, tpr, thres = roc_curve(y_test, LR.predict_proba(X_test)[:,1])\n",
    "roc_auc = auc(fpr, tpr)"
   ]
  },
  {
   "cell_type": "code",
   "execution_count": 61,
   "metadata": {},
   "outputs": [
    {
     "data": {
      "image/png": "[encoded data removed]",
      "text/plain": [
       "<Figure size 720x504 with 1 Axes>"
      ]
     },
     "metadata": {},
     "output_type": "display_data"
    }
   ],
   "source": [
    "plt.rcParams['figure.figsize']=10,7\n",
    "plt.plot(fpr, tpr, label = 'ROC Curve' %roc_auc)\n",
    "plt.plot([0, 1], [0, 1], '--')\n",
    "plt.xlabel('False Positive Rate')\n",
    "plt.ylabel('True Positive Rate')\n",
    "plt.legend()\n",
    "plt.title('ROC-AUC graph')\n",
    "plt.show()"
   ]
  },
  {
   "cell_type": "markdown",
   "metadata": {},
   "source": [
    "AUC is an excellent performance measure for Logistic Regression Model as it is robust against probability threshold values and truly depicts if the model is good or not for the data at hand. The closer the score to 1, the better. If the score is near 0.5, it means that Logistic Regression is not a good fit for the data. Either we need to get more discriminative features to help identify the target class or look for other model options (may be a complex non-linear model)"
   ]
  },
  {
   "cell_type": "markdown",
   "metadata": {},
   "source": [
    "###### A random forest classifier.\n",
    "\n",
    "A random forest is a meta estimator that fits a number of decision tree classifiers on various sub-samples of the dataset and uses averaging to improve the predictive accuracy and control over-fitting. The sub-sample size is controlled with the max_samples parameter if bootstrap=True (default), otherwise the whole dataset is used to build each tree."
   ]
  },
  {
   "cell_type": "code",
   "execution_count": 62,
   "metadata": {},
   "outputs": [],
   "source": [
    "from sklearn.ensemble import RandomForestClassifier\n",
    "#from sklearn.feature_selection import SelectFromModel"
   ]
  },
  {
   "cell_type": "code",
   "execution_count": 63,
   "metadata": {},
   "outputs": [],
   "source": [
    "X_train, X_test, y_train, y_test = train_test_split(X, y, test_size=0.25)"
   ]
  },
  {
   "cell_type": "code",
   "execution_count": 64,
   "metadata": {},
   "outputs": [
    {
     "data": {
      "text/plain": [
       "RandomForestClassifier()"
      ]
     },
     "execution_count": 64,
     "metadata": {},
     "output_type": "execute_result"
    }
   ],
   "source": [
    "RF =RandomForestClassifier()\n",
    "RF.fit(X_train, y_train)"
   ]
  },
  {
   "cell_type": "code",
   "execution_count": 65,
   "metadata": {},
   "outputs": [
    {
     "data": {
      "text/plain": [
       "0.8945233265720081"
      ]
     },
     "execution_count": 65,
     "metadata": {},
     "output_type": "execute_result"
    }
   ],
   "source": [
    "RF.score(X_test, y_test)"
   ]
  },
  {
   "cell_type": "code",
   "execution_count": 66,
   "metadata": {},
   "outputs": [],
   "source": [
    "y_pred_RF=RF.predict(X_test)"
   ]
  },
  {
   "cell_type": "code",
   "execution_count": 67,
   "metadata": {},
   "outputs": [
    {
     "data": {
      "image/png": "[encoded data removed]",
      "text/plain": [
       "<Figure size 360x360 with 2 Axes>"
      ]
     },
     "metadata": {},
     "output_type": "display_data"
    }
   ],
   "source": [
    "plt.rcParams['figure.figsize']=5,5\n",
    "ax= plt.subplot()\n",
    "cm = confusion_matrix(y_test, y_pred_RF)\n",
    "sns.heatmap(cm, annot=True, ax = ax); #annot=True to annotate cells\n",
    "\n",
    "# labels, title and ticks\n",
    "ax.set_xlabel('Predicted labels');ax.set_ylabel('True labels'); \n",
    "ax.set_title('Confusion Matrix'); \n",
    "ax.xaxis.set_ticklabels(['delay', 'ontime']); ax.yaxis.set_ticklabels(['delay', 'ontime']);"
   ]
  },
  {
   "cell_type": "code",
   "execution_count": 68,
   "metadata": {},
   "outputs": [],
   "source": [
    "fpr, tpr, thres = roc_curve(y_test, RF.predict_proba(X_test)[:,1])\n",
    "roc_auc = auc(fpr, tpr)"
   ]
  },
  {
   "cell_type": "code",
   "execution_count": 69,
   "metadata": {},
   "outputs": [
    {
     "data": {
      "image/png": "[encoded data removed]",
      "text/plain": [
       "<Figure size 720x504 with 1 Axes>"
      ]
     },
     "metadata": {},
     "output_type": "display_data"
    }
   ],
   "source": [
    "plt.rcParams['figure.figsize']=10,7\n",
    "plt.plot(fpr, tpr, label = 'ROC Curve' %roc_auc)\n",
    "plt.plot([0, 1], [0, 1], '--')\n",
    "plt.xlabel('False Positive Rate')\n",
    "plt.ylabel('True Positive Rate')\n",
    "plt.legend()\n",
    "plt.title('ROC-AUC graph')\n",
    "plt.show()"
   ]
  },
  {
   "cell_type": "markdown",
   "metadata": {},
   "source": [
    "Selecting most helping Parametes"
   ]
  },
  {
   "cell_type": "markdown",
   "metadata": {},
   "source": [
    "Below we have plotted a bar chart of global feature importance based on weights derived from logistic regression. We can use it to compare it with the bar chart generated for individual data samples."
   ]
  },
  {
   "cell_type": "code",
   "execution_count": 70,
   "metadata": {
    "scrolled": true
   },
   "outputs": [
    {
     "data": {
      "image/png": "[encoded data removed]",
      "text/plain": [
       "<Figure size 1080x504 with 1 Axes>"
      ]
     },
     "metadata": {},
     "output_type": "display_data"
    }
   ],
   "source": [
    "plt.rcParams['figure.figsize']=15,7\n",
    "plt.style.use('ggplot')\n",
    "weights=pd.Series(LR.coef_[0], index=['Market/Regular ', 'vehicle_no', 'Current_Location',\n",
    "       'TRANSPORTATION_DISTANCE_IN_KM', 'vehicleType', 'Driver_Name',\n",
    "       'Driver_MobileNo', 'customerID', 'supplierID', 'Material Shipped',\n",
    "       'vehicle_states', 'Origin_states', 'Dest_states', 'Org_Dest_distance'])\n",
    "\n",
    "params_weight =weights.plot(kind='bar', title='feature going to help us for successfull ontime deliveries ')\n",
    "plt.style.use('ggplot')\n",
    "fig=params_weight.get_figure() \n",
    "plt.show()"
   ]
  },
  {
   "cell_type": "markdown",
   "metadata": {},
   "source": [
    "### CONCLUSION"
   ]
  },
  {
   "cell_type": "markdown",
   "metadata": {},
   "source": [
    "#### Parameters that impact on ontime delivery:\n",
    "-Current location\n",
    "\n",
    "-Transportation distance\n",
    "\n",
    "-Vehicle state\n",
    "\n",
    "-Vehicle type\n",
    "\n",
    "-Driver mobile number\n",
    "\n",
    "-Supplier\n",
    "\n",
    "-material shipped\n",
    "\n",
    "-Destination state"
   ]
  },
  {
   "cell_type": "code",
   "execution_count": 71,
   "metadata": {},
   "outputs": [
    {
     "data": {
      "image/png": "[encoded data removed]",
      "text/plain": [
       "<Figure size 576x432 with 1 Axes>"
      ]
     },
     "metadata": {},
     "output_type": "display_data"
    }
   ],
   "source": [
    "with plt.style.context(\"ggplot\"):\n",
    "    fig = plt.figure(figsize=(8,6))\n",
    "    plt.barh(range(len(LR.coef_[0])), LR.coef_[0], color=[\"red\" if coef<0 else \"green\" for coef in LR.coef_[0]])\n",
    "    plt.yticks(range(len(LR.coef_[0])), ['Market/Regular ', 'vehicle_no', 'Current_Location',\n",
    "       'TRANSPORTATION_DISTANCE_IN_KM', 'vehicleType', 'Driver_Name',\n",
    "       'Driver_MobileNo', 'customerID', 'supplierID', 'Material Shipped',\n",
    "       'vehicle_states', 'Origin_states', 'Dest_states', 'Org_Dest_distance']);\n",
    "    plt.title(\"Weights\")"
   ]
  }
 ],
 "metadata": {
  "kernelspec": {
   "display_name": "Python 3",
   "language": "python",
   "name": "python3"
  },
  "language_info": {
   "codemirror_mode": {
    "name": "ipython",
    "version": 3
   },
   "file_extension": ".py",
   "mimetype": "text/x-python",
   "name": "python",
   "nbconvert_exporter": "python",
   "pygments_lexer": "ipython3",
   "version": "3.8.5"
  }
 },
 "nbformat": 4,
 "nbformat_minor": 4
}
